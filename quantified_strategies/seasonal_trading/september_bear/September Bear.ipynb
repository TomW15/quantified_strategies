{
 "cells": [
  {
   "cell_type": "markdown",
   "id": "d9ed5b8a-402b-4333-9921-324ad47fe7da",
   "metadata": {},
   "source": [
    "# September Bear"
   ]
  },
  {
   "cell_type": "code",
   "execution_count": 1,
   "id": "fbbf65b7-446b-40d9-8e52-78049edc394c",
   "metadata": {},
   "outputs": [
    {
     "name": "stderr",
     "output_type": "stream",
     "text": [
      "C:\\Users\\tomw1\\AppData\\Local\\Temp\\ipykernel_20876\\1990966001.py:1: DeprecationWarning: \n",
      "Pyarrow will become a required dependency of pandas in the next major release of pandas (pandas 3.0),\n",
      "(to allow more performant data types, such as the Arrow string type, and better interoperability with other libraries)\n",
      "but was not found to be installed on your system.\n",
      "If this would cause problems for you,\n",
      "please provide us feedback at https://github.com/pandas-dev/pandas/issues/54466\n",
      "        \n",
      "  import pandas as pd\n"
     ]
    }
   ],
   "source": [
    "import pandas as pd\n",
    "import yfinance as yf\n",
    "\n",
    "import available as avb\n",
    "import utils as self_utils\n",
    "from quantified_strategies import utils"
   ]
  },
  {
   "cell_type": "code",
   "execution_count": null,
   "id": "59b014de-f658-4f00-831c-d060ca697e52",
   "metadata": {},
   "outputs": [],
   "source": []
  },
  {
   "cell_type": "code",
   "execution_count": 2,
   "id": "568df4a5-030d-4267-a698-1455b3a74668",
   "metadata": {},
   "outputs": [],
   "source": [
    "def get_positions(df: pd.DataFrame) -> pd.Series:\n",
    "\n",
    "    data = df.loc[df.index.month == MONTH].copy()\n",
    "    data[\"weekday\"] = data.index.map(lambda date: date.weekday())\n",
    "    data[\"is_xday\"] = data[\"weekday\"] == SHORT_DAY\n",
    "    data[\"year\"] = data.index.year\n",
    "    data[\"nth_xday\"] = data.groupby(\"year\")[\"is_xday\"].cumsum()\n",
    "\n",
    "    if COVER_WEEK is None:\n",
    "         pos = -(data[\"nth_xday\"] >= SHORT_WEEK).astype(int)\n",
    "    else:\n",
    "        pos = -((data[\"nth_xday\"] >= SHORT_WEEK) & (data[\"nth_xday\"] < COVER_WEEK)).astype(int)\n",
    "    pos = pos.reindex(index=df.index, fill_value=0.0)\n",
    "\n",
    "    return pos\n",
    "\n",
    "\n",
    "def get_returns(df: pd.Series) -> pd.Series:\n",
    "    return df.pct_change().shift(-1)\n",
    "    "
   ]
  },
  {
   "cell_type": "code",
   "execution_count": null,
   "id": "cc942a89-2e19-4845-82b5-19bd0016c0c7",
   "metadata": {},
   "outputs": [],
   "source": []
  },
  {
   "cell_type": "markdown",
   "id": "db82c8e4-0067-47cc-8051-2bdca54eecb4",
   "metadata": {},
   "source": [
    "## Rules\n",
    "\n",
    "1. Go short on the 3rd Friday of September,\n",
    "2. Cover short one week later."
   ]
  },
  {
   "cell_type": "code",
   "execution_count": 3,
   "id": "487c5427-a191-4524-8f7b-fe0477815e62",
   "metadata": {},
   "outputs": [],
   "source": [
    "MONTH = 9\n",
    "\n",
    "SHORT_DAY = 4\n",
    "SHORT_WEEK = 3\n",
    "\n",
    "COVER_WEEK = 4"
   ]
  },
  {
   "cell_type": "code",
   "execution_count": 4,
   "id": "79d18197-1c97-4636-9d90-66139b13b4c7",
   "metadata": {},
   "outputs": [],
   "source": [
    "TICKER = \"SPY\""
   ]
  },
  {
   "cell_type": "code",
   "execution_count": 5,
   "id": "9069a780-acb0-47bd-b29e-127bad52c162",
   "metadata": {},
   "outputs": [
    {
     "data": {
      "text/html": [
       "<div>\n",
       "<style scoped>\n",
       "    .dataframe tbody tr th:only-of-type {\n",
       "        vertical-align: middle;\n",
       "    }\n",
       "\n",
       "    .dataframe tbody tr th {\n",
       "        vertical-align: top;\n",
       "    }\n",
       "\n",
       "    .dataframe thead th {\n",
       "        text-align: right;\n",
       "    }\n",
       "</style>\n",
       "<table border=\"1\" class=\"dataframe\">\n",
       "  <thead>\n",
       "    <tr style=\"text-align: right;\">\n",
       "      <th></th>\n",
       "      <th>SPY</th>\n",
       "    </tr>\n",
       "    <tr>\n",
       "      <th>Date</th>\n",
       "      <th></th>\n",
       "    </tr>\n",
       "  </thead>\n",
       "  <tbody>\n",
       "    <tr>\n",
       "      <th>1993-01-29</th>\n",
       "      <td>24.840683</td>\n",
       "    </tr>\n",
       "    <tr>\n",
       "      <th>1993-02-01</th>\n",
       "      <td>25.017353</td>\n",
       "    </tr>\n",
       "    <tr>\n",
       "      <th>1993-02-02</th>\n",
       "      <td>25.070358</td>\n",
       "    </tr>\n",
       "    <tr>\n",
       "      <th>1993-02-03</th>\n",
       "      <td>25.335388</td>\n",
       "    </tr>\n",
       "    <tr>\n",
       "      <th>1993-02-04</th>\n",
       "      <td>25.441378</td>\n",
       "    </tr>\n",
       "  </tbody>\n",
       "</table>\n",
       "</div>"
      ],
      "text/plain": [
       "                  SPY\n",
       "Date                 \n",
       "1993-01-29  24.840683\n",
       "1993-02-01  25.017353\n",
       "1993-02-02  25.070358\n",
       "1993-02-03  25.335388\n",
       "1993-02-04  25.441378"
      ]
     },
     "execution_count": 5,
     "metadata": {},
     "output_type": "execute_result"
    }
   ],
   "source": [
    "data = utils.get_data(ticker=TICKER, columns=\"Adj Close\").to_frame(name=TICKER)\n",
    "data.head(5)"
   ]
  },
  {
   "cell_type": "code",
   "execution_count": 6,
   "id": "f8d88796-76e7-4de8-8df4-b8976a83fc9b",
   "metadata": {},
   "outputs": [
    {
     "data": {
      "text/plain": [
       "Date\n",
       "1993-01-29    0.0\n",
       "1993-02-01    0.0\n",
       "1993-02-02    0.0\n",
       "1993-02-03    0.0\n",
       "1993-02-04    0.0\n",
       "Name: nth_xday, dtype: float64"
      ]
     },
     "execution_count": 6,
     "metadata": {},
     "output_type": "execute_result"
    }
   ],
   "source": [
    "pos = get_positions(df=data)\n",
    "pos.head(5)"
   ]
  },
  {
   "cell_type": "code",
   "execution_count": 7,
   "id": "159884f1-79fd-4e59-8fb8-08a62b21f5bd",
   "metadata": {},
   "outputs": [
    {
     "data": {
      "text/plain": [
       "Date\n",
       "1993-09-17   -1.0\n",
       "1993-09-20   -1.0\n",
       "1993-09-21   -1.0\n",
       "1993-09-22   -1.0\n",
       "1993-09-23   -1.0\n",
       "1994-09-16   -1.0\n",
       "1994-09-19   -1.0\n",
       "1994-09-20   -1.0\n",
       "1994-09-21   -1.0\n",
       "1994-09-22   -1.0\n",
       "1995-09-15   -1.0\n",
       "1995-09-18   -1.0\n",
       "1995-09-19   -1.0\n",
       "1995-09-20   -1.0\n",
       "1995-09-21   -1.0\n",
       "Name: nth_xday, dtype: float64"
      ]
     },
     "execution_count": 7,
     "metadata": {},
     "output_type": "execute_result"
    }
   ],
   "source": [
    "pos[pos != 0.0].head(15)"
   ]
  },
  {
   "cell_type": "code",
   "execution_count": 8,
   "id": "32558cab-b8c7-486c-b743-f4e68aa9f63e",
   "metadata": {},
   "outputs": [
    {
     "data": {
      "text/plain": [
       "Date\n",
       "1993-01-29    0.007112\n",
       "1993-02-01    0.002119\n",
       "1993-02-02    0.010571\n",
       "1993-02-03    0.004183\n",
       "1993-02-04   -0.000694\n",
       "Name: SPY, dtype: float64"
      ]
     },
     "execution_count": 8,
     "metadata": {},
     "output_type": "execute_result"
    }
   ],
   "source": [
    "ret = get_returns(df=data[TICKER])\n",
    "ret.head(5)"
   ]
  },
  {
   "cell_type": "code",
   "execution_count": 9,
   "id": "352fdebd-f5c2-4fc2-8952-736ffed330fc",
   "metadata": {},
   "outputs": [
    {
     "data": {
      "text/plain": [
       "Date\n",
       "1993-01-29    0.0\n",
       "1993-02-01    0.0\n",
       "1993-02-02    0.0\n",
       "1993-02-03    0.0\n",
       "1993-02-04   -0.0\n",
       "dtype: float64"
      ]
     },
     "execution_count": 9,
     "metadata": {},
     "output_type": "execute_result"
    }
   ],
   "source": [
    "strat_ret = pos * ret\n",
    "strat_ret.head(5)"
   ]
  },
  {
   "cell_type": "code",
   "execution_count": 17,
   "id": "5cc11b14-8a66-4ad2-8449-7a6e86a74b1e",
   "metadata": {},
   "outputs": [
    {
     "data": {
      "text/plain": [
       "Date\n",
       "1993-09-17    0.008186\n",
       "1993-09-20    0.003439\n",
       "1993-09-21   -0.008282\n",
       "1993-09-22   -0.005476\n",
       "1993-09-23    0.002723\n",
       "1994-09-16   -0.000997\n",
       "1994-09-19    0.018924\n",
       "1994-09-20   -0.000000\n",
       "1994-09-21    0.002369\n",
       "1994-09-22    0.003392\n",
       "dtype: float64"
      ]
     },
     "execution_count": 17,
     "metadata": {},
     "output_type": "execute_result"
    }
   ],
   "source": [
    "strat_ret[pos != 0.0].head(10)"
   ]
  },
  {
   "cell_type": "code",
   "execution_count": 19,
   "id": "fa49e008-dc41-4914-a402-a0e6ccae29e2",
   "metadata": {},
   "outputs": [
    {
     "data": {
      "text/plain": [
       "Date\n",
       "1993-09-17    0.008186\n",
       "1993-09-20    0.011652\n",
       "1993-09-21    0.003274\n",
       "1993-09-22   -0.002219\n",
       "1993-09-23    0.000497\n",
       "                ...   \n",
       "2023-09-15    0.388517\n",
       "2023-09-18    0.391396\n",
       "2023-09-19    0.404188\n",
       "2023-09-20    0.427397\n",
       "2023-09-21    0.430606\n",
       "Length: 151, dtype: float64"
      ]
     },
     "execution_count": 19,
     "metadata": {},
     "output_type": "execute_result"
    }
   ],
   "source": [
    "utils.get_cumulative_return(returns=strat_ret, total=False)[pos != 0.0]"
   ]
  },
  {
   "cell_type": "code",
   "execution_count": 10,
   "id": "35990a70-056b-4b88-bc6c-7c5404726f48",
   "metadata": {},
   "outputs": [],
   "source": [
    "df1 = self_utils.run(ticker=TICKER, full=True)"
   ]
  },
  {
   "cell_type": "code",
   "execution_count": 22,
   "id": "de9ad649-dc8b-42d4-910d-75a6fac2d77e",
   "metadata": {},
   "outputs": [
    {
     "data": {
      "text/html": [
       "<div>\n",
       "<style scoped>\n",
       "    .dataframe tbody tr th:only-of-type {\n",
       "        vertical-align: middle;\n",
       "    }\n",
       "\n",
       "    .dataframe tbody tr th {\n",
       "        vertical-align: top;\n",
       "    }\n",
       "\n",
       "    .dataframe thead th {\n",
       "        text-align: right;\n",
       "    }\n",
       "</style>\n",
       "<table border=\"1\" class=\"dataframe\">\n",
       "  <thead>\n",
       "    <tr style=\"text-align: right;\">\n",
       "      <th></th>\n",
       "      <th>asset</th>\n",
       "      <th>ret</th>\n",
       "      <th>ret_shifted</th>\n",
       "      <th>active</th>\n",
       "      <th>strat_ret</th>\n",
       "      <th>cum_strat_ret</th>\n",
       "      <th>cum_hodl_ret</th>\n",
       "      <th>enter_flag</th>\n",
       "      <th>trade_number</th>\n",
       "    </tr>\n",
       "    <tr>\n",
       "      <th>Date</th>\n",
       "      <th></th>\n",
       "      <th></th>\n",
       "      <th></th>\n",
       "      <th></th>\n",
       "      <th></th>\n",
       "      <th></th>\n",
       "      <th></th>\n",
       "      <th></th>\n",
       "      <th></th>\n",
       "    </tr>\n",
       "  </thead>\n",
       "  <tbody>\n",
       "    <tr>\n",
       "      <th>1993-01-29</th>\n",
       "      <td>24.840683</td>\n",
       "      <td>NaN</td>\n",
       "      <td>0.007112</td>\n",
       "      <td>False</td>\n",
       "      <td>-0.0</td>\n",
       "      <td>0.00000</td>\n",
       "      <td>0.007112</td>\n",
       "      <td>False</td>\n",
       "      <td>0</td>\n",
       "    </tr>\n",
       "    <tr>\n",
       "      <th>1993-02-01</th>\n",
       "      <td>25.017353</td>\n",
       "      <td>0.007112</td>\n",
       "      <td>0.002119</td>\n",
       "      <td>False</td>\n",
       "      <td>-0.0</td>\n",
       "      <td>0.00000</td>\n",
       "      <td>0.009246</td>\n",
       "      <td>False</td>\n",
       "      <td>0</td>\n",
       "    </tr>\n",
       "    <tr>\n",
       "      <th>1993-02-02</th>\n",
       "      <td>25.070358</td>\n",
       "      <td>0.002119</td>\n",
       "      <td>0.010571</td>\n",
       "      <td>False</td>\n",
       "      <td>-0.0</td>\n",
       "      <td>0.00000</td>\n",
       "      <td>0.019915</td>\n",
       "      <td>False</td>\n",
       "      <td>0</td>\n",
       "    </tr>\n",
       "    <tr>\n",
       "      <th>1993-02-03</th>\n",
       "      <td>25.335388</td>\n",
       "      <td>0.010571</td>\n",
       "      <td>0.004183</td>\n",
       "      <td>False</td>\n",
       "      <td>-0.0</td>\n",
       "      <td>0.00000</td>\n",
       "      <td>0.024182</td>\n",
       "      <td>False</td>\n",
       "      <td>0</td>\n",
       "    </tr>\n",
       "    <tr>\n",
       "      <th>1993-02-04</th>\n",
       "      <td>25.441378</td>\n",
       "      <td>0.004183</td>\n",
       "      <td>-0.000694</td>\n",
       "      <td>False</td>\n",
       "      <td>0.0</td>\n",
       "      <td>0.00000</td>\n",
       "      <td>0.023471</td>\n",
       "      <td>False</td>\n",
       "      <td>0</td>\n",
       "    </tr>\n",
       "    <tr>\n",
       "      <th>...</th>\n",
       "      <td>...</td>\n",
       "      <td>...</td>\n",
       "      <td>...</td>\n",
       "      <td>...</td>\n",
       "      <td>...</td>\n",
       "      <td>...</td>\n",
       "      <td>...</td>\n",
       "      <td>...</td>\n",
       "      <td>...</td>\n",
       "    </tr>\n",
       "    <tr>\n",
       "      <th>2024-02-12</th>\n",
       "      <td>500.980011</td>\n",
       "      <td>-0.000439</td>\n",
       "      <td>-0.013773</td>\n",
       "      <td>False</td>\n",
       "      <td>0.0</td>\n",
       "      <td>0.32786</td>\n",
       "      <td>18.889952</td>\n",
       "      <td>False</td>\n",
       "      <td>31</td>\n",
       "    </tr>\n",
       "    <tr>\n",
       "      <th>2024-02-13</th>\n",
       "      <td>494.079987</td>\n",
       "      <td>-0.013773</td>\n",
       "      <td>0.009088</td>\n",
       "      <td>False</td>\n",
       "      <td>-0.0</td>\n",
       "      <td>0.32786</td>\n",
       "      <td>19.070704</td>\n",
       "      <td>False</td>\n",
       "      <td>31</td>\n",
       "    </tr>\n",
       "    <tr>\n",
       "      <th>2024-02-14</th>\n",
       "      <td>498.570007</td>\n",
       "      <td>0.009088</td>\n",
       "      <td>0.006900</td>\n",
       "      <td>False</td>\n",
       "      <td>-0.0</td>\n",
       "      <td>0.32786</td>\n",
       "      <td>19.209187</td>\n",
       "      <td>False</td>\n",
       "      <td>31</td>\n",
       "    </tr>\n",
       "    <tr>\n",
       "      <th>2024-02-15</th>\n",
       "      <td>502.010010</td>\n",
       "      <td>0.006900</td>\n",
       "      <td>-0.004980</td>\n",
       "      <td>False</td>\n",
       "      <td>0.0</td>\n",
       "      <td>0.32786</td>\n",
       "      <td>19.108546</td>\n",
       "      <td>False</td>\n",
       "      <td>31</td>\n",
       "    </tr>\n",
       "    <tr>\n",
       "      <th>2024-02-16</th>\n",
       "      <td>499.510010</td>\n",
       "      <td>-0.004980</td>\n",
       "      <td>NaN</td>\n",
       "      <td>False</td>\n",
       "      <td>NaN</td>\n",
       "      <td>NaN</td>\n",
       "      <td>NaN</td>\n",
       "      <td>False</td>\n",
       "      <td>31</td>\n",
       "    </tr>\n",
       "  </tbody>\n",
       "</table>\n",
       "<p>7819 rows × 9 columns</p>\n",
       "</div>"
      ],
      "text/plain": [
       "                 asset       ret  ret_shifted  active  strat_ret  \\\n",
       "Date                                                               \n",
       "1993-01-29   24.840683       NaN     0.007112   False       -0.0   \n",
       "1993-02-01   25.017353  0.007112     0.002119   False       -0.0   \n",
       "1993-02-02   25.070358  0.002119     0.010571   False       -0.0   \n",
       "1993-02-03   25.335388  0.010571     0.004183   False       -0.0   \n",
       "1993-02-04   25.441378  0.004183    -0.000694   False        0.0   \n",
       "...                ...       ...          ...     ...        ...   \n",
       "2024-02-12  500.980011 -0.000439    -0.013773   False        0.0   \n",
       "2024-02-13  494.079987 -0.013773     0.009088   False       -0.0   \n",
       "2024-02-14  498.570007  0.009088     0.006900   False       -0.0   \n",
       "2024-02-15  502.010010  0.006900    -0.004980   False        0.0   \n",
       "2024-02-16  499.510010 -0.004980          NaN   False        NaN   \n",
       "\n",
       "            cum_strat_ret  cum_hodl_ret  enter_flag  trade_number  \n",
       "Date                                                               \n",
       "1993-01-29        0.00000      0.007112       False             0  \n",
       "1993-02-01        0.00000      0.009246       False             0  \n",
       "1993-02-02        0.00000      0.019915       False             0  \n",
       "1993-02-03        0.00000      0.024182       False             0  \n",
       "1993-02-04        0.00000      0.023471       False             0  \n",
       "...                   ...           ...         ...           ...  \n",
       "2024-02-12        0.32786     18.889952       False            31  \n",
       "2024-02-13        0.32786     19.070704       False            31  \n",
       "2024-02-14        0.32786     19.209187       False            31  \n",
       "2024-02-15        0.32786     19.108546       False            31  \n",
       "2024-02-16            NaN           NaN       False            31  \n",
       "\n",
       "[7819 rows x 9 columns]"
      ]
     },
     "execution_count": 22,
     "metadata": {},
     "output_type": "execute_result"
    }
   ],
   "source": [
    "df1"
   ]
  },
  {
   "cell_type": "code",
   "execution_count": 25,
   "id": "21702910-7a63-4aa8-80d8-994cbda7dc47",
   "metadata": {},
   "outputs": [
    {
     "data": {
      "text/plain": [
       "<Axes: xlabel='Date'>"
      ]
     },
     "execution_count": 25,
     "metadata": {},
     "output_type": "execute_result"
    },
    {
     "data": {
      "image/png": "[encoded data removed]",
      "text/plain": [
       "<Figure size 640x480 with 1 Axes>"
      ]
     },
     "metadata": {},
     "output_type": "display_data"
    }
   ],
   "source": [
    "pd.concat([df1.loc[df1[\"active\"], \"strat_ret\"], strat_ret[pos != 0.0]], axis=1).sort_index().plot()"
   ]
  },
  {
   "cell_type": "markdown",
   "id": "28c84b3f-006b-4238-8dfa-c8390ed5d9f0",
   "metadata": {},
   "source": [
    "## Describe Strategy"
   ]
  },
  {
   "cell_type": "code",
   "execution_count": 12,
   "id": "eae8d93d-3856-4e47-abab-52603b7e1b3b",
   "metadata": {},
   "outputs": [
    {
     "data": {
      "text/plain": [
       "Asset                           SPY\n",
       "Start                    1993-01-29\n",
       "End                      2024-02-16\n",
       "Mean Return                0.24273%\n",
       "Total Return                 43.06%\n",
       "Median Return              0.20139%\n",
       "1st Quartile              -0.32051%\n",
       "3rd Quartile               0.81115%\n",
       "Std Dev Return             1.03384%\n",
       "CAGR                     23.743 bps\n",
       "Trade CAGR                   1.162%\n",
       "Ann. CAGR                   81.779%\n",
       "Activity Ratio                1.93%\n",
       "Number of Trades               31.0\n",
       "Average Hold Period       4.87 Days\n",
       "Daily Sharpe Ratio           0.2348\n",
       "Ann. Sharpe Ratio            0.5179\n",
       "Daily Sortino Ratio          0.3362\n",
       "Ann. Sortino Ratio           0.7417\n",
       "Daily Calmar Ratio           7.7732\n",
       "Hit Ratio                    62.25%\n",
       "Profit Factor                 1.95x\n",
       "MDD                          -5.54%\n",
       "MDD Start                1997-09-24\n",
       "MDD Bottom               1998-09-22\n",
       "MDD End                  1999-09-22\n",
       "MDD Decline Duration         5 Days\n",
       "MDD Recovery Duration        7 Days\n",
       "dtype: object"
      ]
     },
     "execution_count": 12,
     "metadata": {},
     "output_type": "execute_result"
    }
   ],
   "source": [
    "utils.describe(returns=strat_ret, pos=pos, daily=True, asset=TICKER)"
   ]
  },
  {
   "cell_type": "code",
   "execution_count": 44,
   "id": "0c3eb54a-0651-4eff-9112-5bcd2d804531",
   "metadata": {},
   "outputs": [
    {
     "data": {
      "text/plain": [
       "Asset                            SPY\n",
       "Start                     1993-12-31\n",
       "End                       2024-12-31\n",
       "Mean Return                 1.13392%\n",
       "Total Return                  42.07%\n",
       "Median Return               0.57313%\n",
       "1st Quartile               -0.73059%\n",
       "3rd Quartile                2.33645%\n",
       "Std Dev Return              2.54339%\n",
       "CAGR                     110.341 bps\n",
       "Trade CAGR                       N/A\n",
       "Ann. CAGR                        N/A\n",
       "Activity Ratio               100.00%\n",
       "Number of Trades                 0.0\n",
       "Average Hold Period       32.00 Days\n",
       "Daily Sharpe Ratio            0.4458\n",
       "Ann. Sharpe Ratio             7.0773\n",
       "Daily Sortino Ratio           1.5993\n",
       "Ann. Sortino Ratio           25.3877\n",
       "Daily Calmar Ratio           11.8686\n",
       "Hit Ratio                     59.38%\n",
       "Profit Factor                  3.67x\n",
       "MDD                           -3.54%\n",
       "MDD Start                 2001-12-31\n",
       "MDD Bottom                2007-12-31\n",
       "MDD End                   2008-12-31\n",
       "MDD Decline Duration          7 Days\n",
       "MDD Recovery Duration         2 Days\n",
       "dtype: object"
      ]
     },
     "execution_count": 44,
     "metadata": {},
     "output_type": "execute_result"
    }
   ],
   "source": [
    "utils.describe(returns=strat_ret.resample(\"YE\").apply(lambda x: utils.get_cumulative_return(returns=x, total=True)), daily=False, asset=TICKER)"
   ]
  },
  {
   "cell_type": "code",
   "execution_count": null,
   "id": "0d96ac20-24fc-44cf-8577-e6e64a669ffb",
   "metadata": {},
   "outputs": [],
   "source": []
  },
  {
   "cell_type": "code",
   "execution_count": 45,
   "id": "5aa1753b-51ae-4156-a64a-d746b1743f71",
   "metadata": {},
   "outputs": [
    {
     "data": {
      "image/png": "[encoded data removed]",
      "text/plain": [
       "<Figure size 640x480 with 1 Axes>"
      ]
     },
     "metadata": {},
     "output_type": "display_data"
    }
   ],
   "source": [
    "import matplotlib.pyplot as plt\n",
    "\n",
    "fig, ax = plt.subplots()\n",
    "\n",
    "ax.plot(utils.get_cumulative_return(returns=strat_ret, total=False), label=\"Strategy\")\n",
    "ax.plot(utils.get_cumulative_return(returns=ret[pos != 0.0], total=False), label=\"HODL\")\n",
    "\n",
    "plt.title(f\"September Bear: {TICKER!r}\")\n",
    "plt.legend(loc=\"best\")\n",
    "plt.show()"
   ]
  },
  {
   "cell_type": "code",
   "execution_count": null,
   "id": "e1049cea-12a0-4c9b-baa0-64b540d4039b",
   "metadata": {},
   "outputs": [],
   "source": []
  },
  {
   "cell_type": "code",
   "execution_count": null,
   "id": "af009f36-8c7f-46e7-9434-56fea26686e6",
   "metadata": {},
   "outputs": [],
   "source": []
  },
  {
   "cell_type": "code",
   "execution_count": null,
   "id": "49aa8230-7d0c-4ede-8fba-e26828382f0e",
   "metadata": {},
   "outputs": [],
   "source": []
  }
 ],
 "metadata": {
  "kernelspec": {
   "display_name": "Python 3 (ipykernel)",
   "language": "python",
   "name": "python3"
  },
  "language_info": {
   "codemirror_mode": {
    "name": "ipython",
    "version": 3
   },
   "file_extension": ".py",
   "mimetype": "text/x-python",
   "name": "python",
   "nbconvert_exporter": "python",
   "pygments_lexer": "ipython3",
   "version": "3.11.0"
  }
 },
 "nbformat": 4,
 "nbformat_minor": 5
}
