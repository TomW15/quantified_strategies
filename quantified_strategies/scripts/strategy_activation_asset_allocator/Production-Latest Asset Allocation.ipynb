{
 "cells": [
  {
   "cell_type": "code",
   "execution_count": 1,
   "id": "10fc2577-0c86-44fe-9569-f7bd274dc732",
   "metadata": {},
   "outputs": [],
   "source": [
    "# Title:"
   ]
  },
  {
   "cell_type": "code",
   "execution_count": 3,
   "id": "dc5f7df6-6f5b-4863-be2d-00f37a418154",
   "metadata": {},
   "outputs": [
    {
     "name": "stderr",
     "output_type": "stream",
     "text": [
      "\u001b[32m2024-03-05 19:44:53.177\u001b[0m | \u001b[1mINFO    \u001b[0m | \u001b[36mquantified_strategies.ml_utils\u001b[0m:\u001b[36mget_device\u001b[0m:\u001b[36m26\u001b[0m - \u001b[1mRunning on the CPU\u001b[0m\n"
     ]
    }
   ],
   "source": [
    "# packages\n",
    "import datetime as dt\n",
    "import pandas as pd\n",
    "\n",
    "import utils"
   ]
  },
  {
   "cell_type": "code",
   "execution_count": null,
   "id": "a4568554-a5a6-4564-a283-6bfa34b8155d",
   "metadata": {},
   "outputs": [],
   "source": []
  },
  {
   "cell_type": "code",
   "execution_count": 4,
   "id": "cef71855-ec78-4201-9ec7-53f4467cecec",
   "metadata": {},
   "outputs": [
    {
     "name": "stdout",
     "output_type": "stream",
     "text": [
      "May need to change to fit other strategy\n"
     ]
    }
   ],
   "source": [
    "from loguru import logger\n",
    "import typing as t\n",
    "\n",
    "from quantified_strategies.event_trading import russell_rebalance, super_bowl\n",
    "from quantified_strategies.overnight_trading import short_term_reversal\n",
    "from quantified_strategies.seasonal_trading import (\n",
    "    buy_when_yields_are_low, pay_day_strategy, santa_claus_strategy, september_bear, tax_day_strategy, turn_around_tuesday_strategy)\n",
    "from quantified_strategies.technical_trading import contrarian_trading\n",
    "\n",
    "from quantified_strategies import strategy_utils\n",
    "\n",
    "def get_active_strategies(strategy_map: t.Dict[str, str | t.List[str]], date: dt.date, verbose: bool = True) -> t.Dict[str, t.List[str]]:\n",
    "    \n",
    "    strategy_map_list = {strat: universe if isinstance(universe, list) else [universe] for strat, universe in strategy_map.items()}\n",
    "\n",
    "    active_strats = {strat: [] for strat in strategy_map.keys()}\n",
    "    \n",
    "    if (tickers := strategy_map_list.get(\"russell_rebalance\")) and russell_rebalance.activity.is_active(date=date):\n",
    "        if verbose:\n",
    "            logger.info(f\"Active: 'russell_rebalance' -> {','.join(tickers)}\")\n",
    "        active_strats[\"russell_rebalance\"] += tickers\n",
    "        \n",
    "    if (tickers := strategy_map_list.get(\"super_bowl\")) and super_bowl.activity.is_active(date=date):\n",
    "        if verbose:\n",
    "            logger.info(f\"Active: 'super_bowl' -> {','.join(tickers)}\")\n",
    "        active_strats[\"super_bowl\"] += tickers\n",
    "        \n",
    "    if tickers := strategy_map_list.get(\"short_term_reversal\"):\n",
    "        for ticker in tickers:\n",
    "            if short_term_reversal.activity.is_active(data=short_term_reversal.utils.fetch(ticker=ticker), date=date):\n",
    "                if verbose:\n",
    "                    logger.info(f\"Active: 'short_term_reversal' -> {ticker!r}\")\n",
    "                active_strats[\"short_term_reversal\"].append(ticker)\n",
    "        \n",
    "    if (tickers := strategy_map_list.get(\"buy_when_yields_are_low\")) and buy_when_yields_are_low.activity.is_active(treasury=buy_when_yields_are_low.utils.fetch_treasury(), date=date, window=15):\n",
    "        if verbose:\n",
    "            logger.info(f\"Active: 'buy_when_yields_are_low' -> {','.join(tickers)}\")\n",
    "        active_strats[\"buy_when_yields_are_low\"] += tickers\n",
    "        \n",
    "    if (tickers := strategy_map_list.get(\"pay_day_strategy\")) and pay_day_strategy.activity.is_active(date=date):\n",
    "        if verbose:\n",
    "            logger.info(f\"Active: 'pay_day_strategy' -> {','.join(tickers)}\")\n",
    "        active_strats[\"pay_day_strategy\"] += tickers\n",
    "        \n",
    "    if (tickers := strategy_map_list.get(\"sankt_nikolaus_strategy\")) and santa_claus_strategy.sankt_nikolaus.activity.is_active(date=date):\n",
    "        if verbose:\n",
    "            logger.info(f\"Active: 'sankt_nikolaus_strategy' -> {','.join(tickers)}\")\n",
    "        active_strats[\"sankt_nikolaus_strategy\"] += tickers\n",
    "        \n",
    "    if (tickers := strategy_map_list.get(\"santa_claus_strategy\")) and santa_claus_strategy.santa_claus.activity.is_active(date=date):\n",
    "        if verbose:\n",
    "            logger.info(f\"Active: 'santa_claus_strategy' -> {','.join(tickers)}\")\n",
    "        active_strats[\"santa_claus_strategy\"] += tickers\n",
    "        \n",
    "    if (tickers := strategy_map_list.get(\"september_bear\")) and september_bear.activity.is_active(data=None, date=date, xday=4, week_enter=3, cover_duration=1):\n",
    "        if verbose:\n",
    "            logger.info(f\"Active: 'september_bear' -> {','.join(tickers)}\")\n",
    "        active_strats[\"september_bear\"] += tickers\n",
    "        \n",
    "    if (tickers := strategy_map_list.get(\"tax_day_strategy\")) and tax_day_strategy.activity.is_active(data=None, date=date, enter_before=dict(month=3, day=31), exit_after=dict(month=4, day=15)):\n",
    "        if verbose:\n",
    "            logger.info(f\"Active: 'tax_day_strategy' -> {','.join(tickers)}\")\n",
    "        active_strats[\"tax_day_strategy\"] += tickers\n",
    "        \n",
    "    if tickers := strategy_map_list.get(\"turn_around_tuesday_strategy\"):\n",
    "        for ticker in tickers:\n",
    "            if turn_around_tuesday_strategy.activity.is_active(data=turn_around_tuesday_strategy.utils.fetch(ticker=ticker), date=date):\n",
    "                if verbose:\n",
    "                    logger.info(f\"Active: 'turn_around_tuesday_strategy' -> {ticker!r}\")\n",
    "                active_strats[\"turn_around_tuesday_strategy\"].append(ticker)\n",
    "\n",
    "    active_strats = {strat: tickers for strat, tickers in active_strats.items() if len(tickers)}\n",
    "\n",
    "    return active_strats\n"
   ]
  },
  {
   "cell_type": "code",
   "execution_count": 6,
   "id": "1475ff33-3f10-43d2-8f73-f02b8f7fb75b",
   "metadata": {},
   "outputs": [
    {
     "data": {
      "text/plain": [
       "{'super_bowl': ['VUSA.LSE', 'CNX1.LSE'],\n",
       " 'short_term_reversal': ['VUSA.LSE', 'CNX1.LSE'],\n",
       " 'buy_when_yields_are_low': ['VUSA.LSE', 'CNX1.LSE'],\n",
       " 'pay_day_strategy': ['VUSA.LSE', 'CNX1.LSE'],\n",
       " 'santa_claus_strategy': ['VUSA.LSE', 'CNX1.LSE'],\n",
       " 'september_bear': ['VUSA.LSE', 'CNX1.LSE'],\n",
       " 'tax_day_strategy': ['VUSA.LSE', 'CNX1.LSE'],\n",
       " 'turn_around_tuesday_strategy': ['VUSA.LSE', 'CNX1.LSE']}"
      ]
     },
     "execution_count": 6,
     "metadata": {},
     "output_type": "execute_result"
    }
   ],
   "source": [
    "TRADABLES = [\"VUSA.LSE\", \"CNX1.LSE\"]\n",
    "YAHOO_TRADABLES = [asset.replace(\".LSE\", \".L\") for asset in TRADABLES]\n",
    "\n",
    "ASSETS = TRADABLES + [utils.CASH]\n",
    "calc_date = dt.date.today()\n",
    "\n",
    "STRATEGY_UNIVERSE_MAP = {\n",
    "    \"super_bowl\": TRADABLES,\n",
    "    \"short_term_reversal\": TRADABLES,\n",
    "    \"buy_when_yields_are_low\": TRADABLES,\n",
    "    \"pay_day_strategy\": TRADABLES,\n",
    "    \"santa_claus_strategy\": TRADABLES,\n",
    "    \"september_bear\": TRADABLES,\n",
    "    \"tax_day_strategy\": TRADABLES,\n",
    "    \"turn_around_tuesday_strategy\": TRADABLES,\n",
    "}\n",
    "STRATEGY_UNIVERSE_MAP"
   ]
  },
  {
   "cell_type": "code",
   "execution_count": 7,
   "id": "2cf5faeb-eca5-477a-bcc2-b30fb2edd7b6",
   "metadata": {},
   "outputs": [
    {
     "name": "stdout",
     "output_type": "stream",
     "text": [
      "remove api from here\n",
      "remove api from here\n"
     ]
    },
    {
     "data": {
      "image/png": "[encoded data removed]",
      "text/plain": [
       "<Figure size 1500x700 with 1 Axes>"
      ]
     },
     "metadata": {},
     "output_type": "display_data"
    }
   ],
   "source": [
    "from pytz import timezone\n",
    "\n",
    "data = pd.concat([\n",
    "    strategy_utils.get_today_data(\n",
    "        ticker=ticker, \n",
    "        columns=\"Close\", \n",
    "    ).to_frame(name=ticker)\n",
    "    for ticker in YAHOO_TRADABLES\n",
    "], axis=1)\n",
    "data.columns = TRADABLES\n",
    "data = data.ffill()\n",
    "ret = 100 * (data.pct_change(fill_method=None).fillna(0.0) + 1).cumprod()\n",
    "ret.index = ret.index.tz_convert(\"Europe/London\")\n",
    "\n",
    "ret2 = pd.DataFrame(ret.iloc[-1].to_dict(), index=pd.date_range(start=ret.index[-1], end=dt.datetime.now(tz=timezone(\"Europe/London\")), freq=\"1min\"))\n",
    "\n",
    "last_close = pd.concat([\n",
    "    strategy_utils.get_intraday_data(\n",
    "        ticker=ticker, \n",
    "        columns=\"Close\",\n",
    "        start=calc_date-dt.timedelta(days=7), \n",
    "        end=calc_date,\n",
    "    ).to_frame(name=ticker)\n",
    "    for ticker in TRADABLES\n",
    "], axis=1)\n",
    "last_close = last_close.loc[(last_close.index.date != calc_date)].iloc[-1]\n",
    "\n",
    "\n",
    "from matplotlib import pyplot as plt\n",
    "from matplotlib import dates\n",
    "\n",
    "colors = plt.rcParams[\"axes.prop_cycle\"].by_key()[\"color\"]\n",
    "color_map = {asset: colors[i] for i, asset in enumerate(TRADABLES)}\n",
    "\n",
    "fig, ax = plt.subplots(figsize=(15, 7))\n",
    "for asset in TRADABLES:\n",
    "    ax.plot(ret[asset], color=color_map[asset], label=asset)\n",
    "    last = 100 * last_close[asset] / data[asset].dropna().iloc[0]\n",
    "    ax.scatter([ret.index[0]], [last], color=color_map[asset], marker=\"*\")\n",
    "    ax.axhline(y=last, color=color_map[asset], linestyle=\"--\", alpha=0.5)\n",
    "    ax.plot(ret2[asset], alpha=0.4, linestyle=\"--\", color=color_map[asset])\n",
    "ax.xaxis.set_major_formatter(dates.DateFormatter('%H:%M'))\n",
    "plt.xlabel(\"Time\")\n",
    "plt.ylabel(\"Performance (Standardized to 100)\")\n",
    "plt.title(f\"Performance of {', '.join(TRADABLES[:-1]) + f' and {TRADABLES[-1]}'} on {calc_date:%d/%m/%Y}\")\n",
    "plt.legend(loc=\"upper left\")\n",
    "plt.show()\n"
   ]
  },
  {
   "cell_type": "code",
   "execution_count": null,
   "id": "a5b32f22-056a-43b4-8650-4d7015b42458",
   "metadata": {},
   "outputs": [],
   "source": []
  },
  {
   "cell_type": "code",
   "execution_count": null,
   "id": "392ca935-ba4b-42f4-849c-e123c2f76fdc",
   "metadata": {},
   "outputs": [],
   "source": []
  },
  {
   "cell_type": "code",
   "execution_count": 8,
   "id": "16e6a662-20ff-4821-a95e-6e07e8924f9b",
   "metadata": {},
   "outputs": [
    {
     "name": "stdout",
     "output_type": "stream",
     "text": [
      "{}\n",
      "remove api from here\n",
      "{}\n",
      "remove api from here\n"
     ]
    },
    {
     "name": "stderr",
     "output_type": "stream",
     "text": [
      "\u001b[32m2024-03-05 19:45:24.085\u001b[0m | \u001b[1mINFO    \u001b[0m | \u001b[36m__main__\u001b[0m:\u001b[36mget_active_strategies\u001b[0m:\u001b[36m42\u001b[0m - \u001b[1mActive: 'pay_day_strategy' -> VUSA.LSE,CNX1.LSE\u001b[0m\n"
     ]
    },
    {
     "name": "stdout",
     "output_type": "stream",
     "text": [
      "{}\n",
      "remove api from here\n"
     ]
    },
    {
     "name": "stderr",
     "output_type": "stream",
     "text": [
      "\u001b[32m2024-03-05 19:45:25.680\u001b[0m | \u001b[1mINFO    \u001b[0m | \u001b[36m__main__\u001b[0m:\u001b[36mget_active_strategies\u001b[0m:\u001b[36m69\u001b[0m - \u001b[1mActive: 'turn_around_tuesday_strategy' -> 'VUSA.LSE'\u001b[0m\n"
     ]
    },
    {
     "name": "stdout",
     "output_type": "stream",
     "text": [
      "{}\n",
      "remove api from here\n"
     ]
    },
    {
     "name": "stderr",
     "output_type": "stream",
     "text": [
      "\u001b[32m2024-03-05 19:45:26.934\u001b[0m | \u001b[1mINFO    \u001b[0m | \u001b[36m__main__\u001b[0m:\u001b[36mget_active_strategies\u001b[0m:\u001b[36m69\u001b[0m - \u001b[1mActive: 'turn_around_tuesday_strategy' -> 'CNX1.LSE'\u001b[0m\n"
     ]
    },
    {
     "data": {
      "text/plain": [
       "{'pay_day_strategy': ['VUSA.LSE', 'CNX1.LSE'],\n",
       " 'turn_around_tuesday_strategy': ['VUSA.LSE', 'CNX1.LSE']}"
      ]
     },
     "execution_count": 8,
     "metadata": {},
     "output_type": "execute_result"
    }
   ],
   "source": [
    "# Fetch active strategies\n",
    "active_strategies = get_active_strategies(strategy_map=STRATEGY_UNIVERSE_MAP, date=calc_date)\n",
    "active_strategies"
   ]
  },
  {
   "cell_type": "code",
   "execution_count": 9,
   "id": "36350efb-06b1-47ce-85a2-8319b52a55d4",
   "metadata": {},
   "outputs": [
    {
     "data": {
      "text/html": [
       "<div>\n",
       "<style scoped>\n",
       "    .dataframe tbody tr th:only-of-type {\n",
       "        vertical-align: middle;\n",
       "    }\n",
       "\n",
       "    .dataframe tbody tr th {\n",
       "        vertical-align: top;\n",
       "    }\n",
       "\n",
       "    .dataframe thead tr th {\n",
       "        text-align: left;\n",
       "    }\n",
       "</style>\n",
       "<table border=\"1\" class=\"dataframe\">\n",
       "  <thead>\n",
       "    <tr>\n",
       "      <th></th>\n",
       "      <th colspan=\"2\" halign=\"left\">super_bowl</th>\n",
       "      <th colspan=\"2\" halign=\"left\">short_term_reversal</th>\n",
       "      <th colspan=\"2\" halign=\"left\">buy_when_yields_are_low</th>\n",
       "      <th colspan=\"2\" halign=\"left\">pay_day_strategy</th>\n",
       "      <th colspan=\"2\" halign=\"left\">santa_claus_strategy</th>\n",
       "      <th colspan=\"2\" halign=\"left\">september_bear</th>\n",
       "      <th colspan=\"2\" halign=\"left\">tax_day_strategy</th>\n",
       "      <th colspan=\"2\" halign=\"left\">turn_around_tuesday_strategy</th>\n",
       "    </tr>\n",
       "    <tr>\n",
       "      <th></th>\n",
       "      <th>VUSA.LSE</th>\n",
       "      <th>CNX1.LSE</th>\n",
       "      <th>VUSA.LSE</th>\n",
       "      <th>CNX1.LSE</th>\n",
       "      <th>VUSA.LSE</th>\n",
       "      <th>CNX1.LSE</th>\n",
       "      <th>VUSA.LSE</th>\n",
       "      <th>CNX1.LSE</th>\n",
       "      <th>VUSA.LSE</th>\n",
       "      <th>CNX1.LSE</th>\n",
       "      <th>VUSA.LSE</th>\n",
       "      <th>CNX1.LSE</th>\n",
       "      <th>VUSA.LSE</th>\n",
       "      <th>CNX1.LSE</th>\n",
       "      <th>VUSA.LSE</th>\n",
       "      <th>CNX1.LSE</th>\n",
       "    </tr>\n",
       "  </thead>\n",
       "  <tbody>\n",
       "    <tr>\n",
       "      <th>2024-03-05</th>\n",
       "      <td>0</td>\n",
       "      <td>0</td>\n",
       "      <td>0</td>\n",
       "      <td>0</td>\n",
       "      <td>0</td>\n",
       "      <td>0</td>\n",
       "      <td>1</td>\n",
       "      <td>1</td>\n",
       "      <td>0</td>\n",
       "      <td>0</td>\n",
       "      <td>0</td>\n",
       "      <td>0</td>\n",
       "      <td>0</td>\n",
       "      <td>0</td>\n",
       "      <td>1</td>\n",
       "      <td>1</td>\n",
       "    </tr>\n",
       "  </tbody>\n",
       "</table>\n",
       "</div>"
      ],
      "text/plain": [
       "           super_bowl          short_term_reversal           \\\n",
       "             VUSA.LSE CNX1.LSE            VUSA.LSE CNX1.LSE   \n",
       "2024-03-05          0        0                   0        0   \n",
       "\n",
       "           buy_when_yields_are_low          pay_day_strategy           \\\n",
       "                          VUSA.LSE CNX1.LSE         VUSA.LSE CNX1.LSE   \n",
       "2024-03-05                       0        0                1        1   \n",
       "\n",
       "           santa_claus_strategy          september_bear           \\\n",
       "                       VUSA.LSE CNX1.LSE       VUSA.LSE CNX1.LSE   \n",
       "2024-03-05                    0        0              0        0   \n",
       "\n",
       "           tax_day_strategy          turn_around_tuesday_strategy           \n",
       "                   VUSA.LSE CNX1.LSE                     VUSA.LSE CNX1.LSE  \n",
       "2024-03-05                0        0                            1        1  "
      ]
     },
     "execution_count": 9,
     "metadata": {},
     "output_type": "execute_result"
    }
   ],
   "source": [
    "X_raw = pd.concat([pd.DataFrame(0, index=[calc_date], columns=pd.MultiIndex.from_product([[key], values])) for key, values in STRATEGY_UNIVERSE_MAP.items()], axis=1)\n",
    "for strat_name, strat_assets in active_strategies.items():\n",
    "    for strat_asset in strat_assets:\n",
    "        X_raw.loc[calc_date, (X_raw.columns.get_level_values(0) == strat_name) & (X_raw.columns.get_level_values(1) == strat_asset)] = 1\n",
    "X_raw"
   ]
  },
  {
   "cell_type": "code",
   "execution_count": 12,
   "id": "014a9bad-6eb5-46b7-b7d2-1e5fb8685f49",
   "metadata": {},
   "outputs": [
    {
     "data": {
      "text/html": [
       "<div>\n",
       "<style scoped>\n",
       "    .dataframe tbody tr th:only-of-type {\n",
       "        vertical-align: middle;\n",
       "    }\n",
       "\n",
       "    .dataframe tbody tr th {\n",
       "        vertical-align: top;\n",
       "    }\n",
       "\n",
       "    .dataframe thead th {\n",
       "        text-align: right;\n",
       "    }\n",
       "</style>\n",
       "<table border=\"1\" class=\"dataframe\">\n",
       "  <thead>\n",
       "    <tr style=\"text-align: right;\">\n",
       "      <th></th>\n",
       "      <th>2024-03-05</th>\n",
       "    </tr>\n",
       "  </thead>\n",
       "  <tbody>\n",
       "    <tr>\n",
       "      <th>CNX1.LSE</th>\n",
       "      <td>0.5</td>\n",
       "    </tr>\n",
       "    <tr>\n",
       "      <th>VUSA.LSE</th>\n",
       "      <td>0.5</td>\n",
       "    </tr>\n",
       "  </tbody>\n",
       "</table>\n",
       "</div>"
      ],
      "text/plain": [
       "          2024-03-05\n",
       "CNX1.LSE         0.5\n",
       "VUSA.LSE         0.5"
      ]
     },
     "execution_count": 12,
     "metadata": {},
     "output_type": "execute_result"
    }
   ],
   "source": [
    "alloc = X_raw.T.groupby(level=1).sum()\n",
    "alloc = alloc.div(alloc.sum())\n",
    "alloc"
   ]
  },
  {
   "cell_type": "code",
   "execution_count": null,
   "id": "b788fff2-3f38-46fa-82e9-87eb56b14b75",
   "metadata": {},
   "outputs": [],
   "source": []
  },
  {
   "cell_type": "code",
   "execution_count": null,
   "id": "27122eb4-a30b-45e3-9cfc-8359d10b6f8c",
   "metadata": {},
   "outputs": [],
   "source": []
  },
  {
   "cell_type": "code",
   "execution_count": 13,
   "id": "83852ffd-990a-4ac8-90c1-1db2ad65b8c8",
   "metadata": {},
   "outputs": [],
   "source": [
    "CASH = 5165.68"
   ]
  },
  {
   "cell_type": "code",
   "execution_count": 14,
   "id": "76aeaece-9f12-46bf-bc10-470fa6669725",
   "metadata": {},
   "outputs": [
    {
     "data": {
      "text/html": [
       "<div>\n",
       "<style scoped>\n",
       "    .dataframe tbody tr th:only-of-type {\n",
       "        vertical-align: middle;\n",
       "    }\n",
       "\n",
       "    .dataframe tbody tr th {\n",
       "        vertical-align: top;\n",
       "    }\n",
       "\n",
       "    .dataframe thead th {\n",
       "        text-align: right;\n",
       "    }\n",
       "</style>\n",
       "<table border=\"1\" class=\"dataframe\">\n",
       "  <thead>\n",
       "    <tr style=\"text-align: right;\">\n",
       "      <th></th>\n",
       "      <th>2024-03-05</th>\n",
       "    </tr>\n",
       "  </thead>\n",
       "  <tbody>\n",
       "    <tr>\n",
       "      <th>CNX1.LSE</th>\n",
       "      <td>2582.84</td>\n",
       "    </tr>\n",
       "    <tr>\n",
       "      <th>VUSA.LSE</th>\n",
       "      <td>2582.84</td>\n",
       "    </tr>\n",
       "  </tbody>\n",
       "</table>\n",
       "</div>"
      ],
      "text/plain": [
       "          2024-03-05\n",
       "CNX1.LSE     2582.84\n",
       "VUSA.LSE     2582.84"
      ]
     },
     "execution_count": 14,
     "metadata": {},
     "output_type": "execute_result"
    }
   ],
   "source": [
    "CASH * alloc"
   ]
  },
  {
   "cell_type": "code",
   "execution_count": null,
   "id": "e93378e7-b7cd-4b42-8bf3-9429949ed1c4",
   "metadata": {},
   "outputs": [],
   "source": []
  },
  {
   "cell_type": "code",
   "execution_count": null,
   "id": "1ed0a24a-865f-4737-aaab-38b11144043d",
   "metadata": {},
   "outputs": [],
   "source": []
  },
  {
   "cell_type": "code",
   "execution_count": null,
   "id": "5451212d-8b23-418d-afed-e8ba157fde7b",
   "metadata": {},
   "outputs": [],
   "source": []
  },
  {
   "cell_type": "code",
   "execution_count": null,
   "id": "030a24e0-d8c5-448c-b7fe-8cf0f63c60d7",
   "metadata": {},
   "outputs": [],
   "source": []
  },
  {
   "cell_type": "code",
   "execution_count": null,
   "id": "d7bd2e12-1d20-4137-a21e-d3f0f76e5d0a",
   "metadata": {},
   "outputs": [],
   "source": []
  },
  {
   "cell_type": "code",
   "execution_count": null,
   "id": "be27eff2-d8e9-4272-bbc8-27029eadf444",
   "metadata": {},
   "outputs": [],
   "source": []
  }
 ],
 "metadata": {
  "kernelspec": {
   "display_name": "Python 3 (ipykernel)",
   "language": "python",
   "name": "python3"
  },
  "language_info": {
   "codemirror_mode": {
    "name": "ipython",
    "version": 3
   },
   "file_extension": ".py",
   "mimetype": "text/x-python",
   "name": "python",
   "nbconvert_exporter": "python",
   "pygments_lexer": "ipython3",
   "version": "3.11.0"
  }
 },
 "nbformat": 4,
 "nbformat_minor": 5
}
