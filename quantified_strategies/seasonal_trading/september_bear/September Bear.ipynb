{
 "cells": [
  {
   "cell_type": "markdown",
   "id": "d9ed5b8a-402b-4333-9921-324ad47fe7da",
   "metadata": {},
   "source": [
    "# September Bear"
   ]
  },
  {
   "cell_type": "code",
   "execution_count": 8,
   "id": "fbbf65b7-446b-40d9-8e52-78049edc394c",
   "metadata": {},
   "outputs": [],
   "source": [
    "import datetime as dt\n",
    "import pandas as pd\n",
    "import yfinance as yf\n",
    "\n",
    "import available as avb\n",
    "import utils as self_utils\n",
    "from quantified_strategies import strategy_utils as utils"
   ]
  },
  {
   "cell_type": "code",
   "execution_count": null,
   "id": "59b014de-f658-4f00-831c-d060ca697e52",
   "metadata": {},
   "outputs": [],
   "source": []
  },
  {
   "cell_type": "code",
   "execution_count": 9,
   "id": "568df4a5-030d-4267-a698-1455b3a74668",
   "metadata": {},
   "outputs": [],
   "source": [
    "def get_positions(df: pd.DataFrame) -> pd.Series:\n",
    "\n",
    "    data = df.loc[df.index.month == MONTH].copy()\n",
    "    data[\"weekday\"] = data.index.map(lambda date: date.weekday())\n",
    "    data[\"is_xday\"] = data[\"weekday\"] == SHORT_DAY\n",
    "    data[\"year\"] = data.index.year\n",
    "    data[\"nth_xday\"] = data.groupby(\"year\")[\"is_xday\"].cumsum()\n",
    "\n",
    "    if COVER_WEEK is None:\n",
    "         pos = -(data[\"nth_xday\"] >= SHORT_WEEK).astype(int)\n",
    "    else:\n",
    "        pos = -((data[\"nth_xday\"] >= SHORT_WEEK) & (data[\"nth_xday\"] < COVER_WEEK)).astype(int)\n",
    "    pos = pos.reindex(index=df.index, fill_value=0.0)\n",
    "\n",
    "    return pos\n",
    "\n",
    "\n",
    "def get_returns(df: pd.Series) -> pd.Series:\n",
    "    return df.pct_change().shift(-1)\n",
    "    "
   ]
  },
  {
   "cell_type": "code",
   "execution_count": null,
   "id": "cc942a89-2e19-4845-82b5-19bd0016c0c7",
   "metadata": {},
   "outputs": [],
   "source": []
  },
  {
   "cell_type": "markdown",
   "id": "db82c8e4-0067-47cc-8051-2bdca54eecb4",
   "metadata": {},
   "source": [
    "## Rules\n",
    "\n",
    "1. Go short on the 3rd Friday of September,\n",
    "2. Cover short one week later."
   ]
  },
  {
   "cell_type": "code",
   "execution_count": 10,
   "id": "487c5427-a191-4524-8f7b-fe0477815e62",
   "metadata": {},
   "outputs": [],
   "source": [
    "MONTH = 9\n",
    "\n",
    "SHORT_DAY = 4\n",
    "SHORT_WEEK = 3\n",
    "\n",
    "COVER_WEEK = 4\n",
    "\n",
    "START = dt.date(2000, 1, 1)\n",
    "END = dt.date.today()"
   ]
  },
  {
   "cell_type": "code",
   "execution_count": 11,
   "id": "79d18197-1c97-4636-9d90-66139b13b4c7",
   "metadata": {},
   "outputs": [],
   "source": [
    "TICKER = \"SPY\""
   ]
  },
  {
   "cell_type": "code",
   "execution_count": 13,
   "id": "312fed6b-da0a-4b86-857e-b14b22154afd",
   "metadata": {},
   "outputs": [
    {
     "name": "stdout",
     "output_type": "stream",
     "text": [
      "{}\n",
      "remove api from here\n"
     ]
    },
    {
     "data": {
      "text/html": [
       "<div>\n",
       "<style scoped>\n",
       "    .dataframe tbody tr th:only-of-type {\n",
       "        vertical-align: middle;\n",
       "    }\n",
       "\n",
       "    .dataframe tbody tr th {\n",
       "        vertical-align: top;\n",
       "    }\n",
       "\n",
       "    .dataframe thead th {\n",
       "        text-align: right;\n",
       "    }\n",
       "</style>\n",
       "<table border=\"1\" class=\"dataframe\">\n",
       "  <thead>\n",
       "    <tr style=\"text-align: right;\">\n",
       "      <th></th>\n",
       "      <th>asset</th>\n",
       "      <th>ret</th>\n",
       "      <th>ret_shifted</th>\n",
       "      <th>active</th>\n",
       "      <th>strat_ret</th>\n",
       "      <th>cum_strat_ret</th>\n",
       "      <th>cum_hodl_ret</th>\n",
       "      <th>enter_flag</th>\n",
       "      <th>trade_number</th>\n",
       "    </tr>\n",
       "    <tr>\n",
       "      <th>Date</th>\n",
       "      <th></th>\n",
       "      <th></th>\n",
       "      <th></th>\n",
       "      <th></th>\n",
       "      <th></th>\n",
       "      <th></th>\n",
       "      <th></th>\n",
       "      <th></th>\n",
       "      <th></th>\n",
       "    </tr>\n",
       "  </thead>\n",
       "  <tbody>\n",
       "    <tr>\n",
       "      <th>2000-01-03</th>\n",
       "      <td>93.8956</td>\n",
       "      <td>NaN</td>\n",
       "      <td>-0.039106</td>\n",
       "      <td>False</td>\n",
       "      <td>0.0</td>\n",
       "      <td>0.000000</td>\n",
       "      <td>-0.039106</td>\n",
       "      <td>False</td>\n",
       "      <td>0</td>\n",
       "    </tr>\n",
       "    <tr>\n",
       "      <th>2000-01-04</th>\n",
       "      <td>90.2237</td>\n",
       "      <td>-0.039106</td>\n",
       "      <td>0.001789</td>\n",
       "      <td>False</td>\n",
       "      <td>-0.0</td>\n",
       "      <td>0.000000</td>\n",
       "      <td>-0.037387</td>\n",
       "      <td>False</td>\n",
       "      <td>0</td>\n",
       "    </tr>\n",
       "    <tr>\n",
       "      <th>2000-01-05</th>\n",
       "      <td>90.3851</td>\n",
       "      <td>0.001789</td>\n",
       "      <td>-0.016071</td>\n",
       "      <td>False</td>\n",
       "      <td>0.0</td>\n",
       "      <td>0.000000</td>\n",
       "      <td>-0.052858</td>\n",
       "      <td>False</td>\n",
       "      <td>0</td>\n",
       "    </tr>\n",
       "    <tr>\n",
       "      <th>2000-01-06</th>\n",
       "      <td>88.9325</td>\n",
       "      <td>-0.016071</td>\n",
       "      <td>0.058076</td>\n",
       "      <td>False</td>\n",
       "      <td>-0.0</td>\n",
       "      <td>0.000000</td>\n",
       "      <td>0.002148</td>\n",
       "      <td>False</td>\n",
       "      <td>0</td>\n",
       "    </tr>\n",
       "    <tr>\n",
       "      <th>2000-01-07</th>\n",
       "      <td>94.0973</td>\n",
       "      <td>0.058076</td>\n",
       "      <td>0.003430</td>\n",
       "      <td>False</td>\n",
       "      <td>-0.0</td>\n",
       "      <td>0.000000</td>\n",
       "      <td>0.005586</td>\n",
       "      <td>False</td>\n",
       "      <td>0</td>\n",
       "    </tr>\n",
       "    <tr>\n",
       "      <th>...</th>\n",
       "      <td>...</td>\n",
       "      <td>...</td>\n",
       "      <td>...</td>\n",
       "      <td>...</td>\n",
       "      <td>...</td>\n",
       "      <td>...</td>\n",
       "      <td>...</td>\n",
       "      <td>...</td>\n",
       "      <td>...</td>\n",
       "    </tr>\n",
       "    <tr>\n",
       "      <th>2024-02-27</th>\n",
       "      <td>506.9300</td>\n",
       "      <td>0.001858</td>\n",
       "      <td>-0.001322</td>\n",
       "      <td>False</td>\n",
       "      <td>0.0</td>\n",
       "      <td>0.261016</td>\n",
       "      <td>4.391733</td>\n",
       "      <td>False</td>\n",
       "      <td>24</td>\n",
       "    </tr>\n",
       "    <tr>\n",
       "      <th>2024-02-28</th>\n",
       "      <td>506.2600</td>\n",
       "      <td>-0.001322</td>\n",
       "      <td>0.003595</td>\n",
       "      <td>False</td>\n",
       "      <td>-0.0</td>\n",
       "      <td>0.261016</td>\n",
       "      <td>4.411116</td>\n",
       "      <td>False</td>\n",
       "      <td>24</td>\n",
       "    </tr>\n",
       "    <tr>\n",
       "      <th>2024-02-29</th>\n",
       "      <td>508.0800</td>\n",
       "      <td>0.003595</td>\n",
       "      <td>0.009388</td>\n",
       "      <td>False</td>\n",
       "      <td>-0.0</td>\n",
       "      <td>0.261016</td>\n",
       "      <td>4.461917</td>\n",
       "      <td>False</td>\n",
       "      <td>24</td>\n",
       "    </tr>\n",
       "    <tr>\n",
       "      <th>2024-03-01</th>\n",
       "      <td>512.8500</td>\n",
       "      <td>0.009388</td>\n",
       "      <td>-0.001072</td>\n",
       "      <td>False</td>\n",
       "      <td>0.0</td>\n",
       "      <td>0.261016</td>\n",
       "      <td>4.456060</td>\n",
       "      <td>False</td>\n",
       "      <td>24</td>\n",
       "    </tr>\n",
       "    <tr>\n",
       "      <th>2024-03-04</th>\n",
       "      <td>512.3000</td>\n",
       "      <td>-0.001072</td>\n",
       "      <td>NaN</td>\n",
       "      <td>False</td>\n",
       "      <td>NaN</td>\n",
       "      <td>NaN</td>\n",
       "      <td>NaN</td>\n",
       "      <td>False</td>\n",
       "      <td>24</td>\n",
       "    </tr>\n",
       "  </tbody>\n",
       "</table>\n",
       "<p>6080 rows × 9 columns</p>\n",
       "</div>"
      ],
      "text/plain": [
       "               asset       ret  ret_shifted  active  strat_ret  cum_strat_ret  \\\n",
       "Date                                                                            \n",
       "2000-01-03   93.8956       NaN    -0.039106   False        0.0       0.000000   \n",
       "2000-01-04   90.2237 -0.039106     0.001789   False       -0.0       0.000000   \n",
       "2000-01-05   90.3851  0.001789    -0.016071   False        0.0       0.000000   \n",
       "2000-01-06   88.9325 -0.016071     0.058076   False       -0.0       0.000000   \n",
       "2000-01-07   94.0973  0.058076     0.003430   False       -0.0       0.000000   \n",
       "...              ...       ...          ...     ...        ...            ...   \n",
       "2024-02-27  506.9300  0.001858    -0.001322   False        0.0       0.261016   \n",
       "2024-02-28  506.2600 -0.001322     0.003595   False       -0.0       0.261016   \n",
       "2024-02-29  508.0800  0.003595     0.009388   False       -0.0       0.261016   \n",
       "2024-03-01  512.8500  0.009388    -0.001072   False        0.0       0.261016   \n",
       "2024-03-04  512.3000 -0.001072          NaN   False        NaN            NaN   \n",
       "\n",
       "            cum_hodl_ret  enter_flag  trade_number  \n",
       "Date                                                \n",
       "2000-01-03     -0.039106       False             0  \n",
       "2000-01-04     -0.037387       False             0  \n",
       "2000-01-05     -0.052858       False             0  \n",
       "2000-01-06      0.002148       False             0  \n",
       "2000-01-07      0.005586       False             0  \n",
       "...                  ...         ...           ...  \n",
       "2024-02-27      4.391733       False            24  \n",
       "2024-02-28      4.411116       False            24  \n",
       "2024-02-29      4.461917       False            24  \n",
       "2024-03-01      4.456060       False            24  \n",
       "2024-03-04           NaN       False            24  \n",
       "\n",
       "[6080 rows x 9 columns]"
      ]
     },
     "execution_count": 13,
     "metadata": {},
     "output_type": "execute_result"
    }
   ],
   "source": [
    "results = self_utils.run(ticker=TICKER, full=True, start=START, end=END, xday=SHORT_DAY, week_enter=SHORT_WEEK, cover_duration=COVER_WEEK-SHORT_WEEK)\n",
    "results"
   ]
  },
  {
   "cell_type": "code",
   "execution_count": 14,
   "id": "9069a780-acb0-47bd-b29e-127bad52c162",
   "metadata": {},
   "outputs": [
    {
     "name": "stdout",
     "output_type": "stream",
     "text": [
      "{}\n",
      "remove api from here\n"
     ]
    },
    {
     "data": {
      "text/html": [
       "<div>\n",
       "<style scoped>\n",
       "    .dataframe tbody tr th:only-of-type {\n",
       "        vertical-align: middle;\n",
       "    }\n",
       "\n",
       "    .dataframe tbody tr th {\n",
       "        vertical-align: top;\n",
       "    }\n",
       "\n",
       "    .dataframe thead th {\n",
       "        text-align: right;\n",
       "    }\n",
       "</style>\n",
       "<table border=\"1\" class=\"dataframe\">\n",
       "  <thead>\n",
       "    <tr style=\"text-align: right;\">\n",
       "      <th></th>\n",
       "      <th>SPY</th>\n",
       "    </tr>\n",
       "    <tr>\n",
       "      <th>Date</th>\n",
       "      <th></th>\n",
       "    </tr>\n",
       "  </thead>\n",
       "  <tbody>\n",
       "    <tr>\n",
       "      <th>2000-01-03</th>\n",
       "      <td>93.8956</td>\n",
       "    </tr>\n",
       "    <tr>\n",
       "      <th>2000-01-04</th>\n",
       "      <td>90.2237</td>\n",
       "    </tr>\n",
       "    <tr>\n",
       "      <th>2000-01-05</th>\n",
       "      <td>90.3851</td>\n",
       "    </tr>\n",
       "    <tr>\n",
       "      <th>2000-01-06</th>\n",
       "      <td>88.9325</td>\n",
       "    </tr>\n",
       "    <tr>\n",
       "      <th>2000-01-07</th>\n",
       "      <td>94.0973</td>\n",
       "    </tr>\n",
       "  </tbody>\n",
       "</table>\n",
       "</div>"
      ],
      "text/plain": [
       "                SPY\n",
       "Date               \n",
       "2000-01-03  93.8956\n",
       "2000-01-04  90.2237\n",
       "2000-01-05  90.3851\n",
       "2000-01-06  88.9325\n",
       "2000-01-07  94.0973"
      ]
     },
     "execution_count": 14,
     "metadata": {},
     "output_type": "execute_result"
    }
   ],
   "source": [
    "data = utils.get_data(ticker=TICKER, columns=\"Adj Close\").to_frame(name=TICKER)\n",
    "data = data.loc[(data.index.date >= START) & (data.index.date <= END)]\n",
    "data.head(5)"
   ]
  },
  {
   "cell_type": "code",
   "execution_count": 15,
   "id": "f8d88796-76e7-4de8-8df4-b8976a83fc9b",
   "metadata": {},
   "outputs": [
    {
     "data": {
      "text/plain": [
       "Date\n",
       "2000-01-03    0.0\n",
       "2000-01-04    0.0\n",
       "2000-01-05    0.0\n",
       "2000-01-06    0.0\n",
       "2000-01-07    0.0\n",
       "Name: nth_xday, dtype: float64"
      ]
     },
     "execution_count": 15,
     "metadata": {},
     "output_type": "execute_result"
    }
   ],
   "source": [
    "pos = get_positions(df=data)\n",
    "pos.head(5)"
   ]
  },
  {
   "cell_type": "code",
   "execution_count": 32,
   "id": "251d0194-3aca-4ce5-8fdd-021fc9f0ec7a",
   "metadata": {},
   "outputs": [
    {
     "data": {
      "text/plain": [
       "Date\n",
       "2022-09-16   -1.0\n",
       "2022-09-19   -1.0\n",
       "2022-09-20   -1.0\n",
       "2022-09-21   -1.0\n",
       "2022-09-22   -1.0\n",
       "2023-09-15   -1.0\n",
       "2023-09-18   -1.0\n",
       "2023-09-19   -1.0\n",
       "2023-09-20   -1.0\n",
       "2023-09-21   -1.0\n",
       "Name: nth_xday, dtype: float64"
      ]
     },
     "execution_count": 32,
     "metadata": {},
     "output_type": "execute_result"
    }
   ],
   "source": [
    "pos[pos != 0.0]"
   ]
  },
  {
   "cell_type": "code",
   "execution_count": 34,
   "id": "7711401c-d4c1-4581-910c-e6ec86b4d6a8",
   "metadata": {},
   "outputs": [
    {
     "data": {
      "text/html": [
       "<div>\n",
       "<style scoped>\n",
       "    .dataframe tbody tr th:only-of-type {\n",
       "        vertical-align: middle;\n",
       "    }\n",
       "\n",
       "    .dataframe tbody tr th {\n",
       "        vertical-align: top;\n",
       "    }\n",
       "\n",
       "    .dataframe thead th {\n",
       "        text-align: right;\n",
       "    }\n",
       "</style>\n",
       "<table border=\"1\" class=\"dataframe\">\n",
       "  <thead>\n",
       "    <tr style=\"text-align: right;\">\n",
       "      <th></th>\n",
       "      <th>asset</th>\n",
       "      <th>ret</th>\n",
       "      <th>ret_shifted</th>\n",
       "      <th>active</th>\n",
       "      <th>strat_ret</th>\n",
       "      <th>cum_strat_ret</th>\n",
       "      <th>cum_hodl_ret</th>\n",
       "      <th>enter_flag</th>\n",
       "      <th>trade_number</th>\n",
       "    </tr>\n",
       "    <tr>\n",
       "      <th>Date</th>\n",
       "      <th></th>\n",
       "      <th></th>\n",
       "      <th></th>\n",
       "      <th></th>\n",
       "      <th></th>\n",
       "      <th></th>\n",
       "      <th></th>\n",
       "      <th></th>\n",
       "      <th></th>\n",
       "    </tr>\n",
       "  </thead>\n",
       "  <tbody>\n",
       "    <tr>\n",
       "      <th>2001-09-21</th>\n",
       "      <td>64.0544</td>\n",
       "      <td>-0.010801</td>\n",
       "      <td>0.035156</td>\n",
       "      <td>True</td>\n",
       "      <td>-0.035156</td>\n",
       "      <td>-0.029991</td>\n",
       "      <td>-0.293830</td>\n",
       "      <td>True</td>\n",
       "      <td>2</td>\n",
       "    </tr>\n",
       "    <tr>\n",
       "      <th>2001-09-24</th>\n",
       "      <td>66.3063</td>\n",
       "      <td>0.035156</td>\n",
       "      <td>0.010427</td>\n",
       "      <td>True</td>\n",
       "      <td>-0.010427</td>\n",
       "      <td>-0.040105</td>\n",
       "      <td>-0.286466</td>\n",
       "      <td>False</td>\n",
       "      <td>2</td>\n",
       "    </tr>\n",
       "    <tr>\n",
       "      <th>2001-09-25</th>\n",
       "      <td>66.9977</td>\n",
       "      <td>0.010427</td>\n",
       "      <td>-0.003537</td>\n",
       "      <td>True</td>\n",
       "      <td>0.003537</td>\n",
       "      <td>-0.036710</td>\n",
       "      <td>-0.288990</td>\n",
       "      <td>False</td>\n",
       "      <td>2</td>\n",
       "    </tr>\n",
       "    <tr>\n",
       "      <th>2001-09-26</th>\n",
       "      <td>66.7607</td>\n",
       "      <td>-0.003537</td>\n",
       "      <td>0.008679</td>\n",
       "      <td>True</td>\n",
       "      <td>-0.008679</td>\n",
       "      <td>-0.045070</td>\n",
       "      <td>-0.282819</td>\n",
       "      <td>False</td>\n",
       "      <td>2</td>\n",
       "    </tr>\n",
       "    <tr>\n",
       "      <th>2001-09-27</th>\n",
       "      <td>67.3401</td>\n",
       "      <td>0.008679</td>\n",
       "      <td>0.021218</td>\n",
       "      <td>True</td>\n",
       "      <td>-0.021218</td>\n",
       "      <td>-0.065331</td>\n",
       "      <td>-0.267603</td>\n",
       "      <td>False</td>\n",
       "      <td>2</td>\n",
       "    </tr>\n",
       "  </tbody>\n",
       "</table>\n",
       "</div>"
      ],
      "text/plain": [
       "              asset       ret  ret_shifted  active  strat_ret  cum_strat_ret  \\\n",
       "Date                                                                           \n",
       "2001-09-21  64.0544 -0.010801     0.035156    True  -0.035156      -0.029991   \n",
       "2001-09-24  66.3063  0.035156     0.010427    True  -0.010427      -0.040105   \n",
       "2001-09-25  66.9977  0.010427    -0.003537    True   0.003537      -0.036710   \n",
       "2001-09-26  66.7607 -0.003537     0.008679    True  -0.008679      -0.045070   \n",
       "2001-09-27  67.3401  0.008679     0.021218    True  -0.021218      -0.065331   \n",
       "\n",
       "            cum_hodl_ret  enter_flag  trade_number  \n",
       "Date                                                \n",
       "2001-09-21     -0.293830        True             2  \n",
       "2001-09-24     -0.286466       False             2  \n",
       "2001-09-25     -0.288990       False             2  \n",
       "2001-09-26     -0.282819       False             2  \n",
       "2001-09-27     -0.267603       False             2  "
      ]
     },
     "execution_count": 34,
     "metadata": {},
     "output_type": "execute_result"
    }
   ],
   "source": [
    "results.loc[(~results.index.isin(pos[pos != 0.0].index)) & results[\"active\"]]"
   ]
  },
  {
   "cell_type": "code",
   "execution_count": 16,
   "id": "159884f1-79fd-4e59-8fb8-08a62b21f5bd",
   "metadata": {},
   "outputs": [
    {
     "data": {
      "text/plain": [
       "Date\n",
       "2000-09-15   -1.0\n",
       "2000-09-18   -1.0\n",
       "2000-09-19   -1.0\n",
       "2000-09-20   -1.0\n",
       "2000-09-21   -1.0\n",
       "2001-09-28   -1.0\n",
       "2002-09-20   -1.0\n",
       "2002-09-23   -1.0\n",
       "2002-09-24   -1.0\n",
       "2002-09-25   -1.0\n",
       "2002-09-26   -1.0\n",
       "2003-09-19   -1.0\n",
       "2003-09-22   -1.0\n",
       "2003-09-23   -1.0\n",
       "2003-09-24   -1.0\n",
       "Name: nth_xday, dtype: float64"
      ]
     },
     "execution_count": 16,
     "metadata": {},
     "output_type": "execute_result"
    }
   ],
   "source": [
    "pos[pos != 0.0].head(15)"
   ]
  },
  {
   "cell_type": "code",
   "execution_count": 17,
   "id": "32558cab-b8c7-486c-b743-f4e68aa9f63e",
   "metadata": {},
   "outputs": [
    {
     "data": {
      "text/plain": [
       "Date\n",
       "2000-01-03   -0.039106\n",
       "2000-01-04    0.001789\n",
       "2000-01-05   -0.016071\n",
       "2000-01-06    0.058076\n",
       "2000-01-07    0.003430\n",
       "Name: SPY, dtype: float64"
      ]
     },
     "execution_count": 17,
     "metadata": {},
     "output_type": "execute_result"
    }
   ],
   "source": [
    "ret = get_returns(df=data[TICKER])\n",
    "ret.head(5)"
   ]
  },
  {
   "cell_type": "code",
   "execution_count": 18,
   "id": "352fdebd-f5c2-4fc2-8952-736ffed330fc",
   "metadata": {},
   "outputs": [
    {
     "data": {
      "text/plain": [
       "Date\n",
       "2000-01-03   -0.0\n",
       "2000-01-04    0.0\n",
       "2000-01-05   -0.0\n",
       "2000-01-06    0.0\n",
       "2000-01-07    0.0\n",
       "dtype: float64"
      ]
     },
     "execution_count": 18,
     "metadata": {},
     "output_type": "execute_result"
    }
   ],
   "source": [
    "strat_ret = pos * ret\n",
    "strat_ret.head(5)"
   ]
  },
  {
   "cell_type": "code",
   "execution_count": 19,
   "id": "5cc11b14-8a66-4ad2-8449-7a6e86a74b1e",
   "metadata": {},
   "outputs": [
    {
     "data": {
      "text/plain": [
       "Date\n",
       "2000-09-15    0.009840\n",
       "2000-09-18   -0.009074\n",
       "2000-09-19    0.007387\n",
       "2000-09-20   -0.002049\n",
       "2000-09-21   -0.000646\n",
       "2001-09-28    0.001627\n",
       "2002-09-20    0.008179\n",
       "2002-09-23    0.016138\n",
       "2002-09-24   -0.024785\n",
       "2002-09-25   -0.016361\n",
       "dtype: float64"
      ]
     },
     "execution_count": 19,
     "metadata": {},
     "output_type": "execute_result"
    }
   ],
   "source": [
    "strat_ret[pos != 0.0].head(10)"
   ]
  },
  {
   "cell_type": "code",
   "execution_count": 20,
   "id": "fa49e008-dc41-4914-a402-a0e6ccae29e2",
   "metadata": {},
   "outputs": [
    {
     "data": {
      "text/plain": [
       "Date\n",
       "2000-09-15    0.009840\n",
       "2000-09-18    0.000677\n",
       "2000-09-19    0.008069\n",
       "2000-09-20    0.006003\n",
       "2000-09-21    0.005353\n",
       "                ...   \n",
       "2023-09-15    0.318617\n",
       "2023-09-18    0.321352\n",
       "2023-09-19    0.333499\n",
       "2023-09-20    0.355540\n",
       "2023-09-21    0.358588\n",
       "Length: 116, dtype: float64"
      ]
     },
     "execution_count": 20,
     "metadata": {},
     "output_type": "execute_result"
    }
   ],
   "source": [
    "utils.get_cumulative_return(returns=strat_ret, total=False)[pos != 0.0]"
   ]
  },
  {
   "cell_type": "code",
   "execution_count": 23,
   "id": "21702910-7a63-4aa8-80d8-994cbda7dc47",
   "metadata": {},
   "outputs": [
    {
     "data": {
      "text/plain": [
       "<Axes: xlabel='Date'>"
      ]
     },
     "execution_count": 23,
     "metadata": {},
     "output_type": "execute_result"
    },
    {
     "data": {
      "image/png": "[encoded data removed]",
      "text/plain": [
       "<Figure size 640x480 with 1 Axes>"
      ]
     },
     "metadata": {},
     "output_type": "display_data"
    }
   ],
   "source": [
    "pd.concat([df1.loc[df1[\"active\"], \"strat_ret\"], strat_ret[pos != 0.0]], axis=1).sort_index().plot()"
   ]
  },
  {
   "cell_type": "markdown",
   "id": "28c84b3f-006b-4238-8dfa-c8390ed5d9f0",
   "metadata": {},
   "source": [
    "## Describe Strategy"
   ]
  },
  {
   "cell_type": "code",
   "execution_count": 24,
   "id": "eae8d93d-3856-4e47-abab-52603b7e1b3b",
   "metadata": {},
   "outputs": [
    {
     "name": "stderr",
     "output_type": "stream",
     "text": [
      "C:\\Users\\tomw1\\PycharmProjects\\quantified_strategies\\quantified_strategies\\strategy_utils.py:169: RuntimeWarning: invalid value encountered in sqrt\n",
      "  ann_adj_sharpe_ratio = sharpe_ratio * np.sqrt(252 * activity_ratio)\n",
      "C:\\Users\\tomw1\\PycharmProjects\\quantified_strategies\\quantified_strategies\\strategy_utils.py:171: RuntimeWarning: invalid value encountered in sqrt\n",
      "  ann_sortino_ratio = sortino_ratio * np.sqrt(252 * activity_ratio)\n"
     ]
    },
    {
     "data": {
      "text/plain": [
       "Asset                            SPY\n",
       "Start                     2000-01-03\n",
       "End                       2024-03-04\n",
       "Mean Return                 0.26943%\n",
       "Total Return                  35.86%\n",
       "Median Return               0.21660%\n",
       "1st Quartile               -0.30002%\n",
       "3rd Quartile                0.81538%\n",
       "Std Dev Return              0.99740%\n",
       "CAGR                      26.453 bps\n",
       "Trade CAGR                   -1.269%\n",
       "Ann. CAGR                    94.590%\n",
       "Activity Ratio                -1.91%\n",
       "Number of Trades                24.0\n",
       "Average Hold Period       -4.83 Days\n",
       "Daily Sharpe Ratio            0.2701\n",
       "Ann. Sharpe Ratio             4.2883\n",
       "Adj. Ann. Sharpe Ratio           NaN\n",
       "Daily Sortino Ratio           0.4592\n",
       "Ann. Sortino Ratio               NaN\n",
       "Daily Calmar Ratio            8.8019\n",
       "Hit Ratio                     61.21%\n",
       "Profit Factor                  2.11x\n",
       "MDD                           -4.07%\n",
       "MDD Start                 2002-09-23\n",
       "MDD Bottom                2002-09-25\n",
       "MDD End                   2003-09-19\n",
       "MDD Decline Duration          3 Days\n",
       "MDD Recovery Duration         3 Days\n",
       "dtype: object"
      ]
     },
     "execution_count": 24,
     "metadata": {},
     "output_type": "execute_result"
    }
   ],
   "source": [
    "utils.describe(returns=strat_ret, pos=pos, daily=True, asset=TICKER)"
   ]
  },
  {
   "cell_type": "code",
   "execution_count": 25,
   "id": "0c3eb54a-0651-4eff-9112-5bcd2d804531",
   "metadata": {},
   "outputs": [
    {
     "data": {
      "text/plain": [
       "Asset                             SPY\n",
       "Start                      2000-12-31\n",
       "End                        2024-12-31\n",
       "Mean Return                  1.25001%\n",
       "Total Return                   35.86%\n",
       "Median Return                1.06495%\n",
       "1st Quartile                 0.08136%\n",
       "3rd Quartile                 1.91707%\n",
       "Std Dev Return               1.88739%\n",
       "CAGR                      123.333 bps\n",
       "Trade CAGR                        N/A\n",
       "Ann. CAGR                         N/A\n",
       "Activity Ratio                100.00%\n",
       "Number of Trades                  0.0\n",
       "Average Hold Period        25.00 Days\n",
       "Daily Sharpe Ratio             0.6623\n",
       "Ann. Sharpe Ratio             10.5136\n",
       "Adj. Ann. Sharpe Ratio        10.5136\n",
       "Daily Sortino Ratio            1.5671\n",
       "Ann. Sortino Ratio            24.8771\n",
       "Daily Calmar Ratio            17.0497\n",
       "Hit Ratio                      76.00%\n",
       "Profit Factor                   8.00x\n",
       "MDD                            -2.10%\n",
       "MDD Start                  2009-12-31\n",
       "MDD Bottom                 2010-12-31\n",
       "MDD End                    2011-12-31\n",
       "MDD Decline Duration           2 Days\n",
       "MDD Recovery Duration          2 Days\n",
       "dtype: object"
      ]
     },
     "execution_count": 25,
     "metadata": {},
     "output_type": "execute_result"
    }
   ],
   "source": [
    "utils.describe(returns=strat_ret.resample(\"YE\").apply(lambda x: utils.get_cumulative_return(returns=x, total=True)), daily=False, asset=TICKER)"
   ]
  },
  {
   "cell_type": "code",
   "execution_count": null,
   "id": "0d96ac20-24fc-44cf-8577-e6e64a669ffb",
   "metadata": {},
   "outputs": [],
   "source": []
  },
  {
   "cell_type": "code",
   "execution_count": 26,
   "id": "5aa1753b-51ae-4156-a64a-d746b1743f71",
   "metadata": {},
   "outputs": [
    {
     "data": {
      "image/png": "[encoded data removed]",
      "text/plain": [
       "<Figure size 640x480 with 1 Axes>"
      ]
     },
     "metadata": {},
     "output_type": "display_data"
    }
   ],
   "source": [
    "import matplotlib.pyplot as plt\n",
    "\n",
    "fig, ax = plt.subplots()\n",
    "\n",
    "ax.plot(utils.get_cumulative_return(returns=strat_ret, total=False), label=\"Strategy\")\n",
    "ax.plot(utils.get_cumulative_return(returns=ret[pos != 0.0], total=False), label=\"HODL\")\n",
    "\n",
    "plt.title(f\"September Bear: {TICKER!r}\")\n",
    "plt.legend(loc=\"best\")\n",
    "plt.show()"
   ]
  },
  {
   "cell_type": "code",
   "execution_count": null,
   "id": "e1049cea-12a0-4c9b-baa0-64b540d4039b",
   "metadata": {},
   "outputs": [],
   "source": []
  },
  {
   "cell_type": "code",
   "execution_count": null,
   "id": "af009f36-8c7f-46e7-9434-56fea26686e6",
   "metadata": {},
   "outputs": [],
   "source": []
  },
  {
   "cell_type": "code",
   "execution_count": null,
   "id": "49aa8230-7d0c-4ede-8fba-e26828382f0e",
   "metadata": {},
   "outputs": [],
   "source": []
  }
 ],
 "metadata": {
  "kernelspec": {
   "display_name": "Python 3 (ipykernel)",
   "language": "python",
   "name": "python3"
  },
  "language_info": {
   "codemirror_mode": {
    "name": "ipython",
    "version": 3
   },
   "file_extension": ".py",
   "mimetype": "text/x-python",
   "name": "python",
   "nbconvert_exporter": "python",
   "pygments_lexer": "ipython3",
   "version": "3.11.0"
  }
 },
 "nbformat": 4,
 "nbformat_minor": 5
}
