{
 "cells": [
  {
   "cell_type": "code",
   "execution_count": 1,
   "id": "fe436267-3b8b-481c-a2bb-15cdfea2a654",
   "metadata": {},
   "outputs": [],
   "source": [
    "import datetime as dt\n",
    "import json\n",
    "from loguru import logger\n",
    "import numpy as np\n",
    "import pandas as pd\n",
    "from pathlib import Path\n",
    "import typing as t\n",
    "import yfinance as yf\n",
    "\n",
    "FOLDER = Path(r\"C:\\Users\\tomw1\\OneDrive\\Desktop\")"
   ]
  },
  {
   "cell_type": "code",
   "execution_count": 2,
   "id": "0a5b95ca-e85b-4adf-a25f-924c26c24e18",
   "metadata": {},
   "outputs": [
    {
     "name": "stdout",
     "output_type": "stream",
     "text": [
      "May need to change to fit other strategy\n"
     ]
    }
   ],
   "source": [
    "from quantified_strategies.event_trading import russell_rebalance, super_bowl\n",
    "from quantified_strategies.overnight_trading import short_term_reversal\n",
    "from quantified_strategies.seasonal_trading import (\n",
    "    buy_when_yields_are_low, pay_day_strategy, santa_claus_strategy, september_bear, tax_day_strategy, turn_around_tuesday_strategy)\n",
    "from quantified_strategies.technical_trading import contrarian_trading\n",
    "\n",
    "from quantified_strategies import strategy_utils\n"
   ]
  },
  {
   "cell_type": "code",
   "execution_count": null,
   "id": "314e00b3-08c2-4673-98cd-50254eeb41ee",
   "metadata": {},
   "outputs": [],
   "source": []
  },
  {
   "cell_type": "code",
   "execution_count": 124,
   "id": "8d31c7f1-6ed7-45db-99c2-553d2a968934",
   "metadata": {},
   "outputs": [],
   "source": [
    "def get_active_strategies(strategy_map: t.Dict[str, str | t.List[str]], date: dt.date, verbose: bool = True) -> t.Dict[str, t.List[str]]:\n",
    "    \n",
    "    strategy_map_list = {strat: universe if isinstance(universe, list) else [universe] for strat, universe in strategy_map.items()}\n",
    "\n",
    "    active_strats = {strat: [] for strat in strategy_map.keys()}\n",
    "    \n",
    "    if (tickers := strategy_map_list.get(\"russell_rebalance\")) and russell_rebalance.activity.is_active(date=date):\n",
    "        if verbose:\n",
    "            logger.info(f\"Active: 'russell_rebalance' -> {','.join(tickers)}\")\n",
    "        active_strats[\"russell_rebalance\"] += tickers\n",
    "        \n",
    "    if (tickers := strategy_map_list.get(\"super_bowl\")) and super_bowl.activity.is_active(date=date):\n",
    "        if verbose:\n",
    "            logger.info(f\"Active: 'super_bowl' -> {','.join(tickers)}\")\n",
    "        active_strats[\"super_bowl\"] += tickers\n",
    "        \n",
    "    if tickers := strategy_map_list.get(\"short_term_reversal\"):\n",
    "        for ticker in tickers:\n",
    "            if short_term_reversal.activity.is_active(data=short_term_reversal.utils.fetch(ticker=ticker), date=date):\n",
    "                if verbose:\n",
    "                    logger.info(f\"Active: 'short_term_reversal' -> {ticker!r}\")\n",
    "                active_strats[\"short_term_reversal\"].append(ticker)\n",
    "        \n",
    "    if (tickers := strategy_map_list.get(\"buy_when_yields_are_low\")) and buy_when_yields_are_low.activity.is_active(treasury=buy_when_yields_are_low.utils.fetch_treasury(), date=date, window=15):\n",
    "        if verbose:\n",
    "            logger.info(f\"Active: 'buy_when_yields_are_low' -> {','.join(tickers)}\")\n",
    "        active_strats[\"buy_when_yields_are_low\"] += tickers\n",
    "        \n",
    "    if (tickers := strategy_map_list.get(\"pay_day_strategy\")) and pay_day_strategy.activity.is_active(date=date):\n",
    "        if verbose:\n",
    "            logger.info(f\"Active: 'pay_day_strategy' -> {','.join(tickers)}\")\n",
    "        active_strats[\"pay_day_strategy\"] += tickers\n",
    "        \n",
    "    if (tickers := strategy_map_list.get(\"sankt_nikolaus_strategy\")) and santa_claus_strategy.sankt_nikolaus.activity.is_active(date=date):\n",
    "        if verbose:\n",
    "            logger.info(f\"Active: 'sankt_nikolaus_strategy' -> {','.join(tickers)}\")\n",
    "        active_strats[\"sankt_nikolaus_strategy\"] += tickers\n",
    "        \n",
    "    if (tickers := strategy_map_list.get(\"santa_claus_strategy\")) and santa_claus_strategy.santa_claus.activity.is_active(date=date):\n",
    "        if verbose:\n",
    "            logger.info(f\"Active: 'santa_claus_strategy' -> {','.join(tickers)}\")\n",
    "        active_strats[\"santa_claus_strategy\"] += tickers\n",
    "        \n",
    "    if (tickers := strategy_map_list.get(\"september_bear\")) and september_bear.activity.is_active(data=None, date=date, xday=4, week_enter=3, cover_duration=1):\n",
    "        if verbose:\n",
    "            logger.info(f\"Active: 'september_bear' -> {','.join(tickers)}\")\n",
    "        active_strats[\"september_bear\"] += tickers\n",
    "        \n",
    "    if (tickers := strategy_map_list.get(\"tax_day_strategy\")) and tax_day_strategy.activity.is_active(data=None, date=date, enter_before=dict(month=3, day=31), exit_after=dict(month=4, day=15)):\n",
    "        if verbose:\n",
    "            logger.info(f\"Active: 'tax_day_strategy' -> {','.join(tickers)}\")\n",
    "        active_strats[\"tax_day_strategy\"] += tickers\n",
    "        \n",
    "    if tickers := strategy_map_list.get(\"turn_around_tuesday_strategy\"):\n",
    "        for ticker in tickers:\n",
    "            if turn_around_tuesday_strategy.activity.is_active(data=turn_around_tuesday_strategy.utils.fetch(ticker=ticker), date=date):\n",
    "                if verbose:\n",
    "                    logger.info(f\"Active: 'turn_around_tuesday_strategy' -> {ticker!r}\")\n",
    "                active_strats[\"turn_around_tuesday_strategy\"].append(ticker)\n",
    "\n",
    "    active_strats = {strat: tickers for strat, tickers in active_strats.items() if len(tickers)}\n",
    "\n",
    "    return active_strats\n",
    "\n",
    "def format_active_strats(active_strats: t.Dict[str, t.List[str]]) -> t.Dict[str, t.Any]:\n",
    "\n",
    "    strategies = list(active_strats.keys())\n",
    "    assets = sum([tickers for strat, tickers in active_strats.items()], [])\n",
    "\n",
    "    data = {\n",
    "        \"strategies\": strategies,\n",
    "        \"assets\": assets,\n",
    "        \"strategy_map\": active_strats,\n",
    "        \"sent\": False,\n",
    "    }\n",
    "    \n",
    "    return data\n",
    "\n",
    "# TODO: Save current / desired portfolio\n",
    "def save(data: t.Dict[str, t.List[str]], filename: str) -> None:\n",
    "\n",
    "    # the json file where the output must be stored \n",
    "    out_file = open(FOLDER / f\"{filename}.json\", \"w\") \n",
    "    json.dump(data, out_file, indent = 6) \n",
    "    out_file.close() \n",
    "    \n",
    "    return\n",
    "\n",
    "# TODO: Load current / desired portfolio\n",
    "def load(filename: str) -> t.Dict[str, t.List[str]]:\n",
    "    with open(FOLDER / f\"{filename}.json\", \"r\") as file:\n",
    "        data = json.load(file)\n",
    "    return data\n",
    "\n",
    "\n",
    "def load_historical_strategy_returns() -> pd.DataFrame:\n",
    "    return pd.read_csv(f\"outputs/strategy_returns.csv\", header=[0, 1, 2], index_col=0)\n",
    "\n",
    "\n",
    "def get_sub_historical_strategy_returns(active_strats: t.Dict[str, t.List[str]], hist_returns: pd.DataFrame) -> pd.DataFrame:\n",
    "    sub_returns = pd.concat([\n",
    "        hist_returns.loc[:, \n",
    "            (hist_returns.columns.get_level_values(1) == strat) \n",
    "            & (hist_returns.columns.get_level_values(2).isin(tickers))\n",
    "        ] for strat, tickers in active_strats.items()], axis=1)\n",
    "    return sub_returns\n",
    "\n",
    "\n",
    "def get_last_price(ticker: str) -> float:\n",
    "    data = yf.download(ticker, interval=\"1m\", progress=False)\n",
    "    data = data.sort_index(ascending=False)\n",
    "    data = data.reset_index()\n",
    "    return data.loc[0, \"Close\"]\n",
    "\n",
    "    "
   ]
  },
  {
   "cell_type": "code",
   "execution_count": 4,
   "id": "1ae7a09a-a5f7-4555-8d15-e55a089e3586",
   "metadata": {},
   "outputs": [],
   "source": [
    "def define_portfolio(date: dt.date, store: bool = True, portfolio_value: float = None) -> None:\n",
    "\n",
    "    # Fetch active strategies\n",
    "    active_strategies = get_active_strategies(strategy_map=STRATEGY_UNIVERSE_MAP, date=date)\n",
    "    \n",
    "    # Load historical strategy returns\n",
    "    historical_strategy_returns = load_historical_strategy_returns()\n",
    "\n",
    "    print(active_strategies)\n",
    "    # Filter out non-active strategies\n",
    "    sub_returns = get_sub_historical_strategy_returns(active_strats=active_strategies, hist_returns=historical_strategy_returns)\n",
    "    print(sub_returns)\n",
    "    # Define side\n",
    "    sides = pd.Series(sub_returns.columns.get_level_values(1).map(lambda x: STRATEGY_SIDES.get(x, 1)), index=sub_returns.columns)\n",
    "\n",
    "    # Weights per strategy\n",
    "    weights = pd.Series(sides / sub_returns.shape[1], index=sub_returns.columns)\n",
    "\n",
    "    # Sum assets in each strategy\n",
    "    asset_weights = weights.groupby(level=2).sum()\n",
    "\n",
    "    # TODO: Fetch real value\n",
    "    # Ask for current portfolio value\n",
    "    if portfolio_value is None:\n",
    "        portfolio_value = float(input(\"What is the current portfolio value?\"))\n",
    "    \n",
    "    # Get value to invest in asset\n",
    "    asset_value = portfolio_value * asset_weights\n",
    "\n",
    "    # Get most recent price for each asset\n",
    "    last_prices = pd.Series({asset: get_last_price(ticker=asset) for asset in asset_value.index})\n",
    "\n",
    "    # TODO: Define price at which to trade -> note using MOC orders\n",
    "    \n",
    "    # Define delta\n",
    "    deltas = (asset_value / last_prices).astype(int)\n",
    "\n",
    "    # Combine portfolio details\n",
    "    portfolio_details = pd.concat([\n",
    "        asset_weights.to_frame(name=\"weights\"), \n",
    "        asset_value.to_frame(name=\"value\"), \n",
    "        last_prices.to_frame(name=\"px\"), \n",
    "        deltas.to_frame(name=\"delta\")\n",
    "    ], axis=1)\n",
    "    portfolio_details.index.name = \"asset\"\n",
    "\n",
    "    # Combine strategy details\n",
    "    strategy_details = pd.concat([sides.to_frame(name=\"side\"), weights.to_frame(name=\"weight\")], axis=1)\n",
    "\n",
    "    if store:\n",
    "        # Save strategy\n",
    "        save(data=format_active_strats(active_strats=active_strategies), filename=\"strategy\")\n",
    "        # Save portfolio\n",
    "        portfolio_details.to_csv(FOLDER / \"portfolio_details.csv\")\n",
    "        # Save strategies\n",
    "        strategy_details.to_csv(FOLDER / \"strategy_details.csv\")\n",
    "\n",
    "    display(portfolio_details)\n",
    "    display(strategy_details)\n",
    "    \n",
    "    return\n",
    "\n",
    "def get_portfolio() -> pd.DataFrame:\n",
    "    return pd.read_csv(FOLDER / \"expected_portfolio_details.csv\", index_col=0)\n",
    "\n",
    "\n",
    "def reset_portfolio() -> None:\n",
    "    pd.DataFrame(columns=[\"asset\", \"weights\", \"value\", \"px\", \"delta\"]).to_csv(FOLDER / \"expected_portfolio_details.csv\")\n",
    "    return\n"
   ]
  },
  {
   "cell_type": "markdown",
   "id": "6342529f-dadf-4af8-aba0-487f87d72498",
   "metadata": {},
   "source": [
    "## Current Portfolio Calculation"
   ]
  },
  {
   "cell_type": "markdown",
   "id": "ca1c48b0-cd6d-4e90-985a-a4f27602b399",
   "metadata": {},
   "source": [
    "### Define Date"
   ]
  },
  {
   "cell_type": "code",
   "execution_count": 5,
   "id": "57fb53d7-49de-4b01-8798-ae777692dd6c",
   "metadata": {},
   "outputs": [],
   "source": [
    "DATE = dt.date.today()\n",
    "# DATE = dt.date(2024, 2, 23)\n",
    "date = DATE"
   ]
  },
  {
   "cell_type": "markdown",
   "id": "3b99bf85-2973-49e7-9063-8d11966a2adc",
   "metadata": {},
   "source": [
    "### Define Strategy Universe"
   ]
  },
  {
   "cell_type": "code",
   "execution_count": 6,
   "id": "a13fa48b-e190-4dca-aa11-b1417d0f41dc",
   "metadata": {},
   "outputs": [
    {
     "data": {
      "text/plain": [
       "{'russell_rebalance': 'IWM',\n",
       " 'super_bowl': ['SPY', 'QQQ'],\n",
       " 'short_term_reversal': ['SPY', 'QQQ'],\n",
       " 'buy_when_yields_are_low': ['SPY', 'QQQ'],\n",
       " 'pay_day_strategy': ['SPY', 'QQQ'],\n",
       " 'sankt_nikolaus_strategy': 'EWG',\n",
       " 'santa_claus_strategy': ['SPY', 'QQQ'],\n",
       " 'september_bear': ['SPY', 'QQQ'],\n",
       " 'tax_day_strategy': ['SPY', 'QQQ'],\n",
       " 'turn_around_tuesday_strategy': ['SPY', 'QQQ']}"
      ]
     },
     "execution_count": 6,
     "metadata": {},
     "output_type": "execute_result"
    }
   ],
   "source": [
    "US_INDICES = [\"SPY\", \"QQQ\"]\n",
    "\n",
    "STRATEGY_UNIVERSE_MAP = {\n",
    "    \"russell_rebalance\": \"IWM\",\n",
    "    \"super_bowl\": US_INDICES,\n",
    "    \"short_term_reversal\": US_INDICES,\n",
    "    \"buy_when_yields_are_low\": US_INDICES,\n",
    "    \"pay_day_strategy\": US_INDICES,\n",
    "    \"sankt_nikolaus_strategy\": \"EWG\",\n",
    "    \"santa_claus_strategy\": US_INDICES,\n",
    "    \"september_bear\": US_INDICES,\n",
    "    \"tax_day_strategy\": US_INDICES,\n",
    "    \"turn_around_tuesday_strategy\": US_INDICES,\n",
    "}\n",
    "STRATEGY_UNIVERSE_MAP"
   ]
  },
  {
   "cell_type": "code",
   "execution_count": 7,
   "id": "7fd4a54d-98f3-49b6-9aae-edb61d81fbb6",
   "metadata": {},
   "outputs": [
    {
     "data": {
      "text/plain": [
       "{'september_bear': -1}"
      ]
     },
     "execution_count": 7,
     "metadata": {},
     "output_type": "execute_result"
    }
   ],
   "source": [
    "STRATEGY_SIDES = {\n",
    "    \"september_bear\": -1,\n",
    "}\n",
    "STRATEGY_SIDES"
   ]
  },
  {
   "cell_type": "code",
   "execution_count": null,
   "id": "5421ae41-4578-477b-89d6-acbb73a3ee6d",
   "metadata": {},
   "outputs": [],
   "source": []
  },
  {
   "cell_type": "code",
   "execution_count": null,
   "id": "84964941-59c5-47a9-9a79-b3bb8955d78a",
   "metadata": {},
   "outputs": [],
   "source": []
  },
  {
   "cell_type": "markdown",
   "id": "b26864a6-290c-448e-b148-74b773a8bb6b",
   "metadata": {},
   "source": [
    "## Define Current Portfolio"
   ]
  },
  {
   "cell_type": "code",
   "execution_count": 8,
   "id": "30aa7f8b-fb76-4c77-a6c3-2ed00f5d8790",
   "metadata": {},
   "outputs": [],
   "source": [
    "# reset_portfolio()"
   ]
  },
  {
   "cell_type": "code",
   "execution_count": 9,
   "id": "ada3bb99-48db-4b43-a214-e0bfac210c1a",
   "metadata": {},
   "outputs": [
    {
     "name": "stderr",
     "output_type": "stream",
     "text": [
      "\u001b[32m2024-02-26 09:26:12.443\u001b[0m | \u001b[1mINFO    \u001b[0m | \u001b[36m__main__\u001b[0m:\u001b[36mget_active_strategies\u001b[0m:\u001b[36m26\u001b[0m - \u001b[1mActive: 'pay_day_strategy' -> SPY,QQQ\u001b[0m\n"
     ]
    },
    {
     "name": "stdout",
     "output_type": "stream",
     "text": [
      "{'pay_day_strategy': ['SPY', 'QQQ']}\n",
      "           seasonal_trading          \n",
      "           pay_day_strategy          \n",
      "                        SPY       QQQ\n",
      "Date                                 \n",
      "2000-01-03        -0.039107 -0.068601\n",
      "2000-01-04              NaN       NaN\n",
      "2000-01-05              NaN       NaN\n",
      "2000-01-06              NaN       NaN\n",
      "2000-01-07              NaN       NaN\n",
      "...                     ...       ...\n",
      "2024-02-15              NaN       NaN\n",
      "2024-02-16              NaN       NaN\n",
      "2024-02-20              NaN       NaN\n",
      "2024-02-21              NaN       NaN\n",
      "2024-02-22              NaN       NaN\n",
      "\n",
      "[6073 rows x 2 columns]\n"
     ]
    },
    {
     "data": {
      "text/html": [
       "<div>\n",
       "<style scoped>\n",
       "    .dataframe tbody tr th:only-of-type {\n",
       "        vertical-align: middle;\n",
       "    }\n",
       "\n",
       "    .dataframe tbody tr th {\n",
       "        vertical-align: top;\n",
       "    }\n",
       "\n",
       "    .dataframe thead th {\n",
       "        text-align: right;\n",
       "    }\n",
       "</style>\n",
       "<table border=\"1\" class=\"dataframe\">\n",
       "  <thead>\n",
       "    <tr style=\"text-align: right;\">\n",
       "      <th></th>\n",
       "      <th>weights</th>\n",
       "      <th>value</th>\n",
       "      <th>px</th>\n",
       "      <th>delta</th>\n",
       "    </tr>\n",
       "    <tr>\n",
       "      <th>asset</th>\n",
       "      <th></th>\n",
       "      <th></th>\n",
       "      <th></th>\n",
       "      <th></th>\n",
       "    </tr>\n",
       "  </thead>\n",
       "  <tbody>\n",
       "    <tr>\n",
       "      <th>QQQ</th>\n",
       "      <td>0.5</td>\n",
       "      <td>250.0</td>\n",
       "      <td>436.739990</td>\n",
       "      <td>0</td>\n",
       "    </tr>\n",
       "    <tr>\n",
       "      <th>SPY</th>\n",
       "      <td>0.5</td>\n",
       "      <td>250.0</td>\n",
       "      <td>507.820007</td>\n",
       "      <td>0</td>\n",
       "    </tr>\n",
       "  </tbody>\n",
       "</table>\n",
       "</div>"
      ],
      "text/plain": [
       "       weights  value          px  delta\n",
       "asset                                   \n",
       "QQQ        0.5  250.0  436.739990      0\n",
       "SPY        0.5  250.0  507.820007      0"
      ]
     },
     "metadata": {},
     "output_type": "display_data"
    },
    {
     "data": {
      "text/html": [
       "<div>\n",
       "<style scoped>\n",
       "    .dataframe tbody tr th:only-of-type {\n",
       "        vertical-align: middle;\n",
       "    }\n",
       "\n",
       "    .dataframe tbody tr th {\n",
       "        vertical-align: top;\n",
       "    }\n",
       "\n",
       "    .dataframe thead th {\n",
       "        text-align: right;\n",
       "    }\n",
       "</style>\n",
       "<table border=\"1\" class=\"dataframe\">\n",
       "  <thead>\n",
       "    <tr style=\"text-align: right;\">\n",
       "      <th></th>\n",
       "      <th></th>\n",
       "      <th></th>\n",
       "      <th>side</th>\n",
       "      <th>weight</th>\n",
       "    </tr>\n",
       "  </thead>\n",
       "  <tbody>\n",
       "    <tr>\n",
       "      <th rowspan=\"2\" valign=\"top\">seasonal_trading</th>\n",
       "      <th rowspan=\"2\" valign=\"top\">pay_day_strategy</th>\n",
       "      <th>SPY</th>\n",
       "      <td>1</td>\n",
       "      <td>0.5</td>\n",
       "    </tr>\n",
       "    <tr>\n",
       "      <th>QQQ</th>\n",
       "      <td>1</td>\n",
       "      <td>0.5</td>\n",
       "    </tr>\n",
       "  </tbody>\n",
       "</table>\n",
       "</div>"
      ],
      "text/plain": [
       "                                       side  weight\n",
       "seasonal_trading pay_day_strategy SPY     1     0.5\n",
       "                                  QQQ     1     0.5"
      ]
     },
     "metadata": {},
     "output_type": "display_data"
    }
   ],
   "source": [
    "define_portfolio(date=DATE, store=False, portfolio_value=500.0)"
   ]
  },
  {
   "cell_type": "markdown",
   "id": "a3df98fa-eaa3-4ee1-b139-8aa195adbe39",
   "metadata": {},
   "source": [
    "## Fetch Expected Portfolio"
   ]
  },
  {
   "cell_type": "code",
   "execution_count": 8,
   "id": "4c6912f9-1d2b-4982-af5d-7a2e274e1421",
   "metadata": {},
   "outputs": [
    {
     "data": {
      "text/html": [
       "<div>\n",
       "<style scoped>\n",
       "    .dataframe tbody tr th:only-of-type {\n",
       "        vertical-align: middle;\n",
       "    }\n",
       "\n",
       "    .dataframe tbody tr th {\n",
       "        vertical-align: top;\n",
       "    }\n",
       "\n",
       "    .dataframe thead th {\n",
       "        text-align: right;\n",
       "    }\n",
       "</style>\n",
       "<table border=\"1\" class=\"dataframe\">\n",
       "  <thead>\n",
       "    <tr style=\"text-align: right;\">\n",
       "      <th></th>\n",
       "      <th>weights</th>\n",
       "      <th>value</th>\n",
       "      <th>px</th>\n",
       "      <th>delta</th>\n",
       "    </tr>\n",
       "    <tr>\n",
       "      <th>asset</th>\n",
       "      <th></th>\n",
       "      <th></th>\n",
       "      <th></th>\n",
       "      <th></th>\n",
       "    </tr>\n",
       "  </thead>\n",
       "  <tbody>\n",
       "    <tr>\n",
       "      <th>SPY</th>\n",
       "      <td>1.0</td>\n",
       "      <td>500.0</td>\n",
       "      <td>499.48999</td>\n",
       "      <td>1</td>\n",
       "    </tr>\n",
       "  </tbody>\n",
       "</table>\n",
       "</div>"
      ],
      "text/plain": [
       "       weights  value         px  delta\n",
       "asset                                  \n",
       "SPY        1.0  500.0  499.48999      1"
      ]
     },
     "execution_count": 8,
     "metadata": {},
     "output_type": "execute_result"
    }
   ],
   "source": [
    "expected_portfolio = get_portfolio()\n",
    "expected_portfolio"
   ]
  },
  {
   "cell_type": "code",
   "execution_count": null,
   "id": "8ea45c59-0005-45e3-b546-1861a8e3e6d7",
   "metadata": {},
   "outputs": [],
   "source": []
  },
  {
   "cell_type": "code",
   "execution_count": null,
   "id": "57042ce7-7a78-4447-a921-a43b23f6bece",
   "metadata": {},
   "outputs": [],
   "source": []
  },
  {
   "cell_type": "code",
   "execution_count": 9,
   "id": "1238aa54-67d2-4e82-9e04-54e0b5de2a7e",
   "metadata": {},
   "outputs": [
    {
     "data": {
      "text/plain": [
       "[('event_trading', 'super_bowl', 'SPY'),\n",
       " ('event_trading', 'super_bowl', 'QQQ'),\n",
       " ('overnight_trading', 'short_term_reversal', 'SPY'),\n",
       " ('overnight_trading', 'short_term_reversal', 'QQQ'),\n",
       " ('seasonal_trading', 'buy_when_yields_are_low', 'SPY'),\n",
       " ('seasonal_trading', 'buy_when_yields_are_low', 'QQQ'),\n",
       " ('seasonal_trading', 'pay_day_strategy', 'SPY'),\n",
       " ('seasonal_trading', 'pay_day_strategy', 'QQQ'),\n",
       " ('seasonal_trading', 'santa_claus_strategy', 'SPY'),\n",
       " ('seasonal_trading', 'santa_claus_strategy', 'QQQ'),\n",
       " ('seasonal_trading', 'september_bear', 'SPY'),\n",
       " ('seasonal_trading', 'september_bear', 'QQQ'),\n",
       " ('seasonal_trading', 'tax_day_strategy', 'SPY'),\n",
       " ('seasonal_trading', 'tax_day_strategy', 'QQQ'),\n",
       " ('seasonal_trading', 'turn_around_tuesday_strategy', 'SPY'),\n",
       " ('seasonal_trading', 'turn_around_tuesday_strategy', 'QQQ'),\n",
       " 'hold_days',\n",
       " 'pos_SPY',\n",
       " 'pos_QQQ',\n",
       " 'pos_CASH']"
      ]
     },
     "execution_count": 9,
     "metadata": {},
     "output_type": "execute_result"
    }
   ],
   "source": [
    "COLUMNS = [\n",
    "    ('event_trading', 'super_bowl', 'SPY'),\n",
    "    ('event_trading', 'super_bowl', 'QQQ'),\n",
    "    ('overnight_trading', 'short_term_reversal', 'SPY'),\n",
    "    ('overnight_trading', 'short_term_reversal', 'QQQ'),\n",
    "    ('seasonal_trading', 'buy_when_yields_are_low', 'SPY'),\n",
    "    ('seasonal_trading', 'buy_when_yields_are_low', 'QQQ'),\n",
    "    ('seasonal_trading', 'pay_day_strategy', 'SPY'),\n",
    "    ('seasonal_trading', 'pay_day_strategy', 'QQQ'),\n",
    "    ('seasonal_trading', 'santa_claus_strategy', 'SPY'),\n",
    "    ('seasonal_trading', 'santa_claus_strategy', 'QQQ'),\n",
    "    ('seasonal_trading', 'september_bear', 'SPY'),\n",
    "    ('seasonal_trading', 'september_bear', 'QQQ'),\n",
    "    ('seasonal_trading', 'tax_day_strategy', 'SPY'),\n",
    "    ('seasonal_trading', 'tax_day_strategy', 'QQQ'),\n",
    "    ('seasonal_trading', 'turn_around_tuesday_strategy', 'SPY'),\n",
    "    ('seasonal_trading', 'turn_around_tuesday_strategy', 'QQQ'),\n",
    "    'hold_days',\n",
    "    'pos_SPY',\n",
    "    'pos_QQQ',\n",
    "    'pos_CASH'\n",
    "]\n",
    "COLUMNS"
   ]
  },
  {
   "cell_type": "code",
   "execution_count": null,
   "id": "05e38014-b5ee-4ba7-b5e6-19ab04797608",
   "metadata": {},
   "outputs": [],
   "source": []
  },
  {
   "cell_type": "code",
   "execution_count": 125,
   "id": "9481c381-5ebe-4ab3-9a6f-f1ee086a145b",
   "metadata": {},
   "outputs": [],
   "source": [
    "import torch\n",
    "from quantified_strategies.models import Net_Asset_Allocator_with_Position_Management as Net\n",
    "\n",
    "def convert_data(strats, expected_port):\n",
    "    X = pd.Series(0.0, index=COLUMNS)\n",
    "    for index in COLUMNS:\n",
    "        if isinstance(index, str):\n",
    "            if index == \"hold_days\":\n",
    "                print(\"hold_days\")\n",
    "                continue\n",
    "            else:\n",
    "                _, asset = index.split(\"_\", maxsplit=1)\n",
    "                \n",
    "                if asset not in expected_port.index:\n",
    "                    continue\n",
    "                X[index] = expected_port.loc[asset, \"weights\"]\n",
    "                continue\n",
    "        else:\n",
    "            _, strat_name, asset = index\n",
    "            if assets := strats.get(strat_name):\n",
    "                if asset in assets:\n",
    "                    X[index] = 1.0\n",
    "    X = X.to_frame(name=\"current_portfolio\").T\n",
    "    return X\n",
    "\n",
    "def get_portfolio(date: dt.date, expected_port = None):\n",
    "\n",
    "    if expected_port is None:\n",
    "        expected_port = pd.Series(0, index=[\"SPY\", \"QQQ\", \"CASH\"]).to_frame(name=\"weights\")\n",
    "    \n",
    "    model = Net.load(input_shape=len(COLUMNS), output_shape=3, name=\"latest\")\n",
    "    active_strategies = get_active_strategies(strategy_map=STRATEGY_UNIVERSE_MAP, date=date, verbose=True)\n",
    "    X = convert_data(strats=active_strategies, expected_port=expected_port)\n",
    "    X = torch.Tensor(X.values)\n",
    "\n",
    "    expected_port = pd.Series(model(X).reshape(3).detach().numpy(), index=[\"SPY\", \"QQQ\", \"CASH\"])\n",
    "    expected_port = expected_port.to_frame(name=\"weights\")\n",
    "\n",
    "    return expected_port\n"
   ]
  },
  {
   "cell_type": "code",
   "execution_count": 126,
   "id": "78908748-a046-4b39-ab0f-e7f77045ffde",
   "metadata": {},
   "outputs": [
    {
     "name": "stderr",
     "output_type": "stream",
     "text": [
      "\u001b[32m2024-02-27 16:05:52.086\u001b[0m | \u001b[1mINFO    \u001b[0m | \u001b[36m__main__\u001b[0m:\u001b[36mget_active_strategies\u001b[0m:\u001b[36m26\u001b[0m - \u001b[1mActive: 'buy_when_yields_are_low' -> SPY,QQQ\u001b[0m\n",
      "\u001b[32m2024-02-27 16:05:52.087\u001b[0m | \u001b[1mINFO    \u001b[0m | \u001b[36m__main__\u001b[0m:\u001b[36mget_active_strategies\u001b[0m:\u001b[36m31\u001b[0m - \u001b[1mActive: 'pay_day_strategy' -> SPY,QQQ\u001b[0m\n",
      "\u001b[32m2024-02-27 16:05:52.556\u001b[0m | \u001b[1mINFO    \u001b[0m | \u001b[36m__main__\u001b[0m:\u001b[36mget_active_strategies\u001b[0m:\u001b[36m41\u001b[0m - \u001b[1mActive: 'santa_claus_strategy' -> SPY,QQQ\u001b[0m\n"
     ]
    },
    {
     "name": "stdout",
     "output_type": "stream",
     "text": [
      "hold_days\n",
      "2024-01-01 00:00:00\n",
      "           weights\n",
      "SPY   1.695752e-05\n",
      "QQQ   2.980232e-08\n",
      "CASH  9.999831e-01\n"
     ]
    },
    {
     "name": "stderr",
     "output_type": "stream",
     "text": [
      "\u001b[32m2024-02-27 16:05:54.457\u001b[0m | \u001b[1mINFO    \u001b[0m | \u001b[36m__main__\u001b[0m:\u001b[36mget_active_strategies\u001b[0m:\u001b[36m21\u001b[0m - \u001b[1mActive: 'short_term_reversal' -> 'QQQ'\u001b[0m\n",
      "\u001b[32m2024-02-27 16:05:56.798\u001b[0m | \u001b[1mINFO    \u001b[0m | \u001b[36m__main__\u001b[0m:\u001b[36mget_active_strategies\u001b[0m:\u001b[36m26\u001b[0m - \u001b[1mActive: 'buy_when_yields_are_low' -> SPY,QQQ\u001b[0m\n",
      "\u001b[32m2024-02-27 16:05:56.905\u001b[0m | \u001b[1mINFO    \u001b[0m | \u001b[36m__main__\u001b[0m:\u001b[36mget_active_strategies\u001b[0m:\u001b[36m41\u001b[0m - \u001b[1mActive: 'santa_claus_strategy' -> SPY,QQQ\u001b[0m\n"
     ]
    },
    {
     "name": "stdout",
     "output_type": "stream",
     "text": [
      "hold_days\n",
      "2024-01-02 00:00:00\n",
      "           weights\n",
      "SPY   4.678965e-06\n",
      "QQQ   9.999946e-01\n",
      "CASH  6.556511e-07\n"
     ]
    },
    {
     "name": "stderr",
     "output_type": "stream",
     "text": [
      "\u001b[32m2024-02-27 16:05:58.878\u001b[0m | \u001b[1mINFO    \u001b[0m | \u001b[36m__main__\u001b[0m:\u001b[36mget_active_strategies\u001b[0m:\u001b[36m21\u001b[0m - \u001b[1mActive: 'short_term_reversal' -> 'SPY'\u001b[0m\n",
      "\u001b[32m2024-02-27 16:05:59.254\u001b[0m | \u001b[1mINFO    \u001b[0m | \u001b[36m__main__\u001b[0m:\u001b[36mget_active_strategies\u001b[0m:\u001b[36m21\u001b[0m - \u001b[1mActive: 'short_term_reversal' -> 'QQQ'\u001b[0m\n",
      "\u001b[32m2024-02-27 16:06:01.687\u001b[0m | \u001b[1mINFO    \u001b[0m | \u001b[36m__main__\u001b[0m:\u001b[36mget_active_strategies\u001b[0m:\u001b[36m26\u001b[0m - \u001b[1mActive: 'buy_when_yields_are_low' -> SPY,QQQ\u001b[0m\n",
      "\u001b[32m2024-02-27 16:06:01.796\u001b[0m | \u001b[1mINFO    \u001b[0m | \u001b[36m__main__\u001b[0m:\u001b[36mget_active_strategies\u001b[0m:\u001b[36m41\u001b[0m - \u001b[1mActive: 'santa_claus_strategy' -> SPY,QQQ\u001b[0m\n"
     ]
    },
    {
     "name": "stdout",
     "output_type": "stream",
     "text": [
      "hold_days\n",
      "2024-01-03 00:00:00\n",
      "      weights\n",
      "SPY       0.0\n",
      "QQQ       1.0\n",
      "CASH      0.0\n"
     ]
    },
    {
     "name": "stderr",
     "output_type": "stream",
     "text": [
      "\u001b[32m2024-02-27 16:06:03.905\u001b[0m | \u001b[1mINFO    \u001b[0m | \u001b[36m__main__\u001b[0m:\u001b[36mget_active_strategies\u001b[0m:\u001b[36m21\u001b[0m - \u001b[1mActive: 'short_term_reversal' -> 'SPY'\u001b[0m\n",
      "\u001b[32m2024-02-27 16:06:04.238\u001b[0m | \u001b[1mINFO    \u001b[0m | \u001b[36m__main__\u001b[0m:\u001b[36mget_active_strategies\u001b[0m:\u001b[36m21\u001b[0m - \u001b[1mActive: 'short_term_reversal' -> 'QQQ'\u001b[0m\n",
      "\u001b[32m2024-02-27 16:06:06.288\u001b[0m | \u001b[1mINFO    \u001b[0m | \u001b[36m__main__\u001b[0m:\u001b[36mget_active_strategies\u001b[0m:\u001b[36m26\u001b[0m - \u001b[1mActive: 'buy_when_yields_are_low' -> SPY,QQQ\u001b[0m\n"
     ]
    },
    {
     "name": "stdout",
     "output_type": "stream",
     "text": [
      "hold_days\n",
      "2024-01-04 00:00:00\n",
      "           weights\n",
      "SPY   8.940697e-08\n",
      "QQQ   9.999999e-01\n",
      "CASH  2.980232e-08\n"
     ]
    },
    {
     "name": "stderr",
     "output_type": "stream",
     "text": [
      "\u001b[32m2024-02-27 16:06:10.600\u001b[0m | \u001b[1mINFO    \u001b[0m | \u001b[36m__main__\u001b[0m:\u001b[36mget_active_strategies\u001b[0m:\u001b[36m26\u001b[0m - \u001b[1mActive: 'buy_when_yields_are_low' -> SPY,QQQ\u001b[0m\n"
     ]
    },
    {
     "name": "stdout",
     "output_type": "stream",
     "text": [
      "hold_days\n",
      "2024-01-05 00:00:00\n",
      "      weights\n",
      "SPY       0.0\n",
      "QQQ       0.0\n",
      "CASH      1.0\n"
     ]
    },
    {
     "name": "stderr",
     "output_type": "stream",
     "text": [
      "\u001b[32m2024-02-27 16:06:15.430\u001b[0m | \u001b[1mINFO    \u001b[0m | \u001b[36m__main__\u001b[0m:\u001b[36mget_active_strategies\u001b[0m:\u001b[36m26\u001b[0m - \u001b[1mActive: 'buy_when_yields_are_low' -> SPY,QQQ\u001b[0m\n"
     ]
    },
    {
     "name": "stdout",
     "output_type": "stream",
     "text": [
      "hold_days\n",
      "2024-01-08 00:00:00\n",
      "      weights\n",
      "SPY       0.0\n",
      "QQQ       0.0\n",
      "CASH      1.0\n",
      "hold_days\n",
      "2024-01-09 00:00:00\n",
      "      weights\n",
      "SPY       0.0\n",
      "QQQ       0.0\n",
      "CASH      1.0\n",
      "hold_days\n",
      "2024-01-10 00:00:00\n",
      "      weights\n",
      "SPY       0.0\n",
      "QQQ       0.0\n",
      "CASH      1.0\n",
      "hold_days\n",
      "2024-01-11 00:00:00\n",
      "      weights\n",
      "SPY       0.0\n",
      "QQQ       0.0\n",
      "CASH      1.0\n",
      "hold_days\n",
      "2024-01-12 00:00:00\n",
      "      weights\n",
      "SPY       0.0\n",
      "QQQ       0.0\n",
      "CASH      1.0\n",
      "hold_days\n",
      "2024-01-15 00:00:00\n",
      "      weights\n",
      "SPY       0.0\n",
      "QQQ       0.0\n",
      "CASH      1.0\n",
      "hold_days\n",
      "2024-01-16 00:00:00\n",
      "      weights\n",
      "SPY       0.0\n",
      "QQQ       0.0\n",
      "CASH      1.0\n",
      "hold_days\n",
      "2024-01-17 00:00:00\n",
      "      weights\n",
      "SPY       0.0\n",
      "QQQ       0.0\n",
      "CASH      1.0\n",
      "hold_days\n",
      "2024-01-18 00:00:00\n",
      "      weights\n",
      "SPY       0.0\n",
      "QQQ       0.0\n",
      "CASH      1.0\n",
      "hold_days\n",
      "2024-01-19 00:00:00\n",
      "      weights\n",
      "SPY       0.0\n",
      "QQQ       0.0\n",
      "CASH      1.0\n",
      "hold_days\n",
      "2024-01-22 00:00:00\n",
      "      weights\n",
      "SPY       0.0\n",
      "QQQ       0.0\n",
      "CASH      1.0\n",
      "hold_days\n",
      "2024-01-23 00:00:00\n",
      "      weights\n",
      "SPY       0.0\n",
      "QQQ       0.0\n",
      "CASH      1.0\n",
      "hold_days\n",
      "2024-01-24 00:00:00\n",
      "      weights\n",
      "SPY       0.0\n",
      "QQQ       0.0\n",
      "CASH      1.0\n"
     ]
    },
    {
     "name": "stderr",
     "output_type": "stream",
     "text": [
      "\u001b[32m2024-02-27 16:07:19.600\u001b[0m | \u001b[1mINFO    \u001b[0m | \u001b[36m__main__\u001b[0m:\u001b[36mget_active_strategies\u001b[0m:\u001b[36m31\u001b[0m - \u001b[1mActive: 'pay_day_strategy' -> SPY,QQQ\u001b[0m\n"
     ]
    },
    {
     "name": "stdout",
     "output_type": "stream",
     "text": [
      "hold_days\n",
      "2024-01-25 00:00:00\n",
      "      weights\n",
      "SPY       0.0\n",
      "QQQ       0.0\n",
      "CASH      1.0\n"
     ]
    },
    {
     "name": "stderr",
     "output_type": "stream",
     "text": [
      "\u001b[32m2024-02-27 16:07:24.645\u001b[0m | \u001b[1mINFO    \u001b[0m | \u001b[36m__main__\u001b[0m:\u001b[36mget_active_strategies\u001b[0m:\u001b[36m31\u001b[0m - \u001b[1mActive: 'pay_day_strategy' -> SPY,QQQ\u001b[0m\n"
     ]
    },
    {
     "name": "stdout",
     "output_type": "stream",
     "text": [
      "hold_days\n",
      "2024-01-26 00:00:00\n",
      "      weights\n",
      "SPY       0.0\n",
      "QQQ       0.0\n",
      "CASH      1.0\n"
     ]
    },
    {
     "name": "stderr",
     "output_type": "stream",
     "text": [
      "\u001b[32m2024-02-27 16:07:29.450\u001b[0m | \u001b[1mINFO    \u001b[0m | \u001b[36m__main__\u001b[0m:\u001b[36mget_active_strategies\u001b[0m:\u001b[36m31\u001b[0m - \u001b[1mActive: 'pay_day_strategy' -> SPY,QQQ\u001b[0m\n"
     ]
    },
    {
     "name": "stdout",
     "output_type": "stream",
     "text": [
      "hold_days\n",
      "2024-01-29 00:00:00\n",
      "      weights\n",
      "SPY       0.0\n",
      "QQQ       0.0\n",
      "CASH      1.0\n"
     ]
    },
    {
     "name": "stderr",
     "output_type": "stream",
     "text": [
      "\u001b[32m2024-02-27 16:07:34.711\u001b[0m | \u001b[1mINFO    \u001b[0m | \u001b[36m__main__\u001b[0m:\u001b[36mget_active_strategies\u001b[0m:\u001b[36m31\u001b[0m - \u001b[1mActive: 'pay_day_strategy' -> SPY,QQQ\u001b[0m\n"
     ]
    },
    {
     "name": "stdout",
     "output_type": "stream",
     "text": [
      "hold_days\n",
      "2024-01-30 00:00:00\n",
      "      weights\n",
      "SPY       0.0\n",
      "QQQ       0.0\n",
      "CASH      1.0\n"
     ]
    },
    {
     "name": "stderr",
     "output_type": "stream",
     "text": [
      "\u001b[32m2024-02-27 16:07:39.108\u001b[0m | \u001b[1mINFO    \u001b[0m | \u001b[36m__main__\u001b[0m:\u001b[36mget_active_strategies\u001b[0m:\u001b[36m31\u001b[0m - \u001b[1mActive: 'pay_day_strategy' -> SPY,QQQ\u001b[0m\n"
     ]
    },
    {
     "name": "stdout",
     "output_type": "stream",
     "text": [
      "hold_days\n",
      "2024-01-31 00:00:00\n",
      "      weights\n",
      "SPY       0.0\n",
      "QQQ       0.0\n",
      "CASH      1.0\n"
     ]
    },
    {
     "name": "stderr",
     "output_type": "stream",
     "text": [
      "\u001b[32m2024-02-27 16:07:44.415\u001b[0m | \u001b[1mINFO    \u001b[0m | \u001b[36m__main__\u001b[0m:\u001b[36mget_active_strategies\u001b[0m:\u001b[36m31\u001b[0m - \u001b[1mActive: 'pay_day_strategy' -> SPY,QQQ\u001b[0m\n"
     ]
    },
    {
     "name": "stdout",
     "output_type": "stream",
     "text": [
      "hold_days\n",
      "2024-02-01 00:00:00\n",
      "      weights\n",
      "SPY       0.0\n",
      "QQQ       0.0\n",
      "CASH      1.0\n"
     ]
    },
    {
     "name": "stderr",
     "output_type": "stream",
     "text": [
      "\u001b[32m2024-02-27 16:07:49.208\u001b[0m | \u001b[1mINFO    \u001b[0m | \u001b[36m__main__\u001b[0m:\u001b[36mget_active_strategies\u001b[0m:\u001b[36m26\u001b[0m - \u001b[1mActive: 'buy_when_yields_are_low' -> SPY,QQQ\u001b[0m\n"
     ]
    },
    {
     "name": "stdout",
     "output_type": "stream",
     "text": [
      "hold_days\n",
      "2024-02-02 00:00:00\n",
      "      weights\n",
      "SPY       0.0\n",
      "QQQ       0.0\n",
      "CASH      1.0\n"
     ]
    },
    {
     "name": "stderr",
     "output_type": "stream",
     "text": [
      "\u001b[32m2024-02-27 16:07:53.995\u001b[0m | \u001b[1mINFO    \u001b[0m | \u001b[36m__main__\u001b[0m:\u001b[36mget_active_strategies\u001b[0m:\u001b[36m26\u001b[0m - \u001b[1mActive: 'buy_when_yields_are_low' -> SPY,QQQ\u001b[0m\n",
      "\u001b[32m2024-02-27 16:07:54.409\u001b[0m | \u001b[1mINFO    \u001b[0m | \u001b[36m__main__\u001b[0m:\u001b[36mget_active_strategies\u001b[0m:\u001b[36m58\u001b[0m - \u001b[1mActive: 'turn_around_tuesday_strategy' -> 'SPY'\u001b[0m\n",
      "\u001b[32m2024-02-27 16:07:54.750\u001b[0m | \u001b[1mINFO    \u001b[0m | \u001b[36m__main__\u001b[0m:\u001b[36mget_active_strategies\u001b[0m:\u001b[36m58\u001b[0m - \u001b[1mActive: 'turn_around_tuesday_strategy' -> 'QQQ'\u001b[0m\n"
     ]
    },
    {
     "name": "stdout",
     "output_type": "stream",
     "text": [
      "hold_days\n",
      "2024-02-05 00:00:00\n",
      "           weights\n",
      "SPY   3.308058e-06\n",
      "QQQ   2.980232e-08\n",
      "CASH  9.999967e-01\n"
     ]
    },
    {
     "name": "stderr",
     "output_type": "stream",
     "text": [
      "\u001b[32m2024-02-27 16:07:58.993\u001b[0m | \u001b[1mINFO    \u001b[0m | \u001b[36m__main__\u001b[0m:\u001b[36mget_active_strategies\u001b[0m:\u001b[36m26\u001b[0m - \u001b[1mActive: 'buy_when_yields_are_low' -> SPY,QQQ\u001b[0m\n",
      "\u001b[32m2024-02-27 16:07:59.362\u001b[0m | \u001b[1mINFO    \u001b[0m | \u001b[36m__main__\u001b[0m:\u001b[36mget_active_strategies\u001b[0m:\u001b[36m58\u001b[0m - \u001b[1mActive: 'turn_around_tuesday_strategy' -> 'SPY'\u001b[0m\n",
      "\u001b[32m2024-02-27 16:07:59.787\u001b[0m | \u001b[1mINFO    \u001b[0m | \u001b[36m__main__\u001b[0m:\u001b[36mget_active_strategies\u001b[0m:\u001b[36m58\u001b[0m - \u001b[1mActive: 'turn_around_tuesday_strategy' -> 'QQQ'\u001b[0m\n"
     ]
    },
    {
     "name": "stdout",
     "output_type": "stream",
     "text": [
      "hold_days\n",
      "2024-02-06 00:00:00\n",
      "           weights\n",
      "SPY   3.308058e-06\n",
      "QQQ   2.980232e-08\n",
      "CASH  9.999967e-01\n"
     ]
    },
    {
     "name": "stderr",
     "output_type": "stream",
     "text": [
      "\u001b[32m2024-02-27 16:08:04.095\u001b[0m | \u001b[1mINFO    \u001b[0m | \u001b[36m__main__\u001b[0m:\u001b[36mget_active_strategies\u001b[0m:\u001b[36m26\u001b[0m - \u001b[1mActive: 'buy_when_yields_are_low' -> SPY,QQQ\u001b[0m\n"
     ]
    },
    {
     "name": "stdout",
     "output_type": "stream",
     "text": [
      "hold_days\n",
      "2024-02-07 00:00:00\n",
      "      weights\n",
      "SPY       0.0\n",
      "QQQ       0.0\n",
      "CASH      1.0\n",
      "hold_days\n",
      "2024-02-08 00:00:00\n",
      "      weights\n",
      "SPY       0.0\n",
      "QQQ       0.0\n",
      "CASH      1.0\n",
      "hold_days\n",
      "2024-02-09 00:00:00\n",
      "      weights\n",
      "SPY       0.0\n",
      "QQQ       0.0\n",
      "CASH      1.0\n"
     ]
    },
    {
     "name": "stderr",
     "output_type": "stream",
     "text": [
      "\u001b[32m2024-02-27 16:08:15.306\u001b[0m | \u001b[1mINFO    \u001b[0m | \u001b[36m__main__\u001b[0m:\u001b[36mget_active_strategies\u001b[0m:\u001b[36m14\u001b[0m - \u001b[1mActive: 'super_bowl' -> SPY,QQQ\u001b[0m\n",
      "\u001b[32m2024-02-27 16:08:18.833\u001b[0m | \u001b[1mINFO    \u001b[0m | \u001b[36m__main__\u001b[0m:\u001b[36mget_active_strategies\u001b[0m:\u001b[36m58\u001b[0m - \u001b[1mActive: 'turn_around_tuesday_strategy' -> 'SPY'\u001b[0m\n",
      "\u001b[32m2024-02-27 16:08:19.269\u001b[0m | \u001b[1mINFO    \u001b[0m | \u001b[36m__main__\u001b[0m:\u001b[36mget_active_strategies\u001b[0m:\u001b[36m58\u001b[0m - \u001b[1mActive: 'turn_around_tuesday_strategy' -> 'QQQ'\u001b[0m\n"
     ]
    },
    {
     "name": "stdout",
     "output_type": "stream",
     "text": [
      "hold_days\n",
      "2024-02-12 00:00:00\n",
      "       weights\n",
      "SPY   0.000554\n",
      "QQQ   0.997890\n",
      "CASH  0.001556\n"
     ]
    },
    {
     "name": "stderr",
     "output_type": "stream",
     "text": [
      "\u001b[32m2024-02-27 16:08:19.999\u001b[0m | \u001b[1mINFO    \u001b[0m | \u001b[36m__main__\u001b[0m:\u001b[36mget_active_strategies\u001b[0m:\u001b[36m14\u001b[0m - \u001b[1mActive: 'super_bowl' -> SPY,QQQ\u001b[0m\n",
      "\u001b[32m2024-02-27 16:08:23.444\u001b[0m | \u001b[1mINFO    \u001b[0m | \u001b[36m__main__\u001b[0m:\u001b[36mget_active_strategies\u001b[0m:\u001b[36m58\u001b[0m - \u001b[1mActive: 'turn_around_tuesday_strategy' -> 'SPY'\u001b[0m\n",
      "\u001b[32m2024-02-27 16:08:23.916\u001b[0m | \u001b[1mINFO    \u001b[0m | \u001b[36m__main__\u001b[0m:\u001b[36mget_active_strategies\u001b[0m:\u001b[36m58\u001b[0m - \u001b[1mActive: 'turn_around_tuesday_strategy' -> 'QQQ'\u001b[0m\n"
     ]
    },
    {
     "name": "stdout",
     "output_type": "stream",
     "text": [
      "hold_days\n",
      "2024-02-13 00:00:00\n",
      "       weights\n",
      "SPY   0.003386\n",
      "QQQ   0.977732\n",
      "CASH  0.018882\n"
     ]
    },
    {
     "name": "stderr",
     "output_type": "stream",
     "text": [
      "\u001b[32m2024-02-27 16:08:24.668\u001b[0m | \u001b[1mINFO    \u001b[0m | \u001b[36m__main__\u001b[0m:\u001b[36mget_active_strategies\u001b[0m:\u001b[36m14\u001b[0m - \u001b[1mActive: 'super_bowl' -> SPY,QQQ\u001b[0m\n"
     ]
    },
    {
     "name": "stdout",
     "output_type": "stream",
     "text": [
      "hold_days\n",
      "2024-02-14 00:00:00\n",
      "      weights\n",
      "SPY       0.0\n",
      "QQQ       0.0\n",
      "CASH      1.0\n"
     ]
    },
    {
     "name": "stderr",
     "output_type": "stream",
     "text": [
      "\u001b[32m2024-02-27 16:08:29.822\u001b[0m | \u001b[1mINFO    \u001b[0m | \u001b[36m__main__\u001b[0m:\u001b[36mget_active_strategies\u001b[0m:\u001b[36m14\u001b[0m - \u001b[1mActive: 'super_bowl' -> SPY,QQQ\u001b[0m\n"
     ]
    },
    {
     "name": "stdout",
     "output_type": "stream",
     "text": [
      "hold_days\n",
      "2024-02-15 00:00:00\n",
      "           weights\n",
      "SPY   2.980232e-08\n",
      "QQQ   0.000000e+00\n",
      "CASH  1.000000e+00\n"
     ]
    },
    {
     "name": "stderr",
     "output_type": "stream",
     "text": [
      "\u001b[32m2024-02-27 16:08:34.228\u001b[0m | \u001b[1mINFO    \u001b[0m | \u001b[36m__main__\u001b[0m:\u001b[36mget_active_strategies\u001b[0m:\u001b[36m14\u001b[0m - \u001b[1mActive: 'super_bowl' -> SPY,QQQ\u001b[0m\n"
     ]
    },
    {
     "name": "stdout",
     "output_type": "stream",
     "text": [
      "hold_days\n",
      "2024-02-16 00:00:00\n",
      "           weights\n",
      "SPY   2.980232e-08\n",
      "QQQ   0.000000e+00\n",
      "CASH  1.000000e+00\n"
     ]
    },
    {
     "name": "stderr",
     "output_type": "stream",
     "text": [
      "\u001b[32m2024-02-27 16:08:39.067\u001b[0m | \u001b[1mINFO    \u001b[0m | \u001b[36m__main__\u001b[0m:\u001b[36mget_active_strategies\u001b[0m:\u001b[36m14\u001b[0m - \u001b[1mActive: 'super_bowl' -> SPY,QQQ\u001b[0m\n"
     ]
    },
    {
     "name": "stdout",
     "output_type": "stream",
     "text": [
      "hold_days\n",
      "2024-02-19 00:00:00\n",
      "           weights\n",
      "SPY   2.980232e-08\n",
      "QQQ   0.000000e+00\n",
      "CASH  1.000000e+00\n"
     ]
    },
    {
     "name": "stderr",
     "output_type": "stream",
     "text": [
      "\u001b[32m2024-02-27 16:08:43.711\u001b[0m | \u001b[1mINFO    \u001b[0m | \u001b[36m__main__\u001b[0m:\u001b[36mget_active_strategies\u001b[0m:\u001b[36m14\u001b[0m - \u001b[1mActive: 'super_bowl' -> SPY,QQQ\u001b[0m\n"
     ]
    },
    {
     "name": "stdout",
     "output_type": "stream",
     "text": [
      "hold_days\n",
      "2024-02-20 00:00:00\n",
      "           weights\n",
      "SPY   2.980232e-08\n",
      "QQQ   0.000000e+00\n",
      "CASH  1.000000e+00\n"
     ]
    },
    {
     "name": "stderr",
     "output_type": "stream",
     "text": [
      "\u001b[32m2024-02-27 16:08:48.895\u001b[0m | \u001b[1mINFO    \u001b[0m | \u001b[36m__main__\u001b[0m:\u001b[36mget_active_strategies\u001b[0m:\u001b[36m14\u001b[0m - \u001b[1mActive: 'super_bowl' -> SPY,QQQ\u001b[0m\n",
      "\u001b[32m2024-02-27 16:08:50.088\u001b[0m | \u001b[1mINFO    \u001b[0m | \u001b[36m__main__\u001b[0m:\u001b[36mget_active_strategies\u001b[0m:\u001b[36m21\u001b[0m - \u001b[1mActive: 'short_term_reversal' -> 'QQQ'\u001b[0m\n"
     ]
    },
    {
     "name": "stdout",
     "output_type": "stream",
     "text": [
      "hold_days\n",
      "2024-02-21 00:00:00\n",
      "           weights\n",
      "SPY   1.549721e-06\n",
      "QQQ   9.999982e-01\n",
      "CASH  2.384186e-07\n"
     ]
    },
    {
     "name": "stderr",
     "output_type": "stream",
     "text": [
      "\u001b[32m2024-02-27 16:08:53.861\u001b[0m | \u001b[1mINFO    \u001b[0m | \u001b[36m__main__\u001b[0m:\u001b[36mget_active_strategies\u001b[0m:\u001b[36m14\u001b[0m - \u001b[1mActive: 'super_bowl' -> SPY,QQQ\u001b[0m\n"
     ]
    },
    {
     "name": "stdout",
     "output_type": "stream",
     "text": [
      "hold_days\n",
      "2024-02-22 00:00:00\n",
      "      weights\n",
      "SPY       0.0\n",
      "QQQ       0.0\n",
      "CASH      1.0\n"
     ]
    },
    {
     "name": "stderr",
     "output_type": "stream",
     "text": [
      "\u001b[32m2024-02-27 16:09:01.666\u001b[0m | \u001b[1mINFO    \u001b[0m | \u001b[36m__main__\u001b[0m:\u001b[36mget_active_strategies\u001b[0m:\u001b[36m31\u001b[0m - \u001b[1mActive: 'pay_day_strategy' -> SPY,QQQ\u001b[0m\n"
     ]
    },
    {
     "name": "stdout",
     "output_type": "stream",
     "text": [
      "hold_days\n",
      "2024-02-23 00:00:00\n",
      "      weights\n",
      "SPY       0.0\n",
      "QQQ       0.0\n",
      "CASH      1.0\n"
     ]
    },
    {
     "name": "stderr",
     "output_type": "stream",
     "text": [
      "\u001b[32m2024-02-27 16:09:06.827\u001b[0m | \u001b[1mINFO    \u001b[0m | \u001b[36m__main__\u001b[0m:\u001b[36mget_active_strategies\u001b[0m:\u001b[36m31\u001b[0m - \u001b[1mActive: 'pay_day_strategy' -> SPY,QQQ\u001b[0m\n",
      "\u001b[32m2024-02-27 16:09:07.222\u001b[0m | \u001b[1mINFO    \u001b[0m | \u001b[36m__main__\u001b[0m:\u001b[36mget_active_strategies\u001b[0m:\u001b[36m58\u001b[0m - \u001b[1mActive: 'turn_around_tuesday_strategy' -> 'SPY'\u001b[0m\n",
      "\u001b[32m2024-02-27 16:09:07.537\u001b[0m | \u001b[1mINFO    \u001b[0m | \u001b[36m__main__\u001b[0m:\u001b[36mget_active_strategies\u001b[0m:\u001b[36m58\u001b[0m - \u001b[1mActive: 'turn_around_tuesday_strategy' -> 'QQQ'\u001b[0m\n"
     ]
    },
    {
     "name": "stdout",
     "output_type": "stream",
     "text": [
      "hold_days\n",
      "2024-02-26 00:00:00\n",
      "       weights\n",
      "SPY   0.007716\n",
      "QQQ   0.154696\n",
      "CASH  0.837588\n"
     ]
    },
    {
     "name": "stderr",
     "output_type": "stream",
     "text": [
      "\u001b[32m2024-02-27 16:09:11.370\u001b[0m | \u001b[1mINFO    \u001b[0m | \u001b[36m__main__\u001b[0m:\u001b[36mget_active_strategies\u001b[0m:\u001b[36m31\u001b[0m - \u001b[1mActive: 'pay_day_strategy' -> SPY,QQQ\u001b[0m\n",
      "\u001b[32m2024-02-27 16:09:11.752\u001b[0m | \u001b[1mINFO    \u001b[0m | \u001b[36m__main__\u001b[0m:\u001b[36mget_active_strategies\u001b[0m:\u001b[36m58\u001b[0m - \u001b[1mActive: 'turn_around_tuesday_strategy' -> 'SPY'\u001b[0m\n",
      "\u001b[32m2024-02-27 16:09:12.116\u001b[0m | \u001b[1mINFO    \u001b[0m | \u001b[36m__main__\u001b[0m:\u001b[36mget_active_strategies\u001b[0m:\u001b[36m58\u001b[0m - \u001b[1mActive: 'turn_around_tuesday_strategy' -> 'QQQ'\u001b[0m\n"
     ]
    },
    {
     "name": "stdout",
     "output_type": "stream",
     "text": [
      "hold_days\n",
      "2024-02-27 00:00:00\n",
      "       weights\n",
      "SPY   0.006607\n",
      "QQQ   0.087521\n",
      "CASH  0.905871\n"
     ]
    },
    {
     "data": {
      "text/html": [
       "<div>\n",
       "<style scoped>\n",
       "    .dataframe tbody tr th:only-of-type {\n",
       "        vertical-align: middle;\n",
       "    }\n",
       "\n",
       "    .dataframe tbody tr th {\n",
       "        vertical-align: top;\n",
       "    }\n",
       "\n",
       "    .dataframe thead th {\n",
       "        text-align: right;\n",
       "    }\n",
       "</style>\n",
       "<table border=\"1\" class=\"dataframe\">\n",
       "  <thead>\n",
       "    <tr style=\"text-align: right;\">\n",
       "      <th></th>\n",
       "      <th>SPY</th>\n",
       "      <th>QQQ</th>\n",
       "      <th>CASH</th>\n",
       "    </tr>\n",
       "  </thead>\n",
       "  <tbody>\n",
       "    <tr>\n",
       "      <th>2024-01-01</th>\n",
       "      <td>1.695752e-05</td>\n",
       "      <td>2.980232e-08</td>\n",
       "      <td>9.999831e-01</td>\n",
       "    </tr>\n",
       "    <tr>\n",
       "      <th>2024-01-02</th>\n",
       "      <td>4.678965e-06</td>\n",
       "      <td>9.999946e-01</td>\n",
       "      <td>6.556511e-07</td>\n",
       "    </tr>\n",
       "    <tr>\n",
       "      <th>2024-01-03</th>\n",
       "      <td>0.000000e+00</td>\n",
       "      <td>1.000000e+00</td>\n",
       "      <td>0.000000e+00</td>\n",
       "    </tr>\n",
       "    <tr>\n",
       "      <th>2024-01-04</th>\n",
       "      <td>8.940697e-08</td>\n",
       "      <td>9.999999e-01</td>\n",
       "      <td>2.980232e-08</td>\n",
       "    </tr>\n",
       "    <tr>\n",
       "      <th>2024-01-05</th>\n",
       "      <td>0.000000e+00</td>\n",
       "      <td>0.000000e+00</td>\n",
       "      <td>1.000000e+00</td>\n",
       "    </tr>\n",
       "    <tr>\n",
       "      <th>2024-01-08</th>\n",
       "      <td>0.000000e+00</td>\n",
       "      <td>0.000000e+00</td>\n",
       "      <td>1.000000e+00</td>\n",
       "    </tr>\n",
       "    <tr>\n",
       "      <th>2024-01-09</th>\n",
       "      <td>0.000000e+00</td>\n",
       "      <td>0.000000e+00</td>\n",
       "      <td>1.000000e+00</td>\n",
       "    </tr>\n",
       "    <tr>\n",
       "      <th>2024-01-10</th>\n",
       "      <td>0.000000e+00</td>\n",
       "      <td>0.000000e+00</td>\n",
       "      <td>1.000000e+00</td>\n",
       "    </tr>\n",
       "    <tr>\n",
       "      <th>2024-01-11</th>\n",
       "      <td>0.000000e+00</td>\n",
       "      <td>0.000000e+00</td>\n",
       "      <td>1.000000e+00</td>\n",
       "    </tr>\n",
       "    <tr>\n",
       "      <th>2024-01-12</th>\n",
       "      <td>0.000000e+00</td>\n",
       "      <td>0.000000e+00</td>\n",
       "      <td>1.000000e+00</td>\n",
       "    </tr>\n",
       "    <tr>\n",
       "      <th>2024-01-15</th>\n",
       "      <td>0.000000e+00</td>\n",
       "      <td>0.000000e+00</td>\n",
       "      <td>1.000000e+00</td>\n",
       "    </tr>\n",
       "    <tr>\n",
       "      <th>2024-01-16</th>\n",
       "      <td>0.000000e+00</td>\n",
       "      <td>0.000000e+00</td>\n",
       "      <td>1.000000e+00</td>\n",
       "    </tr>\n",
       "    <tr>\n",
       "      <th>2024-01-17</th>\n",
       "      <td>0.000000e+00</td>\n",
       "      <td>0.000000e+00</td>\n",
       "      <td>1.000000e+00</td>\n",
       "    </tr>\n",
       "    <tr>\n",
       "      <th>2024-01-18</th>\n",
       "      <td>0.000000e+00</td>\n",
       "      <td>0.000000e+00</td>\n",
       "      <td>1.000000e+00</td>\n",
       "    </tr>\n",
       "    <tr>\n",
       "      <th>2024-01-19</th>\n",
       "      <td>0.000000e+00</td>\n",
       "      <td>0.000000e+00</td>\n",
       "      <td>1.000000e+00</td>\n",
       "    </tr>\n",
       "    <tr>\n",
       "      <th>2024-01-22</th>\n",
       "      <td>0.000000e+00</td>\n",
       "      <td>0.000000e+00</td>\n",
       "      <td>1.000000e+00</td>\n",
       "    </tr>\n",
       "    <tr>\n",
       "      <th>2024-01-23</th>\n",
       "      <td>0.000000e+00</td>\n",
       "      <td>0.000000e+00</td>\n",
       "      <td>1.000000e+00</td>\n",
       "    </tr>\n",
       "    <tr>\n",
       "      <th>2024-01-24</th>\n",
       "      <td>0.000000e+00</td>\n",
       "      <td>0.000000e+00</td>\n",
       "      <td>1.000000e+00</td>\n",
       "    </tr>\n",
       "    <tr>\n",
       "      <th>2024-01-25</th>\n",
       "      <td>0.000000e+00</td>\n",
       "      <td>0.000000e+00</td>\n",
       "      <td>1.000000e+00</td>\n",
       "    </tr>\n",
       "    <tr>\n",
       "      <th>2024-01-26</th>\n",
       "      <td>0.000000e+00</td>\n",
       "      <td>0.000000e+00</td>\n",
       "      <td>1.000000e+00</td>\n",
       "    </tr>\n",
       "    <tr>\n",
       "      <th>2024-01-29</th>\n",
       "      <td>0.000000e+00</td>\n",
       "      <td>0.000000e+00</td>\n",
       "      <td>1.000000e+00</td>\n",
       "    </tr>\n",
       "    <tr>\n",
       "      <th>2024-01-30</th>\n",
       "      <td>0.000000e+00</td>\n",
       "      <td>0.000000e+00</td>\n",
       "      <td>1.000000e+00</td>\n",
       "    </tr>\n",
       "    <tr>\n",
       "      <th>2024-01-31</th>\n",
       "      <td>0.000000e+00</td>\n",
       "      <td>0.000000e+00</td>\n",
       "      <td>1.000000e+00</td>\n",
       "    </tr>\n",
       "    <tr>\n",
       "      <th>2024-02-01</th>\n",
       "      <td>0.000000e+00</td>\n",
       "      <td>0.000000e+00</td>\n",
       "      <td>1.000000e+00</td>\n",
       "    </tr>\n",
       "    <tr>\n",
       "      <th>2024-02-02</th>\n",
       "      <td>0.000000e+00</td>\n",
       "      <td>0.000000e+00</td>\n",
       "      <td>1.000000e+00</td>\n",
       "    </tr>\n",
       "    <tr>\n",
       "      <th>2024-02-05</th>\n",
       "      <td>3.308058e-06</td>\n",
       "      <td>2.980232e-08</td>\n",
       "      <td>9.999967e-01</td>\n",
       "    </tr>\n",
       "    <tr>\n",
       "      <th>2024-02-06</th>\n",
       "      <td>3.308058e-06</td>\n",
       "      <td>2.980232e-08</td>\n",
       "      <td>9.999967e-01</td>\n",
       "    </tr>\n",
       "    <tr>\n",
       "      <th>2024-02-07</th>\n",
       "      <td>0.000000e+00</td>\n",
       "      <td>0.000000e+00</td>\n",
       "      <td>1.000000e+00</td>\n",
       "    </tr>\n",
       "    <tr>\n",
       "      <th>2024-02-08</th>\n",
       "      <td>0.000000e+00</td>\n",
       "      <td>0.000000e+00</td>\n",
       "      <td>1.000000e+00</td>\n",
       "    </tr>\n",
       "    <tr>\n",
       "      <th>2024-02-09</th>\n",
       "      <td>0.000000e+00</td>\n",
       "      <td>0.000000e+00</td>\n",
       "      <td>1.000000e+00</td>\n",
       "    </tr>\n",
       "    <tr>\n",
       "      <th>2024-02-12</th>\n",
       "      <td>5.541444e-04</td>\n",
       "      <td>9.978895e-01</td>\n",
       "      <td>1.556456e-03</td>\n",
       "    </tr>\n",
       "    <tr>\n",
       "      <th>2024-02-13</th>\n",
       "      <td>3.386199e-03</td>\n",
       "      <td>9.777318e-01</td>\n",
       "      <td>1.888204e-02</td>\n",
       "    </tr>\n",
       "    <tr>\n",
       "      <th>2024-02-14</th>\n",
       "      <td>0.000000e+00</td>\n",
       "      <td>0.000000e+00</td>\n",
       "      <td>1.000000e+00</td>\n",
       "    </tr>\n",
       "    <tr>\n",
       "      <th>2024-02-15</th>\n",
       "      <td>2.980232e-08</td>\n",
       "      <td>0.000000e+00</td>\n",
       "      <td>1.000000e+00</td>\n",
       "    </tr>\n",
       "    <tr>\n",
       "      <th>2024-02-16</th>\n",
       "      <td>2.980232e-08</td>\n",
       "      <td>0.000000e+00</td>\n",
       "      <td>1.000000e+00</td>\n",
       "    </tr>\n",
       "    <tr>\n",
       "      <th>2024-02-19</th>\n",
       "      <td>2.980232e-08</td>\n",
       "      <td>0.000000e+00</td>\n",
       "      <td>1.000000e+00</td>\n",
       "    </tr>\n",
       "    <tr>\n",
       "      <th>2024-02-20</th>\n",
       "      <td>2.980232e-08</td>\n",
       "      <td>0.000000e+00</td>\n",
       "      <td>1.000000e+00</td>\n",
       "    </tr>\n",
       "    <tr>\n",
       "      <th>2024-02-21</th>\n",
       "      <td>1.549721e-06</td>\n",
       "      <td>9.999982e-01</td>\n",
       "      <td>2.384186e-07</td>\n",
       "    </tr>\n",
       "    <tr>\n",
       "      <th>2024-02-22</th>\n",
       "      <td>0.000000e+00</td>\n",
       "      <td>0.000000e+00</td>\n",
       "      <td>1.000000e+00</td>\n",
       "    </tr>\n",
       "    <tr>\n",
       "      <th>2024-02-23</th>\n",
       "      <td>0.000000e+00</td>\n",
       "      <td>0.000000e+00</td>\n",
       "      <td>1.000000e+00</td>\n",
       "    </tr>\n",
       "    <tr>\n",
       "      <th>2024-02-26</th>\n",
       "      <td>7.715970e-03</td>\n",
       "      <td>1.546960e-01</td>\n",
       "      <td>8.375881e-01</td>\n",
       "    </tr>\n",
       "    <tr>\n",
       "      <th>2024-02-27</th>\n",
       "      <td>6.607234e-03</td>\n",
       "      <td>8.752136e-02</td>\n",
       "      <td>9.058714e-01</td>\n",
       "    </tr>\n",
       "  </tbody>\n",
       "</table>\n",
       "</div>"
      ],
      "text/plain": [
       "                     SPY           QQQ          CASH\n",
       "2024-01-01  1.695752e-05  2.980232e-08  9.999831e-01\n",
       "2024-01-02  4.678965e-06  9.999946e-01  6.556511e-07\n",
       "2024-01-03  0.000000e+00  1.000000e+00  0.000000e+00\n",
       "2024-01-04  8.940697e-08  9.999999e-01  2.980232e-08\n",
       "2024-01-05  0.000000e+00  0.000000e+00  1.000000e+00\n",
       "2024-01-08  0.000000e+00  0.000000e+00  1.000000e+00\n",
       "2024-01-09  0.000000e+00  0.000000e+00  1.000000e+00\n",
       "2024-01-10  0.000000e+00  0.000000e+00  1.000000e+00\n",
       "2024-01-11  0.000000e+00  0.000000e+00  1.000000e+00\n",
       "2024-01-12  0.000000e+00  0.000000e+00  1.000000e+00\n",
       "2024-01-15  0.000000e+00  0.000000e+00  1.000000e+00\n",
       "2024-01-16  0.000000e+00  0.000000e+00  1.000000e+00\n",
       "2024-01-17  0.000000e+00  0.000000e+00  1.000000e+00\n",
       "2024-01-18  0.000000e+00  0.000000e+00  1.000000e+00\n",
       "2024-01-19  0.000000e+00  0.000000e+00  1.000000e+00\n",
       "2024-01-22  0.000000e+00  0.000000e+00  1.000000e+00\n",
       "2024-01-23  0.000000e+00  0.000000e+00  1.000000e+00\n",
       "2024-01-24  0.000000e+00  0.000000e+00  1.000000e+00\n",
       "2024-01-25  0.000000e+00  0.000000e+00  1.000000e+00\n",
       "2024-01-26  0.000000e+00  0.000000e+00  1.000000e+00\n",
       "2024-01-29  0.000000e+00  0.000000e+00  1.000000e+00\n",
       "2024-01-30  0.000000e+00  0.000000e+00  1.000000e+00\n",
       "2024-01-31  0.000000e+00  0.000000e+00  1.000000e+00\n",
       "2024-02-01  0.000000e+00  0.000000e+00  1.000000e+00\n",
       "2024-02-02  0.000000e+00  0.000000e+00  1.000000e+00\n",
       "2024-02-05  3.308058e-06  2.980232e-08  9.999967e-01\n",
       "2024-02-06  3.308058e-06  2.980232e-08  9.999967e-01\n",
       "2024-02-07  0.000000e+00  0.000000e+00  1.000000e+00\n",
       "2024-02-08  0.000000e+00  0.000000e+00  1.000000e+00\n",
       "2024-02-09  0.000000e+00  0.000000e+00  1.000000e+00\n",
       "2024-02-12  5.541444e-04  9.978895e-01  1.556456e-03\n",
       "2024-02-13  3.386199e-03  9.777318e-01  1.888204e-02\n",
       "2024-02-14  0.000000e+00  0.000000e+00  1.000000e+00\n",
       "2024-02-15  2.980232e-08  0.000000e+00  1.000000e+00\n",
       "2024-02-16  2.980232e-08  0.000000e+00  1.000000e+00\n",
       "2024-02-19  2.980232e-08  0.000000e+00  1.000000e+00\n",
       "2024-02-20  2.980232e-08  0.000000e+00  1.000000e+00\n",
       "2024-02-21  1.549721e-06  9.999982e-01  2.384186e-07\n",
       "2024-02-22  0.000000e+00  0.000000e+00  1.000000e+00\n",
       "2024-02-23  0.000000e+00  0.000000e+00  1.000000e+00\n",
       "2024-02-26  7.715970e-03  1.546960e-01  8.375881e-01\n",
       "2024-02-27  6.607234e-03  8.752136e-02  9.058714e-01"
      ]
     },
     "execution_count": 126,
     "metadata": {},
     "output_type": "execute_result"
    }
   ],
   "source": [
    "expected_portfolio = None\n",
    "expected_portfolios = []\n",
    "for date in pd.date_range(start=dt.date(2024, 1, 1), end=dt.date.today(), freq=\"B\"):\n",
    "    expected_portfolio = get_portfolio(date=date.date(), expected_port=expected_portfolio)\n",
    "    expected_portfolios.append(expected_portfolio.rename(columns={\"weights\": date}))\n",
    "\n",
    "    print(date)\n",
    "    print(expected_portfolio.round(3))\n",
    "    \n",
    "expected_portfolios = pd.concat(expected_portfolios, axis=1).T\n",
    "expected_portfolios"
   ]
  },
  {
   "cell_type": "code",
   "execution_count": 127,
   "id": "2178c19d-4890-4fc8-873b-6751196d563f",
   "metadata": {},
   "outputs": [
    {
     "data": {
      "text/plain": [
       "<Axes: >"
      ]
     },
     "execution_count": 127,
     "metadata": {},
     "output_type": "execute_result"
    },
    {
     "data": {
      "image/png": "[encoded data removed]",
      "text/plain": [
       "<Figure size 640x480 with 1 Axes>"
      ]
     },
     "metadata": {},
     "output_type": "display_data"
    }
   ],
   "source": [
    "expected_portfolios.plot()"
   ]
  },
  {
   "cell_type": "code",
   "execution_count": 128,
   "id": "7ee23bbc-b394-4930-9536-aa81502bd711",
   "metadata": {},
   "outputs": [
    {
     "name": "stderr",
     "output_type": "stream",
     "text": [
      "\u001b[32m2024-02-27 16:10:21.157\u001b[0m | \u001b[1mINFO    \u001b[0m | \u001b[36m__main__\u001b[0m:\u001b[36mget_active_strategies\u001b[0m:\u001b[36m31\u001b[0m - \u001b[1mActive: 'pay_day_strategy' -> SPY,QQQ\u001b[0m\n",
      "\u001b[32m2024-02-27 16:10:21.493\u001b[0m | \u001b[1mINFO    \u001b[0m | \u001b[36m__main__\u001b[0m:\u001b[36mget_active_strategies\u001b[0m:\u001b[36m58\u001b[0m - \u001b[1mActive: 'turn_around_tuesday_strategy' -> 'SPY'\u001b[0m\n",
      "\u001b[32m2024-02-27 16:10:21.779\u001b[0m | \u001b[1mINFO    \u001b[0m | \u001b[36m__main__\u001b[0m:\u001b[36mget_active_strategies\u001b[0m:\u001b[36m58\u001b[0m - \u001b[1mActive: 'turn_around_tuesday_strategy' -> 'QQQ'\u001b[0m\n"
     ]
    },
    {
     "name": "stdout",
     "output_type": "stream",
     "text": [
      "hold_days\n"
     ]
    },
    {
     "data": {
      "text/html": [
       "<div>\n",
       "<style scoped>\n",
       "    .dataframe tbody tr th:only-of-type {\n",
       "        vertical-align: middle;\n",
       "    }\n",
       "\n",
       "    .dataframe tbody tr th {\n",
       "        vertical-align: top;\n",
       "    }\n",
       "\n",
       "    .dataframe thead th {\n",
       "        text-align: right;\n",
       "    }\n",
       "</style>\n",
       "<table border=\"1\" class=\"dataframe\">\n",
       "  <thead>\n",
       "    <tr style=\"text-align: right;\">\n",
       "      <th></th>\n",
       "      <th>weights</th>\n",
       "    </tr>\n",
       "  </thead>\n",
       "  <tbody>\n",
       "    <tr>\n",
       "      <th>SPY</th>\n",
       "      <td>0.000427</td>\n",
       "    </tr>\n",
       "    <tr>\n",
       "      <th>QQQ</th>\n",
       "      <td>0.999193</td>\n",
       "    </tr>\n",
       "    <tr>\n",
       "      <th>CASH</th>\n",
       "      <td>0.000380</td>\n",
       "    </tr>\n",
       "  </tbody>\n",
       "</table>\n",
       "</div>"
      ],
      "text/plain": [
       "       weights\n",
       "SPY   0.000427\n",
       "QQQ   0.999193\n",
       "CASH  0.000380"
      ]
     },
     "execution_count": 128,
     "metadata": {},
     "output_type": "execute_result"
    }
   ],
   "source": [
    "get_portfolio(date=dt.date.today(), expected_port=None)"
   ]
  },
  {
   "cell_type": "code",
   "execution_count": null,
   "id": "ad503a90-eb7d-4355-8894-8ad3de14fae9",
   "metadata": {},
   "outputs": [],
   "source": []
  }
 ],
 "metadata": {
  "kernelspec": {
   "display_name": "Python 3 (ipykernel)",
   "language": "python",
   "name": "python3"
  },
  "language_info": {
   "codemirror_mode": {
    "name": "ipython",
    "version": 3
   },
   "file_extension": ".py",
   "mimetype": "text/x-python",
   "name": "python",
   "nbconvert_exporter": "python",
   "pygments_lexer": "ipython3",
   "version": "3.11.0"
  }
 },
 "nbformat": 4,
 "nbformat_minor": 5
}
