{
 "cells": [
  {
   "cell_type": "markdown",
   "id": "368d83e2-2322-4249-bad6-2fd1a543ee3e",
   "metadata": {},
   "source": [
    "# Contrarian Trading Strategy\n",
    "\n",
    "https://www.quantifiedstrategies.com/contrarian-trading-strategy/"
   ]
  },
  {
   "cell_type": "code",
   "execution_count": 1,
   "id": "7b474f92-7327-42d4-b645-c5051c01fce7",
   "metadata": {},
   "outputs": [
    {
     "name": "stderr",
     "output_type": "stream",
     "text": [
      "C:\\Users\\tomw1\\AppData\\Local\\Temp\\ipykernel_14576\\4020808254.py:2: DeprecationWarning: \n",
      "Pyarrow will become a required dependency of pandas in the next major release of pandas (pandas 3.0),\n",
      "(to allow more performant data types, such as the Arrow string type, and better interoperability with other libraries)\n",
      "but was not found to be installed on your system.\n",
      "If this would cause problems for you,\n",
      "please provide us feedback at https://github.com/pandas-dev/pandas/issues/54466\n",
      "        \n",
      "  import pandas as pd\n"
     ]
    }
   ],
   "source": [
    "import datetime as dt\n",
    "import pandas as pd\n",
    "import yfinance as yf"
   ]
  },
  {
   "cell_type": "code",
   "execution_count": 2,
   "id": "88965b92-0618-4e79-bd20-8cd209272e8f",
   "metadata": {},
   "outputs": [],
   "source": [
    "\n",
    "def calculate_rsi(close_px: pd.Series | pd.DataFrame, window: int = 3) -> pd.Series:\n",
    "\n",
    "    # Calculate price changes\n",
    "    delta = close_px.diff()\n",
    "\n",
    "    # Calculate gains and losses\n",
    "    gains = delta.where(delta > 0, 0)\n",
    "    losses = -delta.where(delta < 0, 0)\n",
    "\n",
    "    # Calculate average gains and losses over a 2-day window\n",
    "    avg_gains = gains.rolling(window=window, min_periods=1).mean()\n",
    "    avg_losses = losses.rolling(window=window, min_periods=1).mean()\n",
    "\n",
    "    # Calculate relative strength (RS)\n",
    "    rs = avg_gains / avg_losses\n",
    "\n",
    "    # Calculate the Relative Strength Index (RSI) for a 2-day period\n",
    "    rsi_xday = 100 - (100 / (1 + rs))\n",
    "\n",
    "    return rsi_xday\n"
   ]
  },
  {
   "cell_type": "markdown",
   "id": "d934acea-42f8-47d2-b2fc-2d23d913b40d",
   "metadata": {},
   "source": [
    "## Rules\n",
    "\n",
    "1. When x-day RSI indicator falls below 20, buy at the close.\n",
    "2. When the close is higher than yesterday's close, exit position."
   ]
  },
  {
   "cell_type": "code",
   "execution_count": 3,
   "id": "00e1ed17-a79e-4df8-af1f-649345fc68be",
   "metadata": {},
   "outputs": [],
   "source": [
    "XDAY = 2\n",
    "START = dt.date(2020, 1, 1)\n",
    "END = dt.date.today()"
   ]
  },
  {
   "cell_type": "code",
   "execution_count": 4,
   "id": "ea03b384-f3c1-40a4-962e-8fb0bb944411",
   "metadata": {},
   "outputs": [],
   "source": [
    "TICKER = \"SPY\""
   ]
  },
  {
   "cell_type": "code",
   "execution_count": 5,
   "id": "f417c078-ef56-41e8-ad6c-eda49dfd5728",
   "metadata": {},
   "outputs": [
    {
     "name": "stderr",
     "output_type": "stream",
     "text": [
      "C:\\Users\\tomw1\\AppData\\Local\\pypoetry\\Cache\\virtualenvs\\quantified-strategies-wFBlb7GR-py3.11\\Lib\\site-packages\\yfinance\\utils.py:775: FutureWarning: The 'unit' keyword in TimedeltaIndex construction is deprecated and will be removed in a future version. Use pd.to_timedelta instead.\n",
      "  df.index += _pd.TimedeltaIndex(dst_error_hours, 'h')\n"
     ]
    },
    {
     "data": {
      "text/html": [
       "<div>\n",
       "<style scoped>\n",
       "    .dataframe tbody tr th:only-of-type {\n",
       "        vertical-align: middle;\n",
       "    }\n",
       "\n",
       "    .dataframe tbody tr th {\n",
       "        vertical-align: top;\n",
       "    }\n",
       "\n",
       "    .dataframe thead th {\n",
       "        text-align: right;\n",
       "    }\n",
       "</style>\n",
       "<table border=\"1\" class=\"dataframe\">\n",
       "  <thead>\n",
       "    <tr style=\"text-align: right;\">\n",
       "      <th></th>\n",
       "      <th>SPY</th>\n",
       "    </tr>\n",
       "    <tr>\n",
       "      <th>Date</th>\n",
       "      <th></th>\n",
       "    </tr>\n",
       "  </thead>\n",
       "  <tbody>\n",
       "    <tr>\n",
       "      <th>1993-01-29</th>\n",
       "      <td>43.93750</td>\n",
       "    </tr>\n",
       "    <tr>\n",
       "      <th>1993-02-01</th>\n",
       "      <td>44.25000</td>\n",
       "    </tr>\n",
       "    <tr>\n",
       "      <th>1993-02-02</th>\n",
       "      <td>44.34375</td>\n",
       "    </tr>\n",
       "    <tr>\n",
       "      <th>1993-02-03</th>\n",
       "      <td>44.81250</td>\n",
       "    </tr>\n",
       "    <tr>\n",
       "      <th>1993-02-04</th>\n",
       "      <td>45.00000</td>\n",
       "    </tr>\n",
       "  </tbody>\n",
       "</table>\n",
       "</div>"
      ],
      "text/plain": [
       "                 SPY\n",
       "Date                \n",
       "1993-01-29  43.93750\n",
       "1993-02-01  44.25000\n",
       "1993-02-02  44.34375\n",
       "1993-02-03  44.81250\n",
       "1993-02-04  45.00000"
      ]
     },
     "execution_count": 5,
     "metadata": {},
     "output_type": "execute_result"
    }
   ],
   "source": [
    "data = yf.download(TICKER, progress=False)[\"Close\"].to_frame(name=TICKER)\n",
    "data.head(5)"
   ]
  },
  {
   "cell_type": "code",
   "execution_count": 6,
   "id": "8796ef3d-ea6f-4445-9fa8-030f82ec7ef0",
   "metadata": {},
   "outputs": [
    {
     "data": {
      "text/html": [
       "<div>\n",
       "<style scoped>\n",
       "    .dataframe tbody tr th:only-of-type {\n",
       "        vertical-align: middle;\n",
       "    }\n",
       "\n",
       "    .dataframe tbody tr th {\n",
       "        vertical-align: top;\n",
       "    }\n",
       "\n",
       "    .dataframe thead th {\n",
       "        text-align: right;\n",
       "    }\n",
       "</style>\n",
       "<table border=\"1\" class=\"dataframe\">\n",
       "  <thead>\n",
       "    <tr style=\"text-align: right;\">\n",
       "      <th></th>\n",
       "      <th>SPY</th>\n",
       "    </tr>\n",
       "    <tr>\n",
       "      <th>Date</th>\n",
       "      <th></th>\n",
       "    </tr>\n",
       "  </thead>\n",
       "  <tbody>\n",
       "    <tr>\n",
       "      <th>2020-01-02</th>\n",
       "      <td>324.869995</td>\n",
       "    </tr>\n",
       "    <tr>\n",
       "      <th>2020-01-03</th>\n",
       "      <td>322.410004</td>\n",
       "    </tr>\n",
       "    <tr>\n",
       "      <th>2020-01-06</th>\n",
       "      <td>323.640015</td>\n",
       "    </tr>\n",
       "    <tr>\n",
       "      <th>2020-01-07</th>\n",
       "      <td>322.730011</td>\n",
       "    </tr>\n",
       "    <tr>\n",
       "      <th>2020-01-08</th>\n",
       "      <td>324.450012</td>\n",
       "    </tr>\n",
       "  </tbody>\n",
       "</table>\n",
       "</div>"
      ],
      "text/plain": [
       "                   SPY\n",
       "Date                  \n",
       "2020-01-02  324.869995\n",
       "2020-01-03  322.410004\n",
       "2020-01-06  323.640015\n",
       "2020-01-07  322.730011\n",
       "2020-01-08  324.450012"
      ]
     },
     "execution_count": 6,
     "metadata": {},
     "output_type": "execute_result"
    }
   ],
   "source": [
    "data = data.loc[(data.index.date >= START) & (data.index.date <= END)]\n",
    "data.head(5)"
   ]
  },
  {
   "cell_type": "code",
   "execution_count": 7,
   "id": "aeef6a74-d71d-4879-affe-de5a93395ad1",
   "metadata": {},
   "outputs": [
    {
     "data": {
      "text/html": [
       "<div>\n",
       "<style scoped>\n",
       "    .dataframe tbody tr th:only-of-type {\n",
       "        vertical-align: middle;\n",
       "    }\n",
       "\n",
       "    .dataframe tbody tr th {\n",
       "        vertical-align: top;\n",
       "    }\n",
       "\n",
       "    .dataframe thead th {\n",
       "        text-align: right;\n",
       "    }\n",
       "</style>\n",
       "<table border=\"1\" class=\"dataframe\">\n",
       "  <thead>\n",
       "    <tr style=\"text-align: right;\">\n",
       "      <th></th>\n",
       "      <th>SPY</th>\n",
       "      <th>SPY_ret</th>\n",
       "      <th>SPY_ret_shifted</th>\n",
       "    </tr>\n",
       "    <tr>\n",
       "      <th>Date</th>\n",
       "      <th></th>\n",
       "      <th></th>\n",
       "      <th></th>\n",
       "    </tr>\n",
       "  </thead>\n",
       "  <tbody>\n",
       "    <tr>\n",
       "      <th>2020-01-02</th>\n",
       "      <td>324.869995</td>\n",
       "      <td>NaN</td>\n",
       "      <td>-0.007572</td>\n",
       "    </tr>\n",
       "    <tr>\n",
       "      <th>2020-01-03</th>\n",
       "      <td>322.410004</td>\n",
       "      <td>-0.007572</td>\n",
       "      <td>0.003815</td>\n",
       "    </tr>\n",
       "    <tr>\n",
       "      <th>2020-01-06</th>\n",
       "      <td>323.640015</td>\n",
       "      <td>0.003815</td>\n",
       "      <td>-0.002812</td>\n",
       "    </tr>\n",
       "    <tr>\n",
       "      <th>2020-01-07</th>\n",
       "      <td>322.730011</td>\n",
       "      <td>-0.002812</td>\n",
       "      <td>0.005330</td>\n",
       "    </tr>\n",
       "    <tr>\n",
       "      <th>2020-01-08</th>\n",
       "      <td>324.450012</td>\n",
       "      <td>0.005330</td>\n",
       "      <td>0.006781</td>\n",
       "    </tr>\n",
       "  </tbody>\n",
       "</table>\n",
       "</div>"
      ],
      "text/plain": [
       "                   SPY   SPY_ret  SPY_ret_shifted\n",
       "Date                                             \n",
       "2020-01-02  324.869995       NaN        -0.007572\n",
       "2020-01-03  322.410004 -0.007572         0.003815\n",
       "2020-01-06  323.640015  0.003815        -0.002812\n",
       "2020-01-07  322.730011 -0.002812         0.005330\n",
       "2020-01-08  324.450012  0.005330         0.006781"
      ]
     },
     "execution_count": 7,
     "metadata": {},
     "output_type": "execute_result"
    }
   ],
   "source": [
    "data[f\"{TICKER}_ret\"] = data[TICKER].pct_change()\n",
    "data[f\"{TICKER}_ret_shifted\"] = data[f\"{TICKER}_ret\"].shift(-1)\n",
    "data.head(5)"
   ]
  },
  {
   "cell_type": "code",
   "execution_count": 8,
   "id": "f4bc94d8-d0a7-4cb2-8f18-e2d2ced7c589",
   "metadata": {},
   "outputs": [
    {
     "data": {
      "text/html": [
       "<div>\n",
       "<style scoped>\n",
       "    .dataframe tbody tr th:only-of-type {\n",
       "        vertical-align: middle;\n",
       "    }\n",
       "\n",
       "    .dataframe tbody tr th {\n",
       "        vertical-align: top;\n",
       "    }\n",
       "\n",
       "    .dataframe thead th {\n",
       "        text-align: right;\n",
       "    }\n",
       "</style>\n",
       "<table border=\"1\" class=\"dataframe\">\n",
       "  <thead>\n",
       "    <tr style=\"text-align: right;\">\n",
       "      <th></th>\n",
       "      <th>SPY</th>\n",
       "      <th>SPY_ret</th>\n",
       "      <th>SPY_ret_shifted</th>\n",
       "      <th>rsi</th>\n",
       "    </tr>\n",
       "    <tr>\n",
       "      <th>Date</th>\n",
       "      <th></th>\n",
       "      <th></th>\n",
       "      <th></th>\n",
       "      <th></th>\n",
       "    </tr>\n",
       "  </thead>\n",
       "  <tbody>\n",
       "    <tr>\n",
       "      <th>2020-01-02</th>\n",
       "      <td>324.869995</td>\n",
       "      <td>NaN</td>\n",
       "      <td>-0.007572</td>\n",
       "      <td>NaN</td>\n",
       "    </tr>\n",
       "    <tr>\n",
       "      <th>2020-01-03</th>\n",
       "      <td>322.410004</td>\n",
       "      <td>-0.007572</td>\n",
       "      <td>0.003815</td>\n",
       "      <td>0.000000</td>\n",
       "    </tr>\n",
       "    <tr>\n",
       "      <th>2020-01-06</th>\n",
       "      <td>323.640015</td>\n",
       "      <td>0.003815</td>\n",
       "      <td>-0.002812</td>\n",
       "      <td>33.333609</td>\n",
       "    </tr>\n",
       "    <tr>\n",
       "      <th>2020-01-07</th>\n",
       "      <td>322.730011</td>\n",
       "      <td>-0.002812</td>\n",
       "      <td>0.005330</td>\n",
       "      <td>57.476755</td>\n",
       "    </tr>\n",
       "    <tr>\n",
       "      <th>2020-01-08</th>\n",
       "      <td>324.450012</td>\n",
       "      <td>0.005330</td>\n",
       "      <td>0.006781</td>\n",
       "      <td>65.399165</td>\n",
       "    </tr>\n",
       "  </tbody>\n",
       "</table>\n",
       "</div>"
      ],
      "text/plain": [
       "                   SPY   SPY_ret  SPY_ret_shifted        rsi\n",
       "Date                                                        \n",
       "2020-01-02  324.869995       NaN        -0.007572        NaN\n",
       "2020-01-03  322.410004 -0.007572         0.003815   0.000000\n",
       "2020-01-06  323.640015  0.003815        -0.002812  33.333609\n",
       "2020-01-07  322.730011 -0.002812         0.005330  57.476755\n",
       "2020-01-08  324.450012  0.005330         0.006781  65.399165"
      ]
     },
     "execution_count": 8,
     "metadata": {},
     "output_type": "execute_result"
    }
   ],
   "source": [
    "data[\"rsi\"] = calculate_rsi(close_px=data[TICKER], window=XDAY)\n",
    "data.head(5)"
   ]
  },
  {
   "cell_type": "code",
   "execution_count": null,
   "id": "c715d1fb-1799-4c54-bf87-5fac40f15813",
   "metadata": {},
   "outputs": [],
   "source": []
  },
  {
   "cell_type": "code",
   "execution_count": 9,
   "id": "7cc2209a-eb64-493d-951e-b7b922d1bae5",
   "metadata": {},
   "outputs": [
    {
     "data": {
      "text/html": [
       "<div>\n",
       "<style scoped>\n",
       "    .dataframe tbody tr th:only-of-type {\n",
       "        vertical-align: middle;\n",
       "    }\n",
       "\n",
       "    .dataframe tbody tr th {\n",
       "        vertical-align: top;\n",
       "    }\n",
       "\n",
       "    .dataframe thead th {\n",
       "        text-align: right;\n",
       "    }\n",
       "</style>\n",
       "<table border=\"1\" class=\"dataframe\">\n",
       "  <thead>\n",
       "    <tr style=\"text-align: right;\">\n",
       "      <th></th>\n",
       "      <th>SPY</th>\n",
       "      <th>SPY_ret</th>\n",
       "      <th>SPY_ret_shifted</th>\n",
       "      <th>rsi</th>\n",
       "      <th>entry_flag</th>\n",
       "      <th>exit_flag</th>\n",
       "    </tr>\n",
       "    <tr>\n",
       "      <th>Date</th>\n",
       "      <th></th>\n",
       "      <th></th>\n",
       "      <th></th>\n",
       "      <th></th>\n",
       "      <th></th>\n",
       "      <th></th>\n",
       "    </tr>\n",
       "  </thead>\n",
       "  <tbody>\n",
       "    <tr>\n",
       "      <th>2020-01-02</th>\n",
       "      <td>324.869995</td>\n",
       "      <td>NaN</td>\n",
       "      <td>-0.007572</td>\n",
       "      <td>NaN</td>\n",
       "      <td>False</td>\n",
       "      <td>False</td>\n",
       "    </tr>\n",
       "    <tr>\n",
       "      <th>2020-01-03</th>\n",
       "      <td>322.410004</td>\n",
       "      <td>-0.007572</td>\n",
       "      <td>0.003815</td>\n",
       "      <td>0.000000</td>\n",
       "      <td>True</td>\n",
       "      <td>False</td>\n",
       "    </tr>\n",
       "    <tr>\n",
       "      <th>2020-01-06</th>\n",
       "      <td>323.640015</td>\n",
       "      <td>0.003815</td>\n",
       "      <td>-0.002812</td>\n",
       "      <td>33.333609</td>\n",
       "      <td>False</td>\n",
       "      <td>True</td>\n",
       "    </tr>\n",
       "    <tr>\n",
       "      <th>2020-01-07</th>\n",
       "      <td>322.730011</td>\n",
       "      <td>-0.002812</td>\n",
       "      <td>0.005330</td>\n",
       "      <td>57.476755</td>\n",
       "      <td>False</td>\n",
       "      <td>False</td>\n",
       "    </tr>\n",
       "    <tr>\n",
       "      <th>2020-01-08</th>\n",
       "      <td>324.450012</td>\n",
       "      <td>0.005330</td>\n",
       "      <td>0.006781</td>\n",
       "      <td>65.399165</td>\n",
       "      <td>False</td>\n",
       "      <td>True</td>\n",
       "    </tr>\n",
       "  </tbody>\n",
       "</table>\n",
       "</div>"
      ],
      "text/plain": [
       "                   SPY   SPY_ret  SPY_ret_shifted        rsi  entry_flag  \\\n",
       "Date                                                                       \n",
       "2020-01-02  324.869995       NaN        -0.007572        NaN       False   \n",
       "2020-01-03  322.410004 -0.007572         0.003815   0.000000        True   \n",
       "2020-01-06  323.640015  0.003815        -0.002812  33.333609       False   \n",
       "2020-01-07  322.730011 -0.002812         0.005330  57.476755       False   \n",
       "2020-01-08  324.450012  0.005330         0.006781  65.399165       False   \n",
       "\n",
       "            exit_flag  \n",
       "Date                   \n",
       "2020-01-02      False  \n",
       "2020-01-03      False  \n",
       "2020-01-06       True  \n",
       "2020-01-07      False  \n",
       "2020-01-08       True  "
      ]
     },
     "execution_count": 9,
     "metadata": {},
     "output_type": "execute_result"
    }
   ],
   "source": [
    "data[\"entry_flag\"] = data[\"rsi\"] < 20\n",
    "data[\"exit_flag\"] = data[TICKER] > data[TICKER].shift(1)\n",
    "data.head(5)"
   ]
  },
  {
   "cell_type": "code",
   "execution_count": 10,
   "id": "42312175-58b2-4067-a5f5-a574c535892a",
   "metadata": {},
   "outputs": [
    {
     "data": {
      "text/html": [
       "<div>\n",
       "<style scoped>\n",
       "    .dataframe tbody tr th:only-of-type {\n",
       "        vertical-align: middle;\n",
       "    }\n",
       "\n",
       "    .dataframe tbody tr th {\n",
       "        vertical-align: top;\n",
       "    }\n",
       "\n",
       "    .dataframe thead th {\n",
       "        text-align: right;\n",
       "    }\n",
       "</style>\n",
       "<table border=\"1\" class=\"dataframe\">\n",
       "  <thead>\n",
       "    <tr style=\"text-align: right;\">\n",
       "      <th></th>\n",
       "      <th>SPY</th>\n",
       "      <th>SPY_ret</th>\n",
       "      <th>SPY_ret_shifted</th>\n",
       "      <th>rsi</th>\n",
       "      <th>entry_flag</th>\n",
       "      <th>exit_flag</th>\n",
       "      <th>pos</th>\n",
       "    </tr>\n",
       "    <tr>\n",
       "      <th>Date</th>\n",
       "      <th></th>\n",
       "      <th></th>\n",
       "      <th></th>\n",
       "      <th></th>\n",
       "      <th></th>\n",
       "      <th></th>\n",
       "      <th></th>\n",
       "    </tr>\n",
       "  </thead>\n",
       "  <tbody>\n",
       "    <tr>\n",
       "      <th>2020-01-03</th>\n",
       "      <td>322.410004</td>\n",
       "      <td>-0.007572</td>\n",
       "      <td>0.003815</td>\n",
       "      <td>0.000000</td>\n",
       "      <td>True</td>\n",
       "      <td>False</td>\n",
       "      <td>1</td>\n",
       "    </tr>\n",
       "    <tr>\n",
       "      <th>2020-01-06</th>\n",
       "      <td>323.640015</td>\n",
       "      <td>0.003815</td>\n",
       "      <td>-0.002812</td>\n",
       "      <td>33.333609</td>\n",
       "      <td>False</td>\n",
       "      <td>True</td>\n",
       "      <td>0</td>\n",
       "    </tr>\n",
       "    <tr>\n",
       "      <th>2020-01-07</th>\n",
       "      <td>322.730011</td>\n",
       "      <td>-0.002812</td>\n",
       "      <td>0.005330</td>\n",
       "      <td>57.476755</td>\n",
       "      <td>False</td>\n",
       "      <td>False</td>\n",
       "      <td>0</td>\n",
       "    </tr>\n",
       "    <tr>\n",
       "      <th>2020-01-08</th>\n",
       "      <td>324.450012</td>\n",
       "      <td>0.005330</td>\n",
       "      <td>0.006781</td>\n",
       "      <td>65.399165</td>\n",
       "      <td>False</td>\n",
       "      <td>True</td>\n",
       "      <td>0</td>\n",
       "    </tr>\n",
       "    <tr>\n",
       "      <th>2020-01-09</th>\n",
       "      <td>326.649994</td>\n",
       "      <td>0.006781</td>\n",
       "      <td>-0.002878</td>\n",
       "      <td>100.000000</td>\n",
       "      <td>False</td>\n",
       "      <td>True</td>\n",
       "      <td>0</td>\n",
       "    </tr>\n",
       "  </tbody>\n",
       "</table>\n",
       "</div>"
      ],
      "text/plain": [
       "                   SPY   SPY_ret  SPY_ret_shifted         rsi  entry_flag  \\\n",
       "Date                                                                        \n",
       "2020-01-03  322.410004 -0.007572         0.003815    0.000000        True   \n",
       "2020-01-06  323.640015  0.003815        -0.002812   33.333609       False   \n",
       "2020-01-07  322.730011 -0.002812         0.005330   57.476755       False   \n",
       "2020-01-08  324.450012  0.005330         0.006781   65.399165       False   \n",
       "2020-01-09  326.649994  0.006781        -0.002878  100.000000       False   \n",
       "\n",
       "            exit_flag  pos  \n",
       "Date                        \n",
       "2020-01-03      False    1  \n",
       "2020-01-06       True    0  \n",
       "2020-01-07      False    0  \n",
       "2020-01-08       True    0  \n",
       "2020-01-09       True    0  "
      ]
     },
     "execution_count": 10,
     "metadata": {},
     "output_type": "execute_result"
    }
   ],
   "source": [
    "# Get Position\n",
    "def get_position(row: pd.Series, last_position: int) -> int:\n",
    "    if row[\"entry_flag\"]:\n",
    "        return 1\n",
    "    if last_position == 0:\n",
    "        return 0\n",
    "    if row[\"exit_flag\"]:\n",
    "        return 0\n",
    "    return last_position\n",
    "\n",
    "positions = dict()\n",
    "pos = 0\n",
    "for date, row in data.iterrows():\n",
    "    pos = get_position(row=row, last_position=pos)\n",
    "    positions[date] = pos\n",
    "\n",
    "data[\"pos\"] = pd.Series(positions, dtype=int)\n",
    "data.dropna().head(5)"
   ]
  },
  {
   "cell_type": "code",
   "execution_count": null,
   "id": "48b3f633-3553-4aa5-a84a-551f531519d7",
   "metadata": {},
   "outputs": [],
   "source": []
  },
  {
   "cell_type": "code",
   "execution_count": 11,
   "id": "c04ea614-b529-4442-9d14-cbdb6eda976f",
   "metadata": {},
   "outputs": [],
   "source": [
    "data[\"strat_ret\"] = data[f\"{TICKER}_ret_shifted\"] * data[\"pos\"]\n",
    "data[\"adj_strat_ret\"] = data[\"strat_ret\"] / data[\"pos\"].expanding(min_periods=10).mean().fillna(1.0)"
   ]
  },
  {
   "cell_type": "code",
   "execution_count": 12,
   "id": "cb854611-7693-4af0-a4a6-256c875e7fb9",
   "metadata": {},
   "outputs": [],
   "source": [
    "data[\"cum_strat_ret\"] = (1 + data[\"strat_ret\"]).cumprod() - 1\n",
    "data[\"cum_adj_strat_ret\"] = (1 + data[\"adj_strat_ret\"]).cumprod() - 1\n",
    "data[\"cum_hodl_ret\"] = (1 + data[f\"{TICKER}_ret_shifted\"]).cumprod() - 1"
   ]
  },
  {
   "cell_type": "code",
   "execution_count": 13,
   "id": "cbc957ab-1fe4-4008-95fe-081767e73592",
   "metadata": {},
   "outputs": [],
   "source": [
    "import matplotlib.pyplot as plt"
   ]
  },
  {
   "cell_type": "code",
   "execution_count": 14,
   "id": "755b66b7-7da4-4676-a67a-9abaaf511e9d",
   "metadata": {},
   "outputs": [
    {
     "data": {
      "image/png": "[encoded data removed]",
      "text/plain": [
       "<Figure size 1500x700 with 1 Axes>"
      ]
     },
     "metadata": {},
     "output_type": "display_data"
    }
   ],
   "source": [
    "fig, ax = plt.subplots(figsize=(15, 7))\n",
    "\n",
    "ax.plot(data[\"cum_strat_ret\"], label=\"Strategy\")\n",
    "ax.plot(data[\"cum_hodl_ret\"], label=\"HODL\")\n",
    "ax.axhline(y=0, label=\"Breakeven\", color=\"gold\")\n",
    "ax.fill_between(data.index.tolist(), data[\"cum_strat_ret\"] - data[\"cum_hodl_ret\"], alpha=0.2)\n",
    "\n",
    "plt.legend(loc=\"best\")\n",
    "plt.show()\n"
   ]
  },
  {
   "cell_type": "code",
   "execution_count": 19,
   "id": "21a547a8-0cda-4ca9-a975-942985b4da0f",
   "metadata": {},
   "outputs": [
    {
     "data": {
      "text/plain": [
       "13.37905085281012"
      ]
     },
     "execution_count": 19,
     "metadata": {},
     "output_type": "execute_result"
    }
   ],
   "source": [
    "data[\"strat_ret\"].loc[data[\"pos\"] != 0.0].mean() * 10_000"
   ]
  },
  {
   "cell_type": "code",
   "execution_count": 21,
   "id": "41265610-40a2-4356-ab05-b6ef6da7fe80",
   "metadata": {},
   "outputs": [
    {
     "data": {
      "text/plain": [
       "5.09534616682685"
      ]
     },
     "execution_count": 21,
     "metadata": {},
     "output_type": "execute_result"
    }
   ],
   "source": [
    "data[f\"{TICKER}_ret_shifted\"].mean() * 10_000"
   ]
  },
  {
   "cell_type": "code",
   "execution_count": null,
   "id": "b43b0b2d-81db-4fb0-b28e-5484529226ac",
   "metadata": {},
   "outputs": [],
   "source": [
    "(1 + data[f\"{TICKER}_ret_shifted\"].mean()) ** 3 = 1 + data[\"strat_ret\"].loc[data[\"pos\"] != 0.0].mean()"
   ]
  },
  {
   "cell_type": "code",
   "execution_count": 22,
   "id": "3b128f9e-f0ed-4cd7-baf8-374902743750",
   "metadata": {},
   "outputs": [],
   "source": [
    "import numpy as np"
   ]
  },
  {
   "cell_type": "code",
   "execution_count": 23,
   "id": "91581078-5065-4761-ad2e-05d7e76c32e1",
   "metadata": {},
   "outputs": [
    {
     "data": {
      "text/plain": [
       "2.624652853231767"
      ]
     },
     "execution_count": 23,
     "metadata": {},
     "output_type": "execute_result"
    }
   ],
   "source": [
    "np.log(1 + data[\"strat_ret\"].loc[data[\"pos\"] != 0.0].mean()) / np.log(1 + data[f\"{TICKER}_ret_shifted\"].mean())"
   ]
  },
  {
   "cell_type": "code",
   "execution_count": null,
   "id": "d94268f1-cf81-4d4b-b5f2-68240704e7c4",
   "metadata": {},
   "outputs": [],
   "source": []
  },
  {
   "cell_type": "code",
   "execution_count": null,
   "id": "8e118a9c-f555-4b3c-a952-40ccbeb7cd42",
   "metadata": {},
   "outputs": [],
   "source": []
  }
 ],
 "metadata": {
  "kernelspec": {
   "display_name": "Python 3 (ipykernel)",
   "language": "python",
   "name": "python3"
  },
  "language_info": {
   "codemirror_mode": {
    "name": "ipython",
    "version": 3
   },
   "file_extension": ".py",
   "mimetype": "text/x-python",
   "name": "python",
   "nbconvert_exporter": "python",
   "pygments_lexer": "ipython3",
   "version": "3.11.0"
  }
 },
 "nbformat": 4,
 "nbformat_minor": 5
}
