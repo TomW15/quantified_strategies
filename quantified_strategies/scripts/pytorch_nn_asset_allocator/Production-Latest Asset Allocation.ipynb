{
 "cells": [
  {
   "cell_type": "code",
   "execution_count": 1,
   "id": "10fc2577-0c86-44fe-9569-f7bd274dc732",
   "metadata": {},
   "outputs": [],
   "source": [
    "# Title:"
   ]
  },
  {
   "cell_type": "code",
   "execution_count": 26,
   "id": "dc5f7df6-6f5b-4863-be2d-00f37a418154",
   "metadata": {},
   "outputs": [],
   "source": [
    "# packages\n",
    "import datetime as dt\n",
    "import pandas as pd\n",
    "\n",
    "import model\n",
    "import utils"
   ]
  },
  {
   "cell_type": "code",
   "execution_count": 9,
   "id": "a4568554-a5a6-4564-a283-6bfa34b8155d",
   "metadata": {},
   "outputs": [
    {
     "name": "stdout",
     "output_type": "stream",
     "text": [
      "May need to change to fit other strategy\n"
     ]
    }
   ],
   "source": []
  },
  {
   "cell_type": "code",
   "execution_count": 20,
   "id": "cef71855-ec78-4201-9ec7-53f4467cecec",
   "metadata": {},
   "outputs": [],
   "source": [
    "from loguru import logger\n",
    "import typing as t\n",
    "\n",
    "from quantified_strategies.event_trading import russell_rebalance, super_bowl\n",
    "from quantified_strategies.overnight_trading import short_term_reversal\n",
    "from quantified_strategies.seasonal_trading import (\n",
    "    buy_when_yields_are_low, pay_day_strategy, santa_claus_strategy, september_bear, tax_day_strategy, turn_around_tuesday_strategy)\n",
    "from quantified_strategies.technical_trading import contrarian_trading\n",
    "\n",
    "from quantified_strategies import strategy_utils\n",
    "\n",
    "def get_active_strategies(strategy_map: t.Dict[str, str | t.List[str]], date: dt.date, verbose: bool = True) -> t.Dict[str, t.List[str]]:\n",
    "    \n",
    "    strategy_map_list = {strat: universe if isinstance(universe, list) else [universe] for strat, universe in strategy_map.items()}\n",
    "\n",
    "    active_strats = {strat: [] for strat in strategy_map.keys()}\n",
    "    \n",
    "    if (tickers := strategy_map_list.get(\"russell_rebalance\")) and russell_rebalance.activity.is_active(date=date):\n",
    "        if verbose:\n",
    "            logger.info(f\"Active: 'russell_rebalance' -> {','.join(tickers)}\")\n",
    "        active_strats[\"russell_rebalance\"] += tickers\n",
    "        \n",
    "    if (tickers := strategy_map_list.get(\"super_bowl\")) and super_bowl.activity.is_active(date=date):\n",
    "        if verbose:\n",
    "            logger.info(f\"Active: 'super_bowl' -> {','.join(tickers)}\")\n",
    "        active_strats[\"super_bowl\"] += tickers\n",
    "        \n",
    "    if tickers := strategy_map_list.get(\"short_term_reversal\"):\n",
    "        for ticker in tickers:\n",
    "            if short_term_reversal.activity.is_active(data=short_term_reversal.utils.fetch(ticker=ticker), date=date):\n",
    "                if verbose:\n",
    "                    logger.info(f\"Active: 'short_term_reversal' -> {ticker!r}\")\n",
    "                active_strats[\"short_term_reversal\"].append(ticker)\n",
    "        \n",
    "    if (tickers := strategy_map_list.get(\"buy_when_yields_are_low\")) and buy_when_yields_are_low.activity.is_active(treasury=buy_when_yields_are_low.utils.fetch_treasury(), date=date, window=15):\n",
    "        if verbose:\n",
    "            logger.info(f\"Active: 'buy_when_yields_are_low' -> {','.join(tickers)}\")\n",
    "        active_strats[\"buy_when_yields_are_low\"] += tickers\n",
    "        \n",
    "    if (tickers := strategy_map_list.get(\"pay_day_strategy\")) and pay_day_strategy.activity.is_active(date=date):\n",
    "        if verbose:\n",
    "            logger.info(f\"Active: 'pay_day_strategy' -> {','.join(tickers)}\")\n",
    "        active_strats[\"pay_day_strategy\"] += tickers\n",
    "        \n",
    "    if (tickers := strategy_map_list.get(\"sankt_nikolaus_strategy\")) and santa_claus_strategy.sankt_nikolaus.activity.is_active(date=date):\n",
    "        if verbose:\n",
    "            logger.info(f\"Active: 'sankt_nikolaus_strategy' -> {','.join(tickers)}\")\n",
    "        active_strats[\"sankt_nikolaus_strategy\"] += tickers\n",
    "        \n",
    "    if (tickers := strategy_map_list.get(\"santa_claus_strategy\")) and santa_claus_strategy.santa_claus.activity.is_active(date=date):\n",
    "        if verbose:\n",
    "            logger.info(f\"Active: 'santa_claus_strategy' -> {','.join(tickers)}\")\n",
    "        active_strats[\"santa_claus_strategy\"] += tickers\n",
    "        \n",
    "    if (tickers := strategy_map_list.get(\"september_bear\")) and september_bear.activity.is_active(data=None, date=date, xday=4, week_enter=3, cover_duration=1):\n",
    "        if verbose:\n",
    "            logger.info(f\"Active: 'september_bear' -> {','.join(tickers)}\")\n",
    "        active_strats[\"september_bear\"] += tickers\n",
    "        \n",
    "    if (tickers := strategy_map_list.get(\"tax_day_strategy\")) and tax_day_strategy.activity.is_active(data=None, date=date, enter_before=dict(month=3, day=31), exit_after=dict(month=4, day=15)):\n",
    "        if verbose:\n",
    "            logger.info(f\"Active: 'tax_day_strategy' -> {','.join(tickers)}\")\n",
    "        active_strats[\"tax_day_strategy\"] += tickers\n",
    "        \n",
    "    if tickers := strategy_map_list.get(\"turn_around_tuesday_strategy\"):\n",
    "        for ticker in tickers:\n",
    "            if turn_around_tuesday_strategy.activity.is_active(data=turn_around_tuesday_strategy.utils.fetch(ticker=ticker), date=date):\n",
    "                if verbose:\n",
    "                    logger.info(f\"Active: 'turn_around_tuesday_strategy' -> {ticker!r}\")\n",
    "                active_strats[\"turn_around_tuesday_strategy\"].append(ticker)\n",
    "\n",
    "    active_strats = {strat: tickers for strat, tickers in active_strats.items() if len(tickers)}\n",
    "\n",
    "    return active_strats\n"
   ]
  },
  {
   "cell_type": "code",
   "execution_count": 59,
   "id": "1475ff33-3f10-43d2-8f73-f02b8f7fb75b",
   "metadata": {},
   "outputs": [
    {
     "data": {
      "text/plain": [
       "{'super_bowl': ['VUSA.L', 'CNX1.L'],\n",
       " 'short_term_reversal': ['VUSA.L', 'CNX1.L'],\n",
       " 'pay_day_strategy': ['VUSA.L', 'CNX1.L'],\n",
       " 'santa_claus_strategy': ['VUSA.L', 'CNX1.L'],\n",
       " 'september_bear': ['VUSA.L', 'CNX1.L'],\n",
       " 'tax_day_strategy': ['VUSA.L', 'CNX1.L'],\n",
       " 'turn_around_tuesday_strategy': ['VUSA.L', 'CNX1.L']}"
      ]
     },
     "execution_count": 59,
     "metadata": {},
     "output_type": "execute_result"
    }
   ],
   "source": [
    "TRADABLES = [\"VUSA.L\", \"CNX1.L\"]\n",
    "ASSETS = TRADABLES + [utils.CASH]\n",
    "calc_date = dt.date(2024, 3, 1)\n",
    "\n",
    "STRATEGY_UNIVERSE_MAP = {\n",
    "    \"super_bowl\": TRADABLES,\n",
    "    \"short_term_reversal\": TRADABLES,\n",
    "    # \"buy_when_yields_are_low\": TRADABLES,\n",
    "    \"pay_day_strategy\": TRADABLES,\n",
    "    \"santa_claus_strategy\": TRADABLES,\n",
    "    \"september_bear\": TRADABLES,\n",
    "    \"tax_day_strategy\": TRADABLES,\n",
    "    \"turn_around_tuesday_strategy\": TRADABLES,\n",
    "}\n",
    "STRATEGY_UNIVERSE_MAP"
   ]
  },
  {
   "cell_type": "code",
   "execution_count": 60,
   "id": "16e6a662-20ff-4821-a95e-6e07e8924f9b",
   "metadata": {},
   "outputs": [
    {
     "name": "stderr",
     "output_type": "stream",
     "text": [
      "\u001b[32m2024-03-02 12:45:05.460\u001b[0m | \u001b[1mINFO    \u001b[0m | \u001b[36m__main__\u001b[0m:\u001b[36mget_active_strategies\u001b[0m:\u001b[36m42\u001b[0m - \u001b[1mActive: 'pay_day_strategy' -> VUSA.L,CNX1.L\u001b[0m\n"
     ]
    },
    {
     "data": {
      "text/plain": [
       "{'pay_day_strategy': ['VUSA.L', 'CNX1.L']}"
      ]
     },
     "execution_count": 60,
     "metadata": {},
     "output_type": "execute_result"
    }
   ],
   "source": [
    "# Fetch active strategies\n",
    "active_strategies = get_active_strategies(strategy_map=STRATEGY_UNIVERSE_MAP, date=calc_date)\n",
    "active_strategies"
   ]
  },
  {
   "cell_type": "code",
   "execution_count": 61,
   "id": "02c2176d-1c88-4e03-a0e1-be8208a7c2ab",
   "metadata": {},
   "outputs": [
    {
     "data": {
      "text/plain": [
       "{'pay_day_strategy': ['VUSA.L', 'CNX1.L']}"
      ]
     },
     "execution_count": 61,
     "metadata": {},
     "output_type": "execute_result"
    }
   ],
   "source": [
    "active_strategies"
   ]
  },
  {
   "cell_type": "code",
   "execution_count": 62,
   "id": "36350efb-06b1-47ce-85a2-8319b52a55d4",
   "metadata": {},
   "outputs": [
    {
     "data": {
      "text/html": [
       "<div>\n",
       "<style scoped>\n",
       "    .dataframe tbody tr th:only-of-type {\n",
       "        vertical-align: middle;\n",
       "    }\n",
       "\n",
       "    .dataframe tbody tr th {\n",
       "        vertical-align: top;\n",
       "    }\n",
       "\n",
       "    .dataframe thead tr th {\n",
       "        text-align: left;\n",
       "    }\n",
       "</style>\n",
       "<table border=\"1\" class=\"dataframe\">\n",
       "  <thead>\n",
       "    <tr>\n",
       "      <th></th>\n",
       "      <th colspan=\"2\" halign=\"left\">super_bowl</th>\n",
       "      <th colspan=\"2\" halign=\"left\">short_term_reversal</th>\n",
       "      <th colspan=\"2\" halign=\"left\">pay_day_strategy</th>\n",
       "      <th colspan=\"2\" halign=\"left\">santa_claus_strategy</th>\n",
       "      <th colspan=\"2\" halign=\"left\">september_bear</th>\n",
       "      <th colspan=\"2\" halign=\"left\">tax_day_strategy</th>\n",
       "      <th colspan=\"2\" halign=\"left\">turn_around_tuesday_strategy</th>\n",
       "    </tr>\n",
       "    <tr>\n",
       "      <th></th>\n",
       "      <th>VUSA.L</th>\n",
       "      <th>CNX1.L</th>\n",
       "      <th>VUSA.L</th>\n",
       "      <th>CNX1.L</th>\n",
       "      <th>VUSA.L</th>\n",
       "      <th>CNX1.L</th>\n",
       "      <th>VUSA.L</th>\n",
       "      <th>CNX1.L</th>\n",
       "      <th>VUSA.L</th>\n",
       "      <th>CNX1.L</th>\n",
       "      <th>VUSA.L</th>\n",
       "      <th>CNX1.L</th>\n",
       "      <th>VUSA.L</th>\n",
       "      <th>CNX1.L</th>\n",
       "    </tr>\n",
       "  </thead>\n",
       "  <tbody>\n",
       "    <tr>\n",
       "      <th>2024-03-01</th>\n",
       "      <td>0</td>\n",
       "      <td>0</td>\n",
       "      <td>0</td>\n",
       "      <td>0</td>\n",
       "      <td>1</td>\n",
       "      <td>1</td>\n",
       "      <td>0</td>\n",
       "      <td>0</td>\n",
       "      <td>0</td>\n",
       "      <td>0</td>\n",
       "      <td>0</td>\n",
       "      <td>0</td>\n",
       "      <td>0</td>\n",
       "      <td>0</td>\n",
       "    </tr>\n",
       "  </tbody>\n",
       "</table>\n",
       "</div>"
      ],
      "text/plain": [
       "           super_bowl        short_term_reversal        pay_day_strategy  \\\n",
       "               VUSA.L CNX1.L              VUSA.L CNX1.L           VUSA.L   \n",
       "2024-03-01          0      0                   0      0                1   \n",
       "\n",
       "                  santa_claus_strategy        september_bear         \\\n",
       "           CNX1.L               VUSA.L CNX1.L         VUSA.L CNX1.L   \n",
       "2024-03-01      1                    0      0              0      0   \n",
       "\n",
       "           tax_day_strategy        turn_around_tuesday_strategy         \n",
       "                     VUSA.L CNX1.L                       VUSA.L CNX1.L  \n",
       "2024-03-01                0      0                            0      0  "
      ]
     },
     "execution_count": 62,
     "metadata": {},
     "output_type": "execute_result"
    }
   ],
   "source": [
    "X_raw = pd.concat([pd.DataFrame(0, index=[calc_date], columns=pd.MultiIndex.from_product([[key], values])) for key, values in STRATEGY_UNIVERSE_MAP.items()], axis=1)\n",
    "for strat_name, strat_assets in active_strategies.items():\n",
    "    for strat_asset in strat_assets:\n",
    "        X_raw.loc[calc_date, (X_raw.columns.get_level_values(0) == strat_name) & (X_raw.columns.get_level_values(1) == strat_asset)] = 1\n",
    "X_raw"
   ]
  },
  {
   "cell_type": "code",
   "execution_count": null,
   "id": "014a9bad-6eb5-46b7-b7d2-1e5fb8685f49",
   "metadata": {},
   "outputs": [],
   "source": []
  },
  {
   "cell_type": "code",
   "execution_count": 63,
   "id": "b788fff2-3f38-46fa-82e9-87eb56b14b75",
   "metadata": {},
   "outputs": [
    {
     "data": {
      "text/plain": [
       "Net(\n",
       "  (fc0): Linear(in_features=17, out_features=8, bias=True)\n",
       "  (fc1): Linear(in_features=8, out_features=16, bias=True)\n",
       "  (fc2): Linear(in_features=16, out_features=8, bias=True)\n",
       "  (fc_output): Linear(in_features=8, out_features=3, bias=True)\n",
       ")"
      ]
     },
     "execution_count": 63,
     "metadata": {},
     "output_type": "execute_result"
    }
   ],
   "source": [
    "my_net = model.Net.load(input_shape=X_raw.shape[1]+len(ASSETS), output_shape=len(ASSETS), name=\"latest\")\n",
    "my_net"
   ]
  },
  {
   "cell_type": "code",
   "execution_count": 64,
   "id": "27122eb4-a30b-45e3-9cfc-8359d10b6f8c",
   "metadata": {},
   "outputs": [
    {
     "data": {
      "text/plain": [
       "VUSA.L    0.870272\n",
       "CNX1.L    0.125078\n",
       "CASH      0.004650\n",
       "dtype: float32"
      ]
     },
     "execution_count": 64,
     "metadata": {},
     "output_type": "execute_result"
    }
   ],
   "source": [
    "from torch import nn\n",
    "from quantified_strategies import ml_utils\n",
    "\n",
    "def get_allocation(net: nn.Module, X: pd.DataFrame, last_pos: pd.DataFrame):\n",
    "    \n",
    "    x = pd.concat([X, last_pos], axis=1)\n",
    "    \n",
    "    x_tensor, _ = ml_utils.convert_data_to_tensors(X=x, y=last_pos)\n",
    "    \n",
    "    last_pos2 = pd.Series(\n",
    "        net(x_tensor).reshape(-1).detach().numpy(), \n",
    "        index=last_pos.columns\n",
    "    )\n",
    "\n",
    "    return last_pos2\n",
    "\n",
    "last_position = pd.DataFrame(0.0, index=[calc_date], columns=ASSETS)\n",
    "alloc = get_allocation(net=my_net, X=X_raw, last_pos=last_position)\n",
    "alloc"
   ]
  },
  {
   "cell_type": "code",
   "execution_count": null,
   "id": "83852ffd-990a-4ac8-90c1-1db2ad65b8c8",
   "metadata": {},
   "outputs": [],
   "source": []
  },
  {
   "cell_type": "code",
   "execution_count": null,
   "id": "76aeaece-9f12-46bf-bc10-470fa6669725",
   "metadata": {},
   "outputs": [],
   "source": []
  },
  {
   "cell_type": "code",
   "execution_count": null,
   "id": "e93378e7-b7cd-4b42-8bf3-9429949ed1c4",
   "metadata": {},
   "outputs": [],
   "source": []
  },
  {
   "cell_type": "code",
   "execution_count": null,
   "id": "1ed0a24a-865f-4737-aaab-38b11144043d",
   "metadata": {},
   "outputs": [],
   "source": []
  },
  {
   "cell_type": "code",
   "execution_count": null,
   "id": "5451212d-8b23-418d-afed-e8ba157fde7b",
   "metadata": {},
   "outputs": [],
   "source": []
  },
  {
   "cell_type": "code",
   "execution_count": null,
   "id": "030a24e0-d8c5-448c-b7fe-8cf0f63c60d7",
   "metadata": {},
   "outputs": [],
   "source": []
  },
  {
   "cell_type": "code",
   "execution_count": null,
   "id": "d7bd2e12-1d20-4137-a21e-d3f0f76e5d0a",
   "metadata": {},
   "outputs": [],
   "source": []
  },
  {
   "cell_type": "code",
   "execution_count": null,
   "id": "be27eff2-d8e9-4272-bbc8-27029eadf444",
   "metadata": {},
   "outputs": [],
   "source": []
  }
 ],
 "metadata": {
  "kernelspec": {
   "display_name": "Python 3 (ipykernel)",
   "language": "python",
   "name": "python3"
  },
  "language_info": {
   "codemirror_mode": {
    "name": "ipython",
    "version": 3
   },
   "file_extension": ".py",
   "mimetype": "text/x-python",
   "name": "python",
   "nbconvert_exporter": "python",
   "pygments_lexer": "ipython3",
   "version": "3.11.0"
  }
 },
 "nbformat": 4,
 "nbformat_minor": 5
}
