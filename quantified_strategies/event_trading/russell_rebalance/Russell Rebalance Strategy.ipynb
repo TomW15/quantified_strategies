{
 "cells": [
  {
   "cell_type": "markdown",
   "id": "b0b03538-1db9-4ce6-9b7e-eecb5b396dee",
   "metadata": {},
   "source": [
    "# Russell Rebalance Strategy"
   ]
  },
  {
   "cell_type": "code",
   "execution_count": 8,
   "id": "eed06d70-a13e-4327-9f92-3a33b9b56708",
   "metadata": {},
   "outputs": [],
   "source": [
    "import datetime as dt\n",
    "import matplotlib.pyplot as plt\n",
    "import yfinance as yf\n",
    "\n",
    "import activity as act\n",
    "import available as avb\n",
    "import utils as self_utils\n",
    "from quantified_strategies import strategy_utils as utils"
   ]
  },
  {
   "cell_type": "code",
   "execution_count": 3,
   "id": "4c40a9e1-92d3-41f6-9fc2-00fafb6751b3",
   "metadata": {},
   "outputs": [],
   "source": [
    "START = dt.date(2020, 1, 1)\n",
    "END = dt.date.today()"
   ]
  },
  {
   "cell_type": "code",
   "execution_count": null,
   "id": "c84eaaec-fcb4-4dc9-9717-4d0388b29649",
   "metadata": {},
   "outputs": [],
   "source": []
  },
  {
   "cell_type": "markdown",
   "id": "443da456-468d-4633-90f2-67b087759598",
   "metadata": {},
   "source": [
    "## Rules\n",
    "\n",
    "1. Buy on the close of the first trading day after the 23rd of June.\n",
    "2. Sell on the close of the first trading day of July."
   ]
  },
  {
   "cell_type": "code",
   "execution_count": 4,
   "id": "71345228-0483-4dda-b304-779bc66fcee6",
   "metadata": {},
   "outputs": [],
   "source": [
    "TICKER = \"IWM\""
   ]
  },
  {
   "cell_type": "code",
   "execution_count": 5,
   "id": "91910a7f-72df-4589-b55f-e9677c0a292a",
   "metadata": {},
   "outputs": [
    {
     "name": "stdout",
     "output_type": "stream",
     "text": [
      "{}\n",
      "remove api from here\n"
     ]
    },
    {
     "data": {
      "text/html": [
       "<div>\n",
       "<style scoped>\n",
       "    .dataframe tbody tr th:only-of-type {\n",
       "        vertical-align: middle;\n",
       "    }\n",
       "\n",
       "    .dataframe tbody tr th {\n",
       "        vertical-align: top;\n",
       "    }\n",
       "\n",
       "    .dataframe thead th {\n",
       "        text-align: right;\n",
       "    }\n",
       "</style>\n",
       "<table border=\"1\" class=\"dataframe\">\n",
       "  <thead>\n",
       "    <tr style=\"text-align: right;\">\n",
       "      <th></th>\n",
       "      <th>asset</th>\n",
       "      <th>ret</th>\n",
       "      <th>ret_shifted</th>\n",
       "      <th>active</th>\n",
       "      <th>strat_ret</th>\n",
       "      <th>cum_strat_ret</th>\n",
       "      <th>cum_hodl_ret</th>\n",
       "      <th>enter_flag</th>\n",
       "      <th>trade_number</th>\n",
       "    </tr>\n",
       "    <tr>\n",
       "      <th>Date</th>\n",
       "      <th></th>\n",
       "      <th></th>\n",
       "      <th></th>\n",
       "      <th></th>\n",
       "      <th></th>\n",
       "      <th></th>\n",
       "      <th></th>\n",
       "      <th></th>\n",
       "      <th></th>\n",
       "    </tr>\n",
       "  </thead>\n",
       "  <tbody>\n",
       "    <tr>\n",
       "      <th>2020-01-02</th>\n",
       "      <td>157.2637</td>\n",
       "      <td>NaN</td>\n",
       "      <td>-0.003921</td>\n",
       "      <td>False</td>\n",
       "      <td>-0.0</td>\n",
       "      <td>0.000000</td>\n",
       "      <td>-0.003921</td>\n",
       "      <td>False</td>\n",
       "      <td>0</td>\n",
       "    </tr>\n",
       "    <tr>\n",
       "      <th>2020-01-03</th>\n",
       "      <td>156.6471</td>\n",
       "      <td>-0.003921</td>\n",
       "      <td>0.001332</td>\n",
       "      <td>False</td>\n",
       "      <td>0.0</td>\n",
       "      <td>0.000000</td>\n",
       "      <td>-0.002594</td>\n",
       "      <td>False</td>\n",
       "      <td>0</td>\n",
       "    </tr>\n",
       "    <tr>\n",
       "      <th>2020-01-06</th>\n",
       "      <td>156.8558</td>\n",
       "      <td>0.001332</td>\n",
       "      <td>-0.003326</td>\n",
       "      <td>False</td>\n",
       "      <td>-0.0</td>\n",
       "      <td>0.000000</td>\n",
       "      <td>-0.005911</td>\n",
       "      <td>False</td>\n",
       "      <td>0</td>\n",
       "    </tr>\n",
       "    <tr>\n",
       "      <th>2020-01-07</th>\n",
       "      <td>156.3341</td>\n",
       "      <td>-0.003326</td>\n",
       "      <td>0.003095</td>\n",
       "      <td>False</td>\n",
       "      <td>0.0</td>\n",
       "      <td>0.000000</td>\n",
       "      <td>-0.002835</td>\n",
       "      <td>False</td>\n",
       "      <td>0</td>\n",
       "    </tr>\n",
       "    <tr>\n",
       "      <th>2020-01-08</th>\n",
       "      <td>156.8179</td>\n",
       "      <td>0.003095</td>\n",
       "      <td>0.001210</td>\n",
       "      <td>False</td>\n",
       "      <td>0.0</td>\n",
       "      <td>0.000000</td>\n",
       "      <td>-0.001628</td>\n",
       "      <td>False</td>\n",
       "      <td>0</td>\n",
       "    </tr>\n",
       "    <tr>\n",
       "      <th>...</th>\n",
       "      <td>...</td>\n",
       "      <td>...</td>\n",
       "      <td>...</td>\n",
       "      <td>...</td>\n",
       "      <td>...</td>\n",
       "      <td>...</td>\n",
       "      <td>...</td>\n",
       "      <td>...</td>\n",
       "      <td>...</td>\n",
       "    </tr>\n",
       "    <tr>\n",
       "      <th>2024-02-27</th>\n",
       "      <td>204.0000</td>\n",
       "      <td>0.014169</td>\n",
       "      <td>-0.008235</td>\n",
       "      <td>False</td>\n",
       "      <td>-0.0</td>\n",
       "      <td>0.045051</td>\n",
       "      <td>0.286502</td>\n",
       "      <td>False</td>\n",
       "      <td>4</td>\n",
       "    </tr>\n",
       "    <tr>\n",
       "      <th>2024-02-28</th>\n",
       "      <td>202.3200</td>\n",
       "      <td>-0.008235</td>\n",
       "      <td>0.006969</td>\n",
       "      <td>False</td>\n",
       "      <td>0.0</td>\n",
       "      <td>0.045051</td>\n",
       "      <td>0.295467</td>\n",
       "      <td>False</td>\n",
       "      <td>4</td>\n",
       "    </tr>\n",
       "    <tr>\n",
       "      <th>2024-02-29</th>\n",
       "      <td>203.7300</td>\n",
       "      <td>0.006969</td>\n",
       "      <td>0.010602</td>\n",
       "      <td>False</td>\n",
       "      <td>0.0</td>\n",
       "      <td>0.045051</td>\n",
       "      <td>0.309202</td>\n",
       "      <td>False</td>\n",
       "      <td>4</td>\n",
       "    </tr>\n",
       "    <tr>\n",
       "      <th>2024-03-01</th>\n",
       "      <td>205.8900</td>\n",
       "      <td>0.010602</td>\n",
       "      <td>-0.000923</td>\n",
       "      <td>False</td>\n",
       "      <td>-0.0</td>\n",
       "      <td>0.045051</td>\n",
       "      <td>0.307994</td>\n",
       "      <td>False</td>\n",
       "      <td>4</td>\n",
       "    </tr>\n",
       "    <tr>\n",
       "      <th>2024-03-04</th>\n",
       "      <td>205.7000</td>\n",
       "      <td>-0.000923</td>\n",
       "      <td>NaN</td>\n",
       "      <td>False</td>\n",
       "      <td>NaN</td>\n",
       "      <td>NaN</td>\n",
       "      <td>NaN</td>\n",
       "      <td>False</td>\n",
       "      <td>4</td>\n",
       "    </tr>\n",
       "  </tbody>\n",
       "</table>\n",
       "<p>1037 rows × 9 columns</p>\n",
       "</div>"
      ],
      "text/plain": [
       "               asset       ret  ret_shifted  active  strat_ret  cum_strat_ret  \\\n",
       "Date                                                                            \n",
       "2020-01-02  157.2637       NaN    -0.003921   False       -0.0       0.000000   \n",
       "2020-01-03  156.6471 -0.003921     0.001332   False        0.0       0.000000   \n",
       "2020-01-06  156.8558  0.001332    -0.003326   False       -0.0       0.000000   \n",
       "2020-01-07  156.3341 -0.003326     0.003095   False        0.0       0.000000   \n",
       "2020-01-08  156.8179  0.003095     0.001210   False        0.0       0.000000   \n",
       "...              ...       ...          ...     ...        ...            ...   \n",
       "2024-02-27  204.0000  0.014169    -0.008235   False       -0.0       0.045051   \n",
       "2024-02-28  202.3200 -0.008235     0.006969   False        0.0       0.045051   \n",
       "2024-02-29  203.7300  0.006969     0.010602   False        0.0       0.045051   \n",
       "2024-03-01  205.8900  0.010602    -0.000923   False       -0.0       0.045051   \n",
       "2024-03-04  205.7000 -0.000923          NaN   False        NaN            NaN   \n",
       "\n",
       "            cum_hodl_ret  enter_flag  trade_number  \n",
       "Date                                                \n",
       "2020-01-02     -0.003921       False             0  \n",
       "2020-01-03     -0.002594       False             0  \n",
       "2020-01-06     -0.005911       False             0  \n",
       "2020-01-07     -0.002835       False             0  \n",
       "2020-01-08     -0.001628       False             0  \n",
       "...                  ...         ...           ...  \n",
       "2024-02-27      0.286502       False             4  \n",
       "2024-02-28      0.295467       False             4  \n",
       "2024-02-29      0.309202       False             4  \n",
       "2024-03-01      0.307994       False             4  \n",
       "2024-03-04           NaN       False             4  \n",
       "\n",
       "[1037 rows x 9 columns]"
      ]
     },
     "execution_count": 5,
     "metadata": {},
     "output_type": "execute_result"
    }
   ],
   "source": [
    "results = self_utils.run(ticker=TICKER, full=True, start=START, end=END)\n",
    "results"
   ]
  },
  {
   "cell_type": "code",
   "execution_count": 9,
   "id": "e3fc8488-4f3e-4f7e-adc5-5c2a1599bedf",
   "metadata": {},
   "outputs": [
    {
     "name": "stdout",
     "output_type": "stream",
     "text": [
      "{}\n",
      "remove api from here\n"
     ]
    }
   ],
   "source": [
    "data = utils.get_data(ticker=TICKER, columns=\"Adj Close\").to_frame(name=\"asset\")\n",
    "data = data.loc[(data.index.date >= START) & (data.index.date <= END)]\n",
    "data = self_utils.run(data=data, full=True)"
   ]
  },
  {
   "cell_type": "code",
   "execution_count": null,
   "id": "1e16f6ef-bffc-4592-91a9-973338f1aeb7",
   "metadata": {},
   "outputs": [],
   "source": []
  },
  {
   "cell_type": "code",
   "execution_count": 10,
   "id": "48a4bc1b-bc79-4eca-aa7d-825704e9b149",
   "metadata": {},
   "outputs": [
    {
     "data": {
      "text/plain": [
       "trade_number\n",
       "2020-06-23   -0.004196\n",
       "2021-06-23    0.002318\n",
       "2022-06-23    0.017664\n",
       "2023-06-23    0.028854\n",
       "Name: strat_ret, dtype: float64"
      ]
     },
     "execution_count": 10,
     "metadata": {},
     "output_type": "execute_result"
    }
   ],
   "source": [
    "trade_ret = data.dropna(subset=\"strat_ret\").groupby(\"trade_number\")[\"strat_ret\"].apply(lambda ret: utils.get_cumulative_return(returns=ret, total=True))\n",
    "trade_ret.index = trade_ret.index.map(data.loc[data[\"enter_flag\"]].reset_index().set_index(\"trade_number\")[\"Date\"].to_dict())\n",
    "trade_ret = trade_ret.loc[~trade_ret.index.isna()]\n",
    "trade_ret.head(5)"
   ]
  },
  {
   "cell_type": "markdown",
   "id": "8ba3c778-fad8-4535-b59f-b58f23524235",
   "metadata": {},
   "source": [
    "## Plot Strategy Results"
   ]
  },
  {
   "cell_type": "code",
   "execution_count": 15,
   "id": "928c957c-4d9e-47f0-b23d-6a7e3e10ca76",
   "metadata": {},
   "outputs": [
    {
     "data": {
      "image/png": "[encoded data removed]",
      "text/plain": [
       "<Figure size 1500x700 with 1 Axes>"
      ]
     },
     "metadata": {},
     "output_type": "display_data"
    }
   ],
   "source": [
    "fig, ax = plt.subplots(ncols=1, sharey=1, figsize=(15, 7))\n",
    "\n",
    "ax.axhline(y=0, label=\"Breakeven\", color=\"gold\")\n",
    "\n",
    "ax.plot(data.loc[data[\"active\"], \"cum_strat_ret\"].values, label=\"Strategy\")\n",
    "ax.set_title(f\"Russell Rebalance Strategy: {TICKER!r} (Compound)\")\n",
    "ax.legend(loc=\"best\")\n",
    "\n",
    "plt.show()"
   ]
  },
  {
   "cell_type": "markdown",
   "id": "3c5da8f2-db41-4fd5-b55e-6978ccd4bfd4",
   "metadata": {},
   "source": [
    "## Describe Strategy Results"
   ]
  },
  {
   "cell_type": "code",
   "execution_count": 16,
   "id": "49edde31-5bc0-4516-969b-ae703d22655f",
   "metadata": {},
   "outputs": [
    {
     "data": {
      "text/plain": [
       "Asset                            IWM\n",
       "Start                     2020-01-02\n",
       "End                       2024-03-04\n",
       "Mean Return                 0.16815%\n",
       "Total Return                   4.51%\n",
       "Median Return               0.28708%\n",
       "1st Quartile               -0.87101%\n",
       "3rd Quartile                1.18050%\n",
       "Std Dev Return              1.48628%\n",
       "CAGR                      15.750 bps\n",
       "Trade CAGR                    0.552%\n",
       "Ann. CAGR                    48.675%\n",
       "Activity Ratio                 2.70%\n",
       "Number of Trades                   8\n",
       "Average Hold Period        3.50 Days\n",
       "Daily Sharpe Ratio            0.1131\n",
       "Ann. Sharpe Ratio              1.796\n",
       "Adj. Ann. Sharpe Ratio        0.2951\n",
       "Daily Sortino Ratio           0.1828\n",
       "Ann. Sortino Ratio            0.4768\n",
       "Daily Calmar Ratio            1.2409\n",
       "Hit Ratio                     64.29%\n",
       "Profit Factor                  1.34x\n",
       "MDD                           -3.63%\n",
       "MDD Start                 2022-06-24\n",
       "MDD Bottom                2022-06-29\n",
       "MDD End                   2023-06-27\n",
       "MDD Decline Duration          4 Days\n",
       "MDD Recovery Duration         6 Days\n",
       "dtype: object"
      ]
     },
     "execution_count": 16,
     "metadata": {},
     "output_type": "execute_result"
    }
   ],
   "source": [
    "utils.describe(returns=data[\"strat_ret\"], pos=data[\"active\"], daily=True, asset=TICKER)"
   ]
  },
  {
   "cell_type": "code",
   "execution_count": 17,
   "id": "60635f0c-25c1-413e-a995-4361a57de16a",
   "metadata": {},
   "outputs": [
    {
     "name": "stderr",
     "output_type": "stream",
     "text": [
      "C:\\Users\\tomw1\\PycharmProjects\\quantified_strategies\\quantified_strategies\\strategy_utils.py:172: RuntimeWarning: divide by zero encountered in scalar divide\n",
      "  calmar_ratio = tot_ret / drawdown_statistics[\"max_drawdown\"]\n"
     ]
    },
    {
     "data": {
      "text/plain": [
       "Asset                             IWM\n",
       "Start                      2020-06-23\n",
       "End                        2023-06-23\n",
       "Mean Return                  1.11599%\n",
       "Total Return                    4.51%\n",
       "Median Return                0.99910%\n",
       "1st Quartile                -0.09391%\n",
       "3rd Quartile                 2.32590%\n",
       "Std Dev Return               1.49372%\n",
       "CAGR                      110.773 bps\n",
       "Trade CAGR                        N/A\n",
       "Ann. CAGR                         N/A\n",
       "Activity Ratio                100.00%\n",
       "Number of Trades                  0.0\n",
       "Average Hold Period         4.00 Days\n",
       "Daily Sharpe Ratio             0.7471\n",
       "Ann. Sharpe Ratio             11.8603\n",
       "Adj. Ann. Sharpe Ratio        11.8603\n",
       "Daily Sortino Ratio               NaN\n",
       "Ann. Sortino Ratio                NaN\n",
       "Daily Calmar Ratio               -inf\n",
       "Hit Ratio                      75.00%\n",
       "Profit Factor                  11.64x\n",
       "MDD                             0.00%\n",
       "MDD Start                  2020-06-23\n",
       "MDD Bottom                 2020-06-23\n",
       "MDD End                    2021-06-23\n",
       "MDD Decline Duration           1 Days\n",
       "MDD Recovery Duration          2 Days\n",
       "dtype: object"
      ]
     },
     "execution_count": 17,
     "metadata": {},
     "output_type": "execute_result"
    }
   ],
   "source": [
    "utils.describe(returns=trade_ret, daily=False, asset=TICKER)"
   ]
  },
  {
   "cell_type": "code",
   "execution_count": null,
   "id": "70f4f756-7873-490d-a521-f96d498476c6",
   "metadata": {},
   "outputs": [],
   "source": []
  },
  {
   "cell_type": "code",
   "execution_count": null,
   "id": "97a5017c-92ca-4394-83ff-fc3b8c65dc1e",
   "metadata": {},
   "outputs": [],
   "source": []
  }
 ],
 "metadata": {
  "kernelspec": {
   "display_name": "Python 3 (ipykernel)",
   "language": "python",
   "name": "python3"
  },
  "language_info": {
   "codemirror_mode": {
    "name": "ipython",
    "version": 3
   },
   "file_extension": ".py",
   "mimetype": "text/x-python",
   "name": "python",
   "nbconvert_exporter": "python",
   "pygments_lexer": "ipython3",
   "version": "3.11.0"
  }
 },
 "nbformat": 4,
 "nbformat_minor": 5
}
